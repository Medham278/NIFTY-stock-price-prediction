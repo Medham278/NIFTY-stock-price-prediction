{
  "nbformat": 4,
  "nbformat_minor": 0,
  "metadata": {
    "colab": {
      "name": "adaniports.ipynb",
      "provenance": [],
      "collapsed_sections": []
    },
    "kernelspec": {
      "display_name": "Python 3",
      "language": "python",
      "name": "python3"
    },
    "language_info": {
      "codemirror_mode": {
        "name": "ipython",
        "version": 3
      },
      "file_extension": ".py",
      "mimetype": "text/x-python",
      "name": "python",
      "nbconvert_exporter": "python",
      "pygments_lexer": "ipython3",
      "version": "3.7.6"
    }
  },
  "cells": [
    {
      "cell_type": "code",
      "metadata": {
        "colab": {
          "base_uri": "https://localhost:8080/"
        },
        "id": "HcRb5YiK47Cv",
        "outputId": "0d8da121-adba-408f-8e24-4bfc0e4d92c6"
      },
      "source": [
        "# Jovian Commit Essentials\n",
        "# Please retain and execute this cell without modifying the contents for `jovian.commit` to work\n",
        "!pip install jovian --upgrade -q\n",
        "import jovian\n",
        "jovian.utils.colab.set_colab_file_id('1INdH_7Ul2wp9RqS079wrV_6HkuGKaT3g')"
      ],
      "execution_count": 1,
      "outputs": [
        {
          "output_type": "stream",
          "text": [
            "\u001b[?25l\r\u001b[K     |█████                           | 10kB 21.1MB/s eta 0:00:01\r\u001b[K     |██████████                      | 20kB 17.0MB/s eta 0:00:01\r\u001b[K     |██████████████▉                 | 30kB 9.1MB/s eta 0:00:01\r\u001b[K     |███████████████████▉            | 40kB 8.0MB/s eta 0:00:01\r\u001b[K     |████████████████████████▉       | 51kB 4.5MB/s eta 0:00:01\r\u001b[K     |█████████████████████████████▊  | 61kB 4.9MB/s eta 0:00:01\r\u001b[K     |████████████████████████████████| 71kB 3.5MB/s \n",
            "\u001b[?25h  Building wheel for uuid (setup.py) ... \u001b[?25l\u001b[?25hdone\n"
          ],
          "name": "stdout"
        }
      ]
    },
    {
      "cell_type": "markdown",
      "metadata": {
        "id": "XY5g4qT96Csy"
      },
      "source": [
        "#NIFTY 50 : ADANI PORTS STOCK PRICE PREDICTION\r\n",
        "Final Assignment/Project for \"Deep Learning: Zero to GANs\" course by Medha Mathur.\r\n"
      ]
    },
    {
      "cell_type": "code",
      "metadata": {
        "id": "6ydlvFx_7CGW"
      },
      "source": [
        "import torch\r\n",
        "import jovian\r\n",
        "import torchvision\r\n",
        "import torch.nn as nn\r\n",
        "import pandas as pd\r\n",
        "import matplotlib.pyplot as plt\r\n",
        "import torch.nn.functional as F\r\n",
        "from torchvision.datasets.utils import download_url\r\n",
        "from torch.utils.data import DataLoader, TensorDataset, random_split"
      ],
      "execution_count": 2,
      "outputs": []
    },
    {
      "cell_type": "code",
      "metadata": {
        "id": "Q-plbNIZ7HQO"
      },
      "source": [
        "import matplotlib\r\n",
        "import matplotlib.pyplot as plt\r\n",
        "import seaborn as sns"
      ],
      "execution_count": 3,
      "outputs": []
    },
    {
      "cell_type": "code",
      "metadata": {
        "id": "62XBb4fkb1jD"
      },
      "source": [
        "import numpy as np\r\n",
        "import datetime as dt\r\n",
        "from datetime import datetime\r\n",
        "\r\n",
        "from sklearn.preprocessing import MinMaxScaler\r\n",
        "\r\n",
        "### Create the Stacked LSTM model\r\n",
        "from tensorflow.keras.models import Sequential\r\n",
        "from tensorflow.keras.layers import Dense\r\n",
        "from tensorflow.keras.layers import LSTM\r\n",
        "from keras.layers import Dropout"
      ],
      "execution_count": 4,
      "outputs": []
    },
    {
      "cell_type": "code",
      "metadata": {
        "id": "bSyL0k4X7KJv"
      },
      "source": [
        "sns.set_style(\"darkgrid\")\r\n",
        "matplotlib.rcParams['font.size'] = 10\r\n",
        "matplotlib.rcParams['figure.figsize'] = (9, 5)\r\n",
        "matplotlib.rcParams['figure.facecolor'] = '#00000000'"
      ],
      "execution_count": 5,
      "outputs": []
    },
    {
      "cell_type": "code",
      "metadata": {
        "id": "PqbbkLB77NRA"
      },
      "source": [
        "project_name='nifty-50-stock-price-prediction_02'"
      ],
      "execution_count": 6,
      "outputs": []
    },
    {
      "cell_type": "markdown",
      "metadata": {
        "id": "glulRyvt6ZBp"
      },
      "source": [
        "Dataset taken from :\r\n",
        "\r\n",
        "https://in.finance.yahoo.com/quote/ADANIPORTS.NS/history?period1=1262563200&period2=1609718400&interval=1d&filter=history&frequency=1d&includeAdjustedClose=true\r\n",
        "\r\n",
        "The .csv file has been imported in the from Google Sheets. "
      ]
    },
    {
      "cell_type": "code",
      "metadata": {
        "id": "8ThAJWcGKnFi"
      },
      "source": [
        "!pip install jovian --upgrade -q"
      ],
      "execution_count": 7,
      "outputs": []
    },
    {
      "cell_type": "code",
      "metadata": {
        "id": "qlcYbvMyKp9g"
      },
      "source": [
        "import jovian"
      ],
      "execution_count": 8,
      "outputs": []
    },
    {
      "cell_type": "code",
      "metadata": {
        "colab": {
          "base_uri": "https://localhost:8080/",
          "height": 119
        },
        "id": "DncZZlQZWJoM",
        "outputId": "05654c11-23ad-4719-8d6a-e121583f11f9"
      },
      "source": [
        "jovian.commit(project=project_name, environment=None)"
      ],
      "execution_count": null,
      "outputs": [
        {
          "output_type": "stream",
          "text": [
            "[jovian] Detected Colab notebook...\u001b[0m\n",
            "[jovian] Please enter your API key ( from https://jovian.ai/ ):\u001b[0m\n",
            "API KEY: ··········\n",
            "[jovian] Uploading colab notebook to Jovian...\u001b[0m\n",
            "[jovian] Committed successfully! https://jovian.ai/medhamathur27/nifty-50-stock-price-prediction\u001b[0m\n"
          ],
          "name": "stdout"
        },
        {
          "output_type": "execute_result",
          "data": {
            "application/vnd.google.colaboratory.intrinsic+json": {
              "type": "string"
            },
            "text/plain": [
              "'https://jovian.ai/medhamathur27/nifty-50-stock-price-prediction'"
            ]
          },
          "metadata": {
            "tags": []
          },
          "execution_count": 32
        }
      ]
    },
    {
      "cell_type": "code",
      "metadata": {
        "colab": {
          "base_uri": "https://localhost:8080/"
        },
        "id": "V8GmGqFya92f",
        "outputId": "9e3abd46-9668-423c-e829-22a496e7d02c"
      },
      "source": [
        "!pip install --upgrade gspread"
      ],
      "execution_count": 9,
      "outputs": [
        {
          "output_type": "stream",
          "text": [
            "Collecting gspread\n",
            "  Downloading https://files.pythonhosted.org/packages/9c/ba/bc8de4f5077bd34bc873bdd67a89cb29c4f181abba8a836d2c6a0a142365/gspread-3.6.0-py3-none-any.whl\n",
            "Requirement already satisfied, skipping upgrade: google-auth-oauthlib>=0.4.1 in /usr/local/lib/python3.6/dist-packages (from gspread) (0.4.2)\n",
            "Requirement already satisfied, skipping upgrade: requests>=2.2.1 in /usr/local/lib/python3.6/dist-packages (from gspread) (2.23.0)\n",
            "Requirement already satisfied, skipping upgrade: google-auth>=1.12.0 in /usr/local/lib/python3.6/dist-packages (from gspread) (1.17.2)\n",
            "Requirement already satisfied, skipping upgrade: requests-oauthlib>=0.7.0 in /usr/local/lib/python3.6/dist-packages (from google-auth-oauthlib>=0.4.1->gspread) (1.3.0)\n",
            "Requirement already satisfied, skipping upgrade: urllib3!=1.25.0,!=1.25.1,<1.26,>=1.21.1 in /usr/local/lib/python3.6/dist-packages (from requests>=2.2.1->gspread) (1.24.3)\n",
            "Requirement already satisfied, skipping upgrade: chardet<4,>=3.0.2 in /usr/local/lib/python3.6/dist-packages (from requests>=2.2.1->gspread) (3.0.4)\n",
            "Requirement already satisfied, skipping upgrade: certifi>=2017.4.17 in /usr/local/lib/python3.6/dist-packages (from requests>=2.2.1->gspread) (2020.12.5)\n",
            "Requirement already satisfied, skipping upgrade: idna<3,>=2.5 in /usr/local/lib/python3.6/dist-packages (from requests>=2.2.1->gspread) (2.10)\n",
            "Requirement already satisfied, skipping upgrade: rsa<5,>=3.1.4; python_version >= \"3\" in /usr/local/lib/python3.6/dist-packages (from google-auth>=1.12.0->gspread) (4.6)\n",
            "Requirement already satisfied, skipping upgrade: cachetools<5.0,>=2.0.0 in /usr/local/lib/python3.6/dist-packages (from google-auth>=1.12.0->gspread) (4.2.0)\n",
            "Requirement already satisfied, skipping upgrade: setuptools>=40.3.0 in /usr/local/lib/python3.6/dist-packages (from google-auth>=1.12.0->gspread) (51.1.1)\n",
            "Requirement already satisfied, skipping upgrade: pyasn1-modules>=0.2.1 in /usr/local/lib/python3.6/dist-packages (from google-auth>=1.12.0->gspread) (0.2.8)\n",
            "Requirement already satisfied, skipping upgrade: six>=1.9.0 in /usr/local/lib/python3.6/dist-packages (from google-auth>=1.12.0->gspread) (1.15.0)\n",
            "Requirement already satisfied, skipping upgrade: oauthlib>=3.0.0 in /usr/local/lib/python3.6/dist-packages (from requests-oauthlib>=0.7.0->google-auth-oauthlib>=0.4.1->gspread) (3.1.0)\n",
            "Requirement already satisfied, skipping upgrade: pyasn1>=0.1.3 in /usr/local/lib/python3.6/dist-packages (from rsa<5,>=3.1.4; python_version >= \"3\"->google-auth>=1.12.0->gspread) (0.4.8)\n",
            "Installing collected packages: gspread\n",
            "  Found existing installation: gspread 3.0.1\n",
            "    Uninstalling gspread-3.0.1:\n",
            "      Successfully uninstalled gspread-3.0.1\n",
            "Successfully installed gspread-3.6.0\n"
          ],
          "name": "stdout"
        }
      ]
    },
    {
      "cell_type": "code",
      "metadata": {
        "id": "NuPJP7R1bEqx"
      },
      "source": [
        "from google.colab import auth\r\n",
        "auth.authenticate_user()\r\n",
        "\r\n",
        "import gspread\r\n",
        "from oauth2client.client import GoogleCredentials\r\n",
        "\r\n",
        "gc = gspread.authorize(GoogleCredentials.get_application_default())"
      ],
      "execution_count": 10,
      "outputs": []
    },
    {
      "cell_type": "code",
      "metadata": {
        "colab": {
          "base_uri": "https://localhost:8080/",
          "height": 195
        },
        "id": "hXravRrbbhO0",
        "outputId": "14a06ef6-555a-4e39-a581-69eb46645b77"
      },
      "source": [
        "worksheet = gc.open('ADANIPORTS.csv').sheet1\r\n",
        "rows = worksheet.get_all_values()\r\n",
        "dataset_raw = pd.DataFrame(rows[1:],columns=rows[0])\r\n",
        "dataset_raw.dropna()\r\n",
        "dataset_raw.head()"
      ],
      "execution_count": 11,
      "outputs": [
        {
          "output_type": "execute_result",
          "data": {
            "text/html": [
              "<div>\n",
              "<style scoped>\n",
              "    .dataframe tbody tr th:only-of-type {\n",
              "        vertical-align: middle;\n",
              "    }\n",
              "\n",
              "    .dataframe tbody tr th {\n",
              "        vertical-align: top;\n",
              "    }\n",
              "\n",
              "    .dataframe thead th {\n",
              "        text-align: right;\n",
              "    }\n",
              "</style>\n",
              "<table border=\"1\" class=\"dataframe\">\n",
              "  <thead>\n",
              "    <tr style=\"text-align: right;\">\n",
              "      <th></th>\n",
              "      <th>Date</th>\n",
              "      <th>Open</th>\n",
              "      <th>High</th>\n",
              "      <th>Low</th>\n",
              "      <th>Close</th>\n",
              "      <th>Adj Close</th>\n",
              "      <th>Volume</th>\n",
              "    </tr>\n",
              "  </thead>\n",
              "  <tbody>\n",
              "    <tr>\n",
              "      <th>0</th>\n",
              "      <td>2010-01-04</td>\n",
              "      <td>111</td>\n",
              "      <td>112.559998</td>\n",
              "      <td>110.699997</td>\n",
              "      <td>111.349998</td>\n",
              "      <td>102.461502</td>\n",
              "      <td>1079040</td>\n",
              "    </tr>\n",
              "    <tr>\n",
              "      <th>1</th>\n",
              "      <td>2010-01-05</td>\n",
              "      <td>111.959999</td>\n",
              "      <td>116.699997</td>\n",
              "      <td>111.800003</td>\n",
              "      <td>115.190002</td>\n",
              "      <td>105.994957</td>\n",
              "      <td>2112500</td>\n",
              "    </tr>\n",
              "    <tr>\n",
              "      <th>2</th>\n",
              "      <td>2010-01-06</td>\n",
              "      <td>115.800003</td>\n",
              "      <td>122</td>\n",
              "      <td>113.07</td>\n",
              "      <td>120.900002</td>\n",
              "      <td>111.249168</td>\n",
              "      <td>5761450</td>\n",
              "    </tr>\n",
              "    <tr>\n",
              "      <th>3</th>\n",
              "      <td>2010-01-07</td>\n",
              "      <td>121.489998</td>\n",
              "      <td>123.209999</td>\n",
              "      <td>119</td>\n",
              "      <td>119.470001</td>\n",
              "      <td>109.933304</td>\n",
              "      <td>3174260</td>\n",
              "    </tr>\n",
              "    <tr>\n",
              "      <th>4</th>\n",
              "      <td>2010-01-08</td>\n",
              "      <td>119.400002</td>\n",
              "      <td>121.699997</td>\n",
              "      <td>118.639999</td>\n",
              "      <td>119.330002</td>\n",
              "      <td>109.804497</td>\n",
              "      <td>1220560</td>\n",
              "    </tr>\n",
              "  </tbody>\n",
              "</table>\n",
              "</div>"
            ],
            "text/plain": [
              "         Date        Open        High  ...       Close   Adj Close   Volume\n",
              "0  2010-01-04         111  112.559998  ...  111.349998  102.461502  1079040\n",
              "1  2010-01-05  111.959999  116.699997  ...  115.190002  105.994957  2112500\n",
              "2  2010-01-06  115.800003         122  ...  120.900002  111.249168  5761450\n",
              "3  2010-01-07  121.489998  123.209999  ...  119.470001  109.933304  3174260\n",
              "4  2010-01-08  119.400002  121.699997  ...  119.330002  109.804497  1220560\n",
              "\n",
              "[5 rows x 7 columns]"
            ]
          },
          "metadata": {
            "tags": []
          },
          "execution_count": 11
        }
      ]
    },
    {
      "cell_type": "code",
      "metadata": {
        "colab": {
          "base_uri": "https://localhost:8080/",
          "height": 195
        },
        "id": "Ar3quO35csu5",
        "outputId": "bb6131de-e7cc-4778-e5cf-8ebb040a9f2f"
      },
      "source": [
        "dataset_raw.tail()"
      ],
      "execution_count": 12,
      "outputs": [
        {
          "output_type": "execute_result",
          "data": {
            "text/html": [
              "<div>\n",
              "<style scoped>\n",
              "    .dataframe tbody tr th:only-of-type {\n",
              "        vertical-align: middle;\n",
              "    }\n",
              "\n",
              "    .dataframe tbody tr th {\n",
              "        vertical-align: top;\n",
              "    }\n",
              "\n",
              "    .dataframe thead th {\n",
              "        text-align: right;\n",
              "    }\n",
              "</style>\n",
              "<table border=\"1\" class=\"dataframe\">\n",
              "  <thead>\n",
              "    <tr style=\"text-align: right;\">\n",
              "      <th></th>\n",
              "      <th>Date</th>\n",
              "      <th>Open</th>\n",
              "      <th>High</th>\n",
              "      <th>Low</th>\n",
              "      <th>Close</th>\n",
              "      <th>Adj Close</th>\n",
              "      <th>Volume</th>\n",
              "    </tr>\n",
              "  </thead>\n",
              "  <tbody>\n",
              "    <tr>\n",
              "      <th>2717</th>\n",
              "      <td>2020-12-30</td>\n",
              "      <td>484</td>\n",
              "      <td>487.600006</td>\n",
              "      <td>478.149994</td>\n",
              "      <td>485.399994</td>\n",
              "      <td>485.399994</td>\n",
              "      <td>3736356</td>\n",
              "    </tr>\n",
              "    <tr>\n",
              "      <th>2718</th>\n",
              "      <td>2020-12-31</td>\n",
              "      <td>485.399994</td>\n",
              "      <td>490.799988</td>\n",
              "      <td>480.25</td>\n",
              "      <td>483.75</td>\n",
              "      <td>483.75</td>\n",
              "      <td>4386328</td>\n",
              "    </tr>\n",
              "    <tr>\n",
              "      <th>2719</th>\n",
              "      <td>2021-01-01</td>\n",
              "      <td>485</td>\n",
              "      <td>508</td>\n",
              "      <td>482.549988</td>\n",
              "      <td>503.850006</td>\n",
              "      <td>503.850006</td>\n",
              "      <td>7815730</td>\n",
              "    </tr>\n",
              "    <tr>\n",
              "      <th>2720</th>\n",
              "      <td>2021-01-04</td>\n",
              "      <td>507</td>\n",
              "      <td>510.9</td>\n",
              "      <td>495.2</td>\n",
              "      <td>498.9</td>\n",
              "      <td>498.9</td>\n",
              "      <td>9998803</td>\n",
              "    </tr>\n",
              "    <tr>\n",
              "      <th>2721</th>\n",
              "      <td>2021-01-05</td>\n",
              "      <td>498.9</td>\n",
              "      <td>504.5</td>\n",
              "      <td>492</td>\n",
              "      <td>500.35</td>\n",
              "      <td>500.35</td>\n",
              "      <td>3521653</td>\n",
              "    </tr>\n",
              "  </tbody>\n",
              "</table>\n",
              "</div>"
            ],
            "text/plain": [
              "            Date        Open        High  ...       Close   Adj Close   Volume\n",
              "2717  2020-12-30         484  487.600006  ...  485.399994  485.399994  3736356\n",
              "2718  2020-12-31  485.399994  490.799988  ...      483.75      483.75  4386328\n",
              "2719  2021-01-01         485         508  ...  503.850006  503.850006  7815730\n",
              "2720  2021-01-04         507       510.9  ...       498.9       498.9  9998803\n",
              "2721  2021-01-05       498.9       504.5  ...      500.35      500.35  3521653\n",
              "\n",
              "[5 rows x 7 columns]"
            ]
          },
          "metadata": {
            "tags": []
          },
          "execution_count": 12
        }
      ]
    },
    {
      "cell_type": "code",
      "metadata": {
        "colab": {
          "base_uri": "https://localhost:8080/",
          "height": 521
        },
        "id": "lbwDjxyEWaDQ",
        "outputId": "86425e4b-61c3-4c00-e886-604e0fffdb04"
      },
      "source": [
        "#Visualizing the closing price history for the training dataset\r\n",
        "close_price = pd.to_numeric(dataset_raw['Close'], errors='coerce')\r\n",
        "plt.figure(figsize=(16,8))\r\n",
        "plt.title('Close Price History')\r\n",
        "plt.plot(close_price)\r\n",
        "plt.xlabel('Date',fontsize=18)\r\n",
        "plt.ylabel('Close Price INR',fontsize=18)\r\n",
        "plt.show()\r\n"
      ],
      "execution_count": 13,
      "outputs": [
        {
          "output_type": "display_data",
          "data": {
            "image/png": "[encoded data removed]",
            "text/plain": [
              "<Figure size 1152x576 with 1 Axes>"
            ]
          },
          "metadata": {
            "tags": [],
            "needs_background": "light"
          }
        }
      ]
    },
    {
      "cell_type": "code",
      "metadata": {
        "id": "HXz9Xs41YTJM"
      },
      "source": [
        "features = [\"Date\", \"Close\"]\r\n",
        "dataset = dataset_raw[features]"
      ],
      "execution_count": 14,
      "outputs": []
    },
    {
      "cell_type": "code",
      "metadata": {
        "colab": {
          "base_uri": "https://localhost:8080/"
        },
        "id": "s3ZCf6lfYi1R",
        "outputId": "52950baa-dd1c-413c-ff04-1e571adcd810"
      },
      "source": [
        "#setting index\r\n",
        "dataset.index = dataset.Date\r\n",
        "dataset.drop('Date', axis=1, inplace=True)"
      ],
      "execution_count": 15,
      "outputs": [
        {
          "output_type": "stream",
          "text": [
            "/usr/local/lib/python3.6/dist-packages/pandas/core/frame.py:4174: SettingWithCopyWarning: \n",
            "A value is trying to be set on a copy of a slice from a DataFrame\n",
            "\n",
            "See the caveats in the documentation: https://pandas.pydata.org/pandas-docs/stable/user_guide/indexing.html#returning-a-view-versus-a-copy\n",
            "  errors=errors,\n"
          ],
          "name": "stderr"
        }
      ]
    },
    {
      "cell_type": "code",
      "metadata": {
        "colab": {
          "base_uri": "https://localhost:8080/",
          "height": 225
        },
        "id": "321BHQyDYs1H",
        "outputId": "817b2563-ad2b-490e-b442-2ea39c3dfc7e"
      },
      "source": [
        "dataset.head()"
      ],
      "execution_count": 16,
      "outputs": [
        {
          "output_type": "execute_result",
          "data": {
            "text/html": [
              "<div>\n",
              "<style scoped>\n",
              "    .dataframe tbody tr th:only-of-type {\n",
              "        vertical-align: middle;\n",
              "    }\n",
              "\n",
              "    .dataframe tbody tr th {\n",
              "        vertical-align: top;\n",
              "    }\n",
              "\n",
              "    .dataframe thead th {\n",
              "        text-align: right;\n",
              "    }\n",
              "</style>\n",
              "<table border=\"1\" class=\"dataframe\">\n",
              "  <thead>\n",
              "    <tr style=\"text-align: right;\">\n",
              "      <th></th>\n",
              "      <th>Close</th>\n",
              "    </tr>\n",
              "    <tr>\n",
              "      <th>Date</th>\n",
              "      <th></th>\n",
              "    </tr>\n",
              "  </thead>\n",
              "  <tbody>\n",
              "    <tr>\n",
              "      <th>2010-01-04</th>\n",
              "      <td>111.349998</td>\n",
              "    </tr>\n",
              "    <tr>\n",
              "      <th>2010-01-05</th>\n",
              "      <td>115.190002</td>\n",
              "    </tr>\n",
              "    <tr>\n",
              "      <th>2010-01-06</th>\n",
              "      <td>120.900002</td>\n",
              "    </tr>\n",
              "    <tr>\n",
              "      <th>2010-01-07</th>\n",
              "      <td>119.470001</td>\n",
              "    </tr>\n",
              "    <tr>\n",
              "      <th>2010-01-08</th>\n",
              "      <td>119.330002</td>\n",
              "    </tr>\n",
              "  </tbody>\n",
              "</table>\n",
              "</div>"
            ],
            "text/plain": [
              "                 Close\n",
              "Date                  \n",
              "2010-01-04  111.349998\n",
              "2010-01-05  115.190002\n",
              "2010-01-06  120.900002\n",
              "2010-01-07  119.470001\n",
              "2010-01-08  119.330002"
            ]
          },
          "metadata": {
            "tags": []
          },
          "execution_count": 16
        }
      ]
    },
    {
      "cell_type": "code",
      "metadata": {
        "colab": {
          "base_uri": "https://localhost:8080/"
        },
        "id": "tw9-tdRB39nL",
        "outputId": "be0574ed-2cd1-4b09-f642-41766d711dea"
      },
      "source": [
        "dataset['Close'] = close_price.values"
      ],
      "execution_count": 17,
      "outputs": [
        {
          "output_type": "stream",
          "text": [
            "/usr/local/lib/python3.6/dist-packages/ipykernel_launcher.py:1: SettingWithCopyWarning: \n",
            "A value is trying to be set on a copy of a slice from a DataFrame.\n",
            "Try using .loc[row_indexer,col_indexer] = value instead\n",
            "\n",
            "See the caveats in the documentation: https://pandas.pydata.org/pandas-docs/stable/user_guide/indexing.html#returning-a-view-versus-a-copy\n",
            "  \"\"\"Entry point for launching an IPython kernel.\n"
          ],
          "name": "stderr"
        }
      ]
    },
    {
      "cell_type": "code",
      "metadata": {
        "id": "8A5vvOi-8Egx"
      },
      "source": [
        "dataset['Close'] = dataset['Close'].fillna(0)\r\n",
        "dataset=dataset[dataset['Close'] != 0]"
      ],
      "execution_count": 19,
      "outputs": []
    },
    {
      "cell_type": "code",
      "metadata": {
        "colab": {
          "base_uri": "https://localhost:8080/"
        },
        "id": "0qNsIIr1ZNrt",
        "outputId": "e044683f-fd7d-4939-e76f-0e16c0405e52"
      },
      "source": [
        "dataset.shape"
      ],
      "execution_count": 20,
      "outputs": [
        {
          "output_type": "execute_result",
          "data": {
            "text/plain": [
              "(2714, 1)"
            ]
          },
          "metadata": {
            "tags": []
          },
          "execution_count": 20
        }
      ]
    },
    {
      "cell_type": "markdown",
      "metadata": {
        "id": "9VrI8-jKZiS-"
      },
      "source": [
        "#Preparing the dataset for Training"
      ]
    },
    {
      "cell_type": "code",
      "metadata": {
        "id": "bWOOK_g8Zy4x"
      },
      "source": [
        "dataset_final = dataset.values\r\n",
        "train_ds = dataset_final[0:1714,:]\r\n",
        "valid_ds = dataset_final[1714:,:]"
      ],
      "execution_count": 21,
      "outputs": []
    },
    {
      "cell_type": "code",
      "metadata": {
        "id": "uEbBDzQDbr6B"
      },
      "source": [
        "scaler = MinMaxScaler(feature_range=(0, 1))\r\n",
        "scaled_data = scaler.fit_transform(dataset_final)"
      ],
      "execution_count": 22,
      "outputs": []
    },
    {
      "cell_type": "markdown",
      "metadata": {
        "id": "Y6POETLdcK4f"
      },
      "source": [
        "Creating Sliding Window of 90 days"
      ]
    },
    {
      "cell_type": "code",
      "metadata": {
        "id": "O8qaheg6cNGh"
      },
      "source": [
        "x_train, y_train = [], []\r\n",
        "for i in range(90,len(train_ds)):\r\n",
        "    x_train.append(scaled_data[i-90:i,0])\r\n",
        "    y_train.append(scaled_data[i,0])\r\n",
        "x_train, y_train = np.array(x_train), np.array(y_train)"
      ],
      "execution_count": 23,
      "outputs": []
    },
    {
      "cell_type": "code",
      "metadata": {
        "id": "8_Zdj5JicYPj"
      },
      "source": [
        "x_train = np.reshape(x_train, (x_train.shape[0],x_train.shape[1],1))"
      ],
      "execution_count": 24,
      "outputs": []
    },
    {
      "cell_type": "code",
      "metadata": {
        "id": "2LQTysQWdK1l"
      },
      "source": [
        "assert not np.any(np.isnan(x_train))"
      ],
      "execution_count": 25,
      "outputs": []
    },
    {
      "cell_type": "markdown",
      "metadata": {
        "id": "DqxVrqORcdNF"
      },
      "source": [
        "Model Building"
      ]
    },
    {
      "cell_type": "code",
      "metadata": {
        "id": "jgMn_eEVce-8"
      },
      "source": [
        "# create and fit the LSTM network\r\n",
        "model = Sequential()\r\n",
        "model.add(LSTM(units=50, return_sequences=True, input_shape=(x_train.shape[1],1),activation=\"relu\"))\r\n",
        "model.add(Dropout(rate = 0.01))\r\n",
        "\r\n",
        "model.add(LSTM(units=50, return_sequences = True,activation=\"relu\"))\r\n",
        "model.add(Dropout(rate = 0.01))\r\n",
        "\r\n",
        "model.add(LSTM(units=50, return_sequences = True,activation=\"relu\"))\r\n",
        "model.add(Dropout(rate = 0.01))\r\n",
        "\r\n",
        "model.add(LSTM(units=50, return_sequences = False,activation=\"relu\"))\r\n",
        "model.add(Dropout(rate = 0.01))\r\n",
        "\r\n",
        "model.add(Dense(1))"
      ],
      "execution_count": 71,
      "outputs": []
    },
    {
      "cell_type": "code",
      "metadata": {
        "id": "xZya_uTZcjKa"
      },
      "source": [
        "model.compile(loss='mean_squared_error', optimizer='adam')"
      ],
      "execution_count": 72,
      "outputs": []
    },
    {
      "cell_type": "code",
      "metadata": {
        "colab": {
          "base_uri": "https://localhost:8080/"
        },
        "id": "CmRW0hSAcmg8",
        "outputId": "42ab8f2a-1a09-4c90-c735-0eef1525ca81"
      },
      "source": [
        "model.fit(x_train, y_train, epochs=25, batch_size=55)"
      ],
      "execution_count": 73,
      "outputs": [
        {
          "output_type": "stream",
          "text": [
            "Epoch 1/25\n",
            "30/30 [==============================] - 10s 191ms/step - loss: 0.0498\n",
            "Epoch 2/25\n",
            "30/30 [==============================] - 6s 189ms/step - loss: 0.0039\n",
            "Epoch 3/25\n",
            "30/30 [==============================] - 6s 196ms/step - loss: 0.0021\n",
            "Epoch 4/25\n",
            "30/30 [==============================] - 6s 193ms/step - loss: 0.0016\n",
            "Epoch 5/25\n",
            "30/30 [==============================] - 6s 196ms/step - loss: 0.0015\n",
            "Epoch 6/25\n",
            "30/30 [==============================] - 6s 195ms/step - loss: 0.0015\n",
            "Epoch 7/25\n",
            "30/30 [==============================] - 6s 195ms/step - loss: 0.0015\n",
            "Epoch 8/25\n",
            "30/30 [==============================] - 6s 195ms/step - loss: 0.0014\n",
            "Epoch 9/25\n",
            "30/30 [==============================] - 6s 197ms/step - loss: 0.0012\n",
            "Epoch 10/25\n",
            "30/30 [==============================] - 6s 199ms/step - loss: 0.0014\n",
            "Epoch 11/25\n",
            "30/30 [==============================] - 6s 195ms/step - loss: 0.0014\n",
            "Epoch 12/25\n",
            "30/30 [==============================] - 6s 197ms/step - loss: 0.0013\n",
            "Epoch 13/25\n",
            "30/30 [==============================] - 6s 196ms/step - loss: 0.0012\n",
            "Epoch 14/25\n",
            "30/30 [==============================] - 6s 195ms/step - loss: 0.0012\n",
            "Epoch 15/25\n",
            "30/30 [==============================] - 6s 196ms/step - loss: 0.0010\n",
            "Epoch 16/25\n",
            "30/30 [==============================] - 6s 196ms/step - loss: 0.0012\n",
            "Epoch 17/25\n",
            "30/30 [==============================] - 6s 198ms/step - loss: 0.0012\n",
            "Epoch 18/25\n",
            "30/30 [==============================] - 6s 196ms/step - loss: 0.0011\n",
            "Epoch 19/25\n",
            "30/30 [==============================] - 6s 200ms/step - loss: 0.0010\n",
            "Epoch 20/25\n",
            "30/30 [==============================] - 6s 200ms/step - loss: 9.8307e-04\n",
            "Epoch 21/25\n",
            "30/30 [==============================] - 6s 198ms/step - loss: 9.5201e-04\n",
            "Epoch 22/25\n",
            "30/30 [==============================] - 6s 203ms/step - loss: 9.9712e-04\n",
            "Epoch 23/25\n",
            "30/30 [==============================] - 6s 200ms/step - loss: 8.9553e-04\n",
            "Epoch 24/25\n",
            "30/30 [==============================] - 6s 198ms/step - loss: 8.1540e-04\n",
            "Epoch 25/25\n",
            "30/30 [==============================] - 6s 199ms/step - loss: 9.3306e-04\n"
          ],
          "name": "stdout"
        },
        {
          "output_type": "execute_result",
          "data": {
            "text/plain": [
              "<tensorflow.python.keras.callbacks.History at 0x7fbc8c2ca550>"
            ]
          },
          "metadata": {
            "tags": []
          },
          "execution_count": 73
        }
      ]
    },
    {
      "cell_type": "code",
      "metadata": {
        "colab": {
          "base_uri": "https://localhost:8080/"
        },
        "id": "cql5KasCkEbn",
        "outputId": "c0684507-af21-45f5-98b2-1e160401c0ad"
      },
      "source": [
        "model.fit(x_train, y_train, epochs=25, batch_size=55)"
      ],
      "execution_count": 74,
      "outputs": [
        {
          "output_type": "stream",
          "text": [
            "Epoch 1/25\n",
            "30/30 [==============================] - 6s 205ms/step - loss: 8.5662e-04\n",
            "Epoch 2/25\n",
            "30/30 [==============================] - 6s 203ms/step - loss: 8.9009e-04\n",
            "Epoch 3/25\n",
            "30/30 [==============================] - 6s 202ms/step - loss: 8.0972e-04\n",
            "Epoch 4/25\n",
            "30/30 [==============================] - 6s 200ms/step - loss: 9.0764e-04\n",
            "Epoch 5/25\n",
            "30/30 [==============================] - 6s 200ms/step - loss: 7.9411e-04\n",
            "Epoch 6/25\n",
            "30/30 [==============================] - 6s 203ms/step - loss: 8.7048e-04\n",
            "Epoch 7/25\n",
            "30/30 [==============================] - 6s 199ms/step - loss: 8.2653e-04\n",
            "Epoch 8/25\n",
            "30/30 [==============================] - 6s 197ms/step - loss: 7.5258e-04\n",
            "Epoch 9/25\n",
            "30/30 [==============================] - 6s 198ms/step - loss: 8.3875e-04\n",
            "Epoch 10/25\n",
            "30/30 [==============================] - 6s 200ms/step - loss: 7.8317e-04\n",
            "Epoch 11/25\n",
            "30/30 [==============================] - 6s 199ms/step - loss: 7.0859e-04\n",
            "Epoch 12/25\n",
            "30/30 [==============================] - 6s 198ms/step - loss: 7.0238e-04\n",
            "Epoch 13/25\n",
            "30/30 [==============================] - 6s 197ms/step - loss: 6.8356e-04\n",
            "Epoch 14/25\n",
            "30/30 [==============================] - 6s 198ms/step - loss: 8.0599e-04\n",
            "Epoch 15/25\n",
            "30/30 [==============================] - 6s 198ms/step - loss: 7.0748e-04\n",
            "Epoch 16/25\n",
            "30/30 [==============================] - 6s 197ms/step - loss: 7.2383e-04\n",
            "Epoch 17/25\n",
            "30/30 [==============================] - 6s 199ms/step - loss: 6.9796e-04\n",
            "Epoch 18/25\n",
            "30/30 [==============================] - 6s 196ms/step - loss: 6.5006e-04\n",
            "Epoch 19/25\n",
            "30/30 [==============================] - 6s 196ms/step - loss: 6.8556e-04\n",
            "Epoch 20/25\n",
            "30/30 [==============================] - 6s 196ms/step - loss: 6.4621e-04\n",
            "Epoch 21/25\n",
            "30/30 [==============================] - 6s 195ms/step - loss: 6.8194e-04\n",
            "Epoch 22/25\n",
            "30/30 [==============================] - 6s 198ms/step - loss: 6.6812e-04\n",
            "Epoch 23/25\n",
            "30/30 [==============================] - 6s 200ms/step - loss: 7.0864e-04\n",
            "Epoch 24/25\n",
            "30/30 [==============================] - 6s 198ms/step - loss: 6.3389e-04\n",
            "Epoch 25/25\n",
            "30/30 [==============================] - 6s 201ms/step - loss: 5.9655e-04\n"
          ],
          "name": "stdout"
        },
        {
          "output_type": "execute_result",
          "data": {
            "text/plain": [
              "<tensorflow.python.keras.callbacks.History at 0x7fbc8b1c20f0>"
            ]
          },
          "metadata": {
            "tags": []
          },
          "execution_count": 74
        }
      ]
    },
    {
      "cell_type": "code",
      "metadata": {
        "colab": {
          "base_uri": "https://localhost:8080/"
        },
        "id": "0PzMc8e42vUA",
        "outputId": "ceaf8fbe-3e32-4e70-e1a4-7281f8be63e0"
      },
      "source": [
        "model.fit(x_train, y_train, epochs=25, batch_size=55)"
      ],
      "execution_count": 75,
      "outputs": [
        {
          "output_type": "stream",
          "text": [
            "Epoch 1/25\n",
            "30/30 [==============================] - 6s 198ms/step - loss: 6.5756e-04\n",
            "Epoch 2/25\n",
            "30/30 [==============================] - 6s 202ms/step - loss: 6.9725e-04\n",
            "Epoch 3/25\n",
            "30/30 [==============================] - 6s 203ms/step - loss: 6.5627e-04\n",
            "Epoch 4/25\n",
            "30/30 [==============================] - 6s 201ms/step - loss: 6.1923e-04\n",
            "Epoch 5/25\n",
            "30/30 [==============================] - 6s 199ms/step - loss: 6.0832e-04\n",
            "Epoch 6/25\n",
            "30/30 [==============================] - 6s 202ms/step - loss: 6.4870e-04\n",
            "Epoch 7/25\n",
            "30/30 [==============================] - 6s 200ms/step - loss: 5.5259e-04\n",
            "Epoch 8/25\n",
            "30/30 [==============================] - 6s 196ms/step - loss: 5.9117e-04\n",
            "Epoch 9/25\n",
            "30/30 [==============================] - 6s 198ms/step - loss: 6.2981e-04\n",
            "Epoch 10/25\n",
            "30/30 [==============================] - 6s 198ms/step - loss: 6.1401e-04\n",
            "Epoch 11/25\n",
            "30/30 [==============================] - 6s 196ms/step - loss: 5.6317e-04\n",
            "Epoch 12/25\n",
            "30/30 [==============================] - 6s 196ms/step - loss: 5.3009e-04\n",
            "Epoch 13/25\n",
            "30/30 [==============================] - 6s 198ms/step - loss: 5.1155e-04\n",
            "Epoch 14/25\n",
            "30/30 [==============================] - 6s 201ms/step - loss: 5.4878e-04\n",
            "Epoch 15/25\n",
            "30/30 [==============================] - 6s 199ms/step - loss: 5.2166e-04\n",
            "Epoch 16/25\n",
            "30/30 [==============================] - 6s 199ms/step - loss: 5.2294e-04\n",
            "Epoch 17/25\n",
            "30/30 [==============================] - 6s 196ms/step - loss: 5.3437e-04\n",
            "Epoch 18/25\n",
            "30/30 [==============================] - 6s 196ms/step - loss: 5.2570e-04\n",
            "Epoch 19/25\n",
            "30/30 [==============================] - 6s 198ms/step - loss: 4.9412e-04\n",
            "Epoch 20/25\n",
            "30/30 [==============================] - 6s 199ms/step - loss: 5.0140e-04\n",
            "Epoch 21/25\n",
            "30/30 [==============================] - 6s 200ms/step - loss: 4.9699e-04\n",
            "Epoch 22/25\n",
            "30/30 [==============================] - 6s 200ms/step - loss: 4.7675e-04\n",
            "Epoch 23/25\n",
            "30/30 [==============================] - 6s 203ms/step - loss: 4.6064e-04\n",
            "Epoch 24/25\n",
            "30/30 [==============================] - 6s 199ms/step - loss: 4.8834e-04\n",
            "Epoch 25/25\n",
            "30/30 [==============================] - 6s 198ms/step - loss: 5.4769e-04\n"
          ],
          "name": "stdout"
        },
        {
          "output_type": "execute_result",
          "data": {
            "text/plain": [
              "<tensorflow.python.keras.callbacks.History at 0x7fbc8b1e0630>"
            ]
          },
          "metadata": {
            "tags": []
          },
          "execution_count": 75
        }
      ]
    },
    {
      "cell_type": "code",
      "metadata": {
        "colab": {
          "base_uri": "https://localhost:8080/"
        },
        "id": "onKAYUN73gcU",
        "outputId": "f52d703a-3680-4d1e-d15f-234e91477508"
      },
      "source": [
        "model.fit(x_train, y_train, epochs=25, batch_size=64)"
      ],
      "execution_count": 76,
      "outputs": [
        {
          "output_type": "stream",
          "text": [
            "Epoch 1/25\n",
            "26/26 [==============================] - 6s 215ms/step - loss: 4.5152e-04\n",
            "Epoch 2/25\n",
            "26/26 [==============================] - 6s 220ms/step - loss: 4.7759e-04\n",
            "Epoch 3/25\n",
            "26/26 [==============================] - 6s 217ms/step - loss: 4.5519e-04\n",
            "Epoch 4/25\n",
            "26/26 [==============================] - 6s 212ms/step - loss: 4.3107e-04\n",
            "Epoch 5/25\n",
            "26/26 [==============================] - 6s 213ms/step - loss: 5.0882e-04\n",
            "Epoch 6/25\n",
            "26/26 [==============================] - 6s 212ms/step - loss: 4.8008e-04\n",
            "Epoch 7/25\n",
            "26/26 [==============================] - 5s 211ms/step - loss: 4.3836e-04\n",
            "Epoch 8/25\n",
            "26/26 [==============================] - 6s 212ms/step - loss: 4.1640e-04\n",
            "Epoch 9/25\n",
            "26/26 [==============================] - 6s 212ms/step - loss: 4.5306e-04\n",
            "Epoch 10/25\n",
            "26/26 [==============================] - 5s 210ms/step - loss: 4.3015e-04\n",
            "Epoch 11/25\n",
            "26/26 [==============================] - 6s 212ms/step - loss: 4.3904e-04\n",
            "Epoch 12/25\n",
            "26/26 [==============================] - 6s 212ms/step - loss: 4.1113e-04\n",
            "Epoch 13/25\n",
            "26/26 [==============================] - 6s 213ms/step - loss: 4.3313e-04\n",
            "Epoch 14/25\n",
            "26/26 [==============================] - 6s 212ms/step - loss: 4.3057e-04\n",
            "Epoch 15/25\n",
            "26/26 [==============================] - 6s 213ms/step - loss: 4.1465e-04\n",
            "Epoch 16/25\n",
            "26/26 [==============================] - 6s 213ms/step - loss: 4.2428e-04\n",
            "Epoch 17/25\n",
            "26/26 [==============================] - 6s 213ms/step - loss: 4.7727e-04\n",
            "Epoch 18/25\n",
            "26/26 [==============================] - 5s 210ms/step - loss: 3.9301e-04\n",
            "Epoch 19/25\n",
            "26/26 [==============================] - 6s 214ms/step - loss: 4.1542e-04\n",
            "Epoch 20/25\n",
            "26/26 [==============================] - 6s 211ms/step - loss: 3.9105e-04\n",
            "Epoch 21/25\n",
            "26/26 [==============================] - 6s 211ms/step - loss: 3.5091e-04\n",
            "Epoch 22/25\n",
            "26/26 [==============================] - 6s 214ms/step - loss: 4.3687e-04\n",
            "Epoch 23/25\n",
            "26/26 [==============================] - 6s 213ms/step - loss: 3.7251e-04\n",
            "Epoch 24/25\n",
            "26/26 [==============================] - 6s 212ms/step - loss: 3.8207e-04\n",
            "Epoch 25/25\n",
            "26/26 [==============================] - 6s 216ms/step - loss: 3.8769e-04\n"
          ],
          "name": "stdout"
        },
        {
          "output_type": "execute_result",
          "data": {
            "text/plain": [
              "<tensorflow.python.keras.callbacks.History at 0x7fbc8b188240>"
            ]
          },
          "metadata": {
            "tags": []
          },
          "execution_count": 76
        }
      ]
    },
    {
      "cell_type": "code",
      "metadata": {
        "id": "VxLgg4waie1C"
      },
      "source": [
        "#predicting test data values, using past 90 from the train data\r\n",
        "inputs = dataset[len(dataset) - len(valid_ds)-90:].values\r\n",
        "inputs = inputs.reshape(-1,1)\r\n",
        "inputs  = scaler.transform(inputs)"
      ],
      "execution_count": 93,
      "outputs": []
    },
    {
      "cell_type": "code",
      "metadata": {
        "colab": {
          "base_uri": "https://localhost:8080/"
        },
        "id": "qmKs9ouIioMe",
        "outputId": "4635c355-e1ff-4433-9b8a-47a6f8490307"
      },
      "source": [
        "inputs.shape"
      ],
      "execution_count": 32,
      "outputs": [
        {
          "output_type": "execute_result",
          "data": {
            "text/plain": [
              "(1090, 1)"
            ]
          },
          "metadata": {
            "tags": []
          },
          "execution_count": 32
        }
      ]
    },
    {
      "cell_type": "code",
      "metadata": {
        "id": "H-rxHL26iqrr"
      },
      "source": [
        "X_test = []\r\n",
        "for i in range(90,inputs.shape[0]):\r\n",
        "    X_test.append(inputs[i-90:i,0])\r\n",
        "X_test = np.array(X_test)"
      ],
      "execution_count": 78,
      "outputs": []
    },
    {
      "cell_type": "code",
      "metadata": {
        "colab": {
          "base_uri": "https://localhost:8080/"
        },
        "id": "sItIZZJfitsG",
        "outputId": "1bb0110d-fc41-400d-d665-6a0c6e780d94"
      },
      "source": [
        "X_test"
      ],
      "execution_count": 42,
      "outputs": [
        {
          "output_type": "execute_result",
          "data": {
            "text/plain": [
              "array([[0.29013516, 0.30289249, 0.31830238, ..., 0.44966527, 0.44423394,\n",
              "        0.4452444 ],\n",
              "       [0.30289249, 0.31830238, 0.33510166, ..., 0.44423394, 0.4452444 ,\n",
              "        0.43513957],\n",
              "       [0.31830238, 0.33510166, 0.33282809, ..., 0.4452444 , 0.43513957,\n",
              "        0.42554   ],\n",
              "       ...,\n",
              "       [0.60881646, 0.60149047, 0.62207906, ..., 0.94833899, 0.95339141,\n",
              "        0.94922318],\n",
              "       [0.60149047, 0.62207906, 0.61273206, ..., 0.95339141, 0.94922318,\n",
              "        1.        ],\n",
              "       [0.62207906, 0.61273206, 0.63673105, ..., 0.94922318, 1.        ,\n",
              "        0.98749525]])"
            ]
          },
          "metadata": {
            "tags": []
          },
          "execution_count": 42
        }
      ]
    },
    {
      "cell_type": "code",
      "metadata": {
        "colab": {
          "base_uri": "https://localhost:8080/"
        },
        "id": "huhZ0eCnizH1",
        "outputId": "f3060249-386e-40d6-85a7-0119d61c6cdf"
      },
      "source": [
        "X_test.shape"
      ],
      "execution_count": 35,
      "outputs": [
        {
          "output_type": "execute_result",
          "data": {
            "text/plain": [
              "(1000, 90)"
            ]
          },
          "metadata": {
            "tags": []
          },
          "execution_count": 35
        }
      ]
    },
    {
      "cell_type": "code",
      "metadata": {
        "id": "kF0gYXOri10T"
      },
      "source": [
        "X_test = np.reshape(X_test, (X_test.shape[0],X_test.shape[1],1))\r\n",
        "preds = model.predict(X_test)\r\n",
        "preds = scaler.inverse_transform(preds)"
      ],
      "execution_count": 79,
      "outputs": []
    },
    {
      "cell_type": "code",
      "metadata": {
        "colab": {
          "base_uri": "https://localhost:8080/"
        },
        "id": "jswNQ_RH-y2I",
        "outputId": "a90396d9-50d5-4f5a-a4cf-e72647343b01"
      },
      "source": [
        "X_test.shape"
      ],
      "execution_count": 37,
      "outputs": [
        {
          "output_type": "execute_result",
          "data": {
            "text/plain": [
              "(1000, 90, 1)"
            ]
          },
          "metadata": {
            "tags": []
          },
          "execution_count": 37
        }
      ]
    },
    {
      "cell_type": "code",
      "metadata": {
        "colab": {
          "base_uri": "https://localhost:8080/"
        },
        "id": "JjHvJ7YfjDtM",
        "outputId": "6dc4f5e5-22aa-4824-8399-b287d3f7b941"
      },
      "source": [
        "preds"
      ],
      "execution_count": 80,
      "outputs": [
        {
          "output_type": "execute_result",
          "data": {
            "text/plain": [
              "array([[285.1904 ],\n",
              "       [283.26886],\n",
              "       [280.13834],\n",
              "       [276.4563 ],\n",
              "       [275.8587 ],\n",
              "       [270.6267 ],\n",
              "       [266.94806],\n",
              "       [264.3106 ],\n",
              "       [266.87415],\n",
              "       [269.7667 ],\n",
              "       [269.1623 ],\n",
              "       [269.67136],\n",
              "       [272.88306],\n",
              "       [275.0535 ],\n",
              "       [276.0865 ],\n",
              "       [282.61124],\n",
              "       [286.38803],\n",
              "       [286.29724],\n",
              "       [290.43787],\n",
              "       [294.2221 ],\n",
              "       [294.05258],\n",
              "       [293.9759 ],\n",
              "       [297.8499 ],\n",
              "       [296.93378],\n",
              "       [293.9921 ],\n",
              "       [294.63705],\n",
              "       [289.40488],\n",
              "       [287.44257],\n",
              "       [291.24585],\n",
              "       [299.9216 ],\n",
              "       [303.9911 ],\n",
              "       [303.33563],\n",
              "       [296.87277],\n",
              "       [300.21106],\n",
              "       [303.22488],\n",
              "       [303.8107 ],\n",
              "       [307.01965],\n",
              "       [305.32825],\n",
              "       [305.02515],\n",
              "       [304.88025],\n",
              "       [308.78796],\n",
              "       [309.7516 ],\n",
              "       [307.9344 ],\n",
              "       [302.6935 ],\n",
              "       [299.79282],\n",
              "       [298.59485],\n",
              "       [300.30298],\n",
              "       [303.60696],\n",
              "       [302.6527 ],\n",
              "       [299.6332 ],\n",
              "       [297.89603],\n",
              "       [300.55002],\n",
              "       [302.7172 ],\n",
              "       [298.28674],\n",
              "       [297.0223 ],\n",
              "       [301.24857],\n",
              "       [306.6574 ],\n",
              "       [307.59747],\n",
              "       [303.68   ],\n",
              "       [300.35846],\n",
              "       [305.798  ],\n",
              "       [309.81036],\n",
              "       [318.98907],\n",
              "       [323.28204],\n",
              "       [323.8669 ],\n",
              "       [323.60602],\n",
              "       [322.12256],\n",
              "       [323.1994 ],\n",
              "       [322.56702],\n",
              "       [319.7384 ],\n",
              "       [319.94122],\n",
              "       [320.569  ],\n",
              "       [331.30267],\n",
              "       [336.6176 ],\n",
              "       [338.5102 ],\n",
              "       [346.64108],\n",
              "       [349.87643],\n",
              "       [344.17065],\n",
              "       [346.12326],\n",
              "       [334.10406],\n",
              "       [326.91977],\n",
              "       [321.5949 ],\n",
              "       [321.05045],\n",
              "       [320.79364],\n",
              "       [324.8544 ],\n",
              "       [330.37015],\n",
              "       [327.29028],\n",
              "       [328.38815],\n",
              "       [329.50104],\n",
              "       [324.4126 ],\n",
              "       [322.0929 ],\n",
              "       [325.84454],\n",
              "       [329.61646],\n",
              "       [328.26205],\n",
              "       [335.2036 ],\n",
              "       [341.4403 ],\n",
              "       [339.8294 ],\n",
              "       [343.3307 ],\n",
              "       [347.7173 ],\n",
              "       [353.50485],\n",
              "       [354.11826],\n",
              "       [352.33948],\n",
              "       [350.69525],\n",
              "       [346.24976],\n",
              "       [345.36426],\n",
              "       [347.156  ],\n",
              "       [351.52402],\n",
              "       [334.95425],\n",
              "       [336.31836],\n",
              "       [339.472  ],\n",
              "       [345.41904],\n",
              "       [331.64005],\n",
              "       [336.03964],\n",
              "       [338.08252],\n",
              "       [345.3079 ],\n",
              "       [352.58252],\n",
              "       [356.6154 ],\n",
              "       [357.46304],\n",
              "       [355.03033],\n",
              "       [354.70667],\n",
              "       [355.94318],\n",
              "       [354.22653],\n",
              "       [356.1252 ],\n",
              "       [356.83194],\n",
              "       [357.09225],\n",
              "       [359.48016],\n",
              "       [367.6259 ],\n",
              "       [370.48853],\n",
              "       [365.4144 ],\n",
              "       [363.8149 ],\n",
              "       [361.1098 ],\n",
              "       [363.31406],\n",
              "       [361.54874],\n",
              "       [361.19693],\n",
              "       [360.1213 ],\n",
              "       [364.03732],\n",
              "       [367.68127],\n",
              "       [368.5596 ],\n",
              "       [368.19373],\n",
              "       [366.78265],\n",
              "       [369.71146],\n",
              "       [368.5027 ],\n",
              "       [369.24905],\n",
              "       [371.41104],\n",
              "       [371.31427],\n",
              "       [375.9864 ],\n",
              "       [376.9322 ],\n",
              "       [375.6583 ],\n",
              "       [374.53348],\n",
              "       [376.45618],\n",
              "       [382.76587],\n",
              "       [385.03955],\n",
              "       [386.3813 ],\n",
              "       [385.49646],\n",
              "       [388.39734],\n",
              "       [388.89493],\n",
              "       [396.05444],\n",
              "       [401.34955],\n",
              "       [398.81583],\n",
              "       [397.16824],\n",
              "       [404.90567],\n",
              "       [405.67453],\n",
              "       [388.127  ],\n",
              "       [378.86816],\n",
              "       [378.95145],\n",
              "       [390.48224],\n",
              "       [393.31967],\n",
              "       [383.99112],\n",
              "       [380.04974],\n",
              "       [371.9242 ],\n",
              "       [372.2426 ],\n",
              "       [381.19614],\n",
              "       [377.51843],\n",
              "       [382.4225 ],\n",
              "       [379.18814],\n",
              "       [384.15134],\n",
              "       [387.62994],\n",
              "       [389.12558],\n",
              "       [379.5004 ],\n",
              "       [384.48682],\n",
              "       [381.1592 ],\n",
              "       [383.34283],\n",
              "       [382.12006],\n",
              "       [381.23218],\n",
              "       [384.56006],\n",
              "       [385.45453],\n",
              "       [394.37982],\n",
              "       [398.2291 ],\n",
              "       [397.2811 ],\n",
              "       [398.37042],\n",
              "       [401.2397 ],\n",
              "       [401.8358 ],\n",
              "       [393.01633],\n",
              "       [382.12723],\n",
              "       [385.77255],\n",
              "       [371.82465],\n",
              "       [370.556  ],\n",
              "       [375.22607],\n",
              "       [380.387  ],\n",
              "       [382.89743],\n",
              "       [380.68152],\n",
              "       [382.9188 ],\n",
              "       [387.36053],\n",
              "       [390.46875],\n",
              "       [390.48935],\n",
              "       [396.39276],\n",
              "       [400.79565],\n",
              "       [399.44205],\n",
              "       [398.85562],\n",
              "       [399.1764 ],\n",
              "       [394.11026],\n",
              "       [400.2349 ],\n",
              "       [399.85443],\n",
              "       [407.0283 ],\n",
              "       [406.31644],\n",
              "       [416.21573],\n",
              "       [418.9494 ],\n",
              "       [418.45685],\n",
              "       [420.75864],\n",
              "       [424.94882],\n",
              "       [422.292  ],\n",
              "       [425.58423],\n",
              "       [419.46918],\n",
              "       [418.67188],\n",
              "       [423.46402],\n",
              "       [421.70963],\n",
              "       [403.24432],\n",
              "       [403.3972 ],\n",
              "       [402.38864],\n",
              "       [393.79218],\n",
              "       [397.14764],\n",
              "       [394.95758],\n",
              "       [395.87842],\n",
              "       [405.24457],\n",
              "       [401.01187],\n",
              "       [397.21872],\n",
              "       [393.1476 ],\n",
              "       [392.03845],\n",
              "       [398.97318],\n",
              "       [394.21194],\n",
              "       [383.12753],\n",
              "       [385.01364],\n",
              "       [386.78687],\n",
              "       [383.78165],\n",
              "       [386.4323 ],\n",
              "       [389.55972],\n",
              "       [387.61118],\n",
              "       [395.7345 ],\n",
              "       [389.26886],\n",
              "       [389.1275 ],\n",
              "       [395.88083],\n",
              "       [398.96222],\n",
              "       [399.35895],\n",
              "       [397.36472],\n",
              "       [395.31213],\n",
              "       [395.7301 ],\n",
              "       [398.5978 ],\n",
              "       [398.1779 ],\n",
              "       [392.48953],\n",
              "       [399.3156 ],\n",
              "       [393.89548],\n",
              "       [391.18173],\n",
              "       [400.8005 ],\n",
              "       [403.2361 ],\n",
              "       [411.16037],\n",
              "       [413.515  ],\n",
              "       [410.70285],\n",
              "       [412.82312],\n",
              "       [415.43533],\n",
              "       [413.1369 ],\n",
              "       [410.78802],\n",
              "       [414.75165],\n",
              "       [422.15967],\n",
              "       [406.58606],\n",
              "       [421.28696],\n",
              "       [426.87424],\n",
              "       [426.93777],\n",
              "       [433.20746],\n",
              "       [422.98685],\n",
              "       [424.0527 ],\n",
              "       [417.21533],\n",
              "       [420.05032],\n",
              "       [420.59256],\n",
              "       [409.66537],\n",
              "       [401.73843],\n",
              "       [400.58984],\n",
              "       [403.11075],\n",
              "       [400.7504 ],\n",
              "       [394.60065],\n",
              "       [398.3384 ],\n",
              "       [405.9609 ],\n",
              "       [404.9545 ],\n",
              "       [398.25626],\n",
              "       [387.78015],\n",
              "       [390.80298],\n",
              "       [393.07288],\n",
              "       [399.84262],\n",
              "       [401.33588],\n",
              "       [406.74197],\n",
              "       [403.47357],\n",
              "       [400.40918],\n",
              "       [399.0036 ],\n",
              "       [397.98834],\n",
              "       [399.9469 ],\n",
              "       [375.30728],\n",
              "       [385.24762],\n",
              "       [378.46533],\n",
              "       [384.27768],\n",
              "       [383.1211 ],\n",
              "       [379.23734],\n",
              "       [378.5743 ],\n",
              "       [368.7502 ],\n",
              "       [363.08856],\n",
              "       [368.49606],\n",
              "       [364.3926 ],\n",
              "       [358.72952],\n",
              "       [361.3803 ],\n",
              "       [364.2793 ],\n",
              "       [364.47733],\n",
              "       [354.61752],\n",
              "       [365.57526],\n",
              "       [365.77048],\n",
              "       [365.57486],\n",
              "       [371.82898],\n",
              "       [375.50635],\n",
              "       [373.8149 ],\n",
              "       [381.00528],\n",
              "       [374.4236 ],\n",
              "       [368.2168 ],\n",
              "       [378.27344],\n",
              "       [383.6921 ],\n",
              "       [379.1804 ],\n",
              "       [379.29468],\n",
              "       [381.07495],\n",
              "       [376.3332 ],\n",
              "       [380.76138],\n",
              "       [386.85812],\n",
              "       [386.25992],\n",
              "       [390.084  ],\n",
              "       [394.66522],\n",
              "       [398.40448],\n",
              "       [392.8684 ],\n",
              "       [388.55704],\n",
              "       [399.8201 ],\n",
              "       [404.5946 ],\n",
              "       [404.1925 ],\n",
              "       [403.79898],\n",
              "       [401.2266 ],\n",
              "       [403.6638 ],\n",
              "       [401.4233 ],\n",
              "       [400.83054],\n",
              "       [395.52368],\n",
              "       [391.26178],\n",
              "       [384.51614],\n",
              "       [380.13593],\n",
              "       [377.4104 ],\n",
              "       [372.86923],\n",
              "       [370.05463],\n",
              "       [376.72537],\n",
              "       [376.3122 ],\n",
              "       [374.39114],\n",
              "       [371.0091 ],\n",
              "       [383.5511 ],\n",
              "       [384.69888],\n",
              "       [374.61157],\n",
              "       [369.64014],\n",
              "       [372.73627],\n",
              "       [377.6598 ],\n",
              "       [378.11447],\n",
              "       [378.8756 ],\n",
              "       [384.12653],\n",
              "       [378.8721 ],\n",
              "       [370.40488],\n",
              "       [369.34637],\n",
              "       [368.42877],\n",
              "       [361.90768],\n",
              "       [363.87088],\n",
              "       [365.60547],\n",
              "       [364.3603 ],\n",
              "       [359.72308],\n",
              "       [360.4333 ],\n",
              "       [359.46796],\n",
              "       [359.80698],\n",
              "       [368.67984],\n",
              "       [362.03528],\n",
              "       [359.76086],\n",
              "       [357.85968],\n",
              "       [359.62143],\n",
              "       [363.39038],\n",
              "       [364.68588],\n",
              "       [367.1526 ],\n",
              "       [369.67667],\n",
              "       [366.0555 ],\n",
              "       [366.23477],\n",
              "       [358.07648],\n",
              "       [362.9794 ],\n",
              "       [362.44952],\n",
              "       [366.4434 ],\n",
              "       [367.19513],\n",
              "       [376.2628 ],\n",
              "       [383.40527],\n",
              "       [389.1378 ],\n",
              "       [390.3321 ],\n",
              "       [386.4599 ],\n",
              "       [382.56693],\n",
              "       [392.13632],\n",
              "       [392.48865],\n",
              "       [391.82758],\n",
              "       [392.07758],\n",
              "       [390.03732],\n",
              "       [368.52377],\n",
              "       [370.24902],\n",
              "       [375.73422],\n",
              "       [376.7705 ],\n",
              "       [374.0103 ],\n",
              "       [369.53363],\n",
              "       [366.68518],\n",
              "       [370.19174],\n",
              "       [374.3687 ],\n",
              "       [374.2317 ],\n",
              "       [379.15463],\n",
              "       [372.83826],\n",
              "       [373.5876 ],\n",
              "       [381.94418],\n",
              "       [381.75943],\n",
              "       [378.85297],\n",
              "       [378.13208],\n",
              "       [379.75076],\n",
              "       [370.59937],\n",
              "       [374.92572],\n",
              "       [381.14502],\n",
              "       [374.4929 ],\n",
              "       [368.26572],\n",
              "       [362.26868],\n",
              "       [372.3235 ],\n",
              "       [377.02844],\n",
              "       [376.96567],\n",
              "       [374.85535],\n",
              "       [368.17343],\n",
              "       [359.16934],\n",
              "       [346.96066],\n",
              "       [340.3636 ],\n",
              "       [341.12714],\n",
              "       [338.9363 ],\n",
              "       [333.04184],\n",
              "       [332.0463 ],\n",
              "       [331.52292],\n",
              "       [322.32492],\n",
              "       [308.5768 ],\n",
              "       [306.9166 ],\n",
              "       [318.12143],\n",
              "       [325.90433],\n",
              "       [320.36438],\n",
              "       [322.07742],\n",
              "       [322.46143],\n",
              "       [329.77625],\n",
              "       [320.31998],\n",
              "       [316.68713],\n",
              "       [316.9123 ],\n",
              "       [319.85315],\n",
              "       [317.7308 ],\n",
              "       [310.73114],\n",
              "       [306.98618],\n",
              "       [319.2844 ],\n",
              "       [324.29788],\n",
              "       [321.48224],\n",
              "       [318.88803],\n",
              "       [327.64572],\n",
              "       [329.71954],\n",
              "       [326.292  ],\n",
              "       [325.2185 ],\n",
              "       [333.13968],\n",
              "       [330.1309 ],\n",
              "       [331.7173 ],\n",
              "       [331.26468],\n",
              "       [340.17398],\n",
              "       [344.37878],\n",
              "       [346.55585],\n",
              "       [349.60757],\n",
              "       [354.06958],\n",
              "       [359.5626 ],\n",
              "       [361.93555],\n",
              "       [362.08057],\n",
              "       [359.6483 ],\n",
              "       [363.08395],\n",
              "       [361.16293],\n",
              "       [368.52426],\n",
              "       [368.60013],\n",
              "       [368.70148],\n",
              "       [359.63638],\n",
              "       [366.79752],\n",
              "       [356.9497 ],\n",
              "       [352.37534],\n",
              "       [366.3415 ],\n",
              "       [368.74487],\n",
              "       [364.62128],\n",
              "       [365.87726],\n",
              "       [367.7465 ],\n",
              "       [370.5393 ],\n",
              "       [370.23325],\n",
              "       [358.09665],\n",
              "       [357.15863],\n",
              "       [370.23615],\n",
              "       [377.75684],\n",
              "       [381.4918 ],\n",
              "       [381.4972 ],\n",
              "       [381.6186 ],\n",
              "       [374.7705 ],\n",
              "       [372.12393],\n",
              "       [377.07086],\n",
              "       [377.6761 ],\n",
              "       [374.6538 ],\n",
              "       [372.93066],\n",
              "       [375.64398],\n",
              "       [373.22894],\n",
              "       [370.31558],\n",
              "       [379.62686],\n",
              "       [383.7782 ],\n",
              "       [387.353  ],\n",
              "       [391.31308],\n",
              "       [388.8099 ],\n",
              "       [383.02954],\n",
              "       [378.68713],\n",
              "       [376.1302 ],\n",
              "       [370.9477 ],\n",
              "       [334.58212],\n",
              "       [349.61008],\n",
              "       [345.25534],\n",
              "       [342.2248 ],\n",
              "       [340.47382],\n",
              "       [337.4741 ],\n",
              "       [339.36545],\n",
              "       [333.1157 ],\n",
              "       [332.39316],\n",
              "       [332.40802],\n",
              "       [330.59875],\n",
              "       [328.65616],\n",
              "       [341.2297 ],\n",
              "       [348.76346],\n",
              "       [348.0253 ],\n",
              "       [340.27457],\n",
              "       [349.37323],\n",
              "       [354.0348 ],\n",
              "       [352.89154],\n",
              "       [330.44778],\n",
              "       [323.86853],\n",
              "       [326.93088],\n",
              "       [328.50174],\n",
              "       [333.3736 ],\n",
              "       [338.35938],\n",
              "       [337.39523],\n",
              "       [338.5914 ],\n",
              "       [339.85144],\n",
              "       [346.39124],\n",
              "       [354.61377],\n",
              "       [360.51917],\n",
              "       [361.40662],\n",
              "       [361.7888 ],\n",
              "       [363.33368],\n",
              "       [361.24603],\n",
              "       [356.93854],\n",
              "       [357.06888],\n",
              "       [358.3174 ],\n",
              "       [364.4925 ],\n",
              "       [363.2301 ],\n",
              "       [372.34723],\n",
              "       [376.08463],\n",
              "       [373.50522],\n",
              "       [374.527  ],\n",
              "       [371.8642 ],\n",
              "       [379.83603],\n",
              "       [374.74902],\n",
              "       [374.49432],\n",
              "       [377.6784 ],\n",
              "       [374.5214 ],\n",
              "       [379.58984],\n",
              "       [381.47787],\n",
              "       [387.87253],\n",
              "       [384.0715 ],\n",
              "       [383.43335],\n",
              "       [383.87802],\n",
              "       [385.15836],\n",
              "       [383.16226],\n",
              "       [385.53345],\n",
              "       [386.88623],\n",
              "       [388.99667],\n",
              "       [381.2782 ],\n",
              "       [374.34738],\n",
              "       [368.4367 ],\n",
              "       [367.46786],\n",
              "       [363.19333],\n",
              "       [369.79294],\n",
              "       [364.21118],\n",
              "       [367.1816 ],\n",
              "       [359.23187],\n",
              "       [367.20062],\n",
              "       [365.3996 ],\n",
              "       [380.43555],\n",
              "       [385.599  ],\n",
              "       [380.8776 ],\n",
              "       [393.80893],\n",
              "       [400.66135],\n",
              "       [403.04025],\n",
              "       [403.03806],\n",
              "       [396.79166],\n",
              "       [400.33612],\n",
              "       [407.42056],\n",
              "       [412.95706],\n",
              "       [414.8914 ],\n",
              "       [414.32294],\n",
              "       [413.264  ],\n",
              "       [414.33798],\n",
              "       [415.46063],\n",
              "       [414.18954],\n",
              "       [414.46664],\n",
              "       [416.16666],\n",
              "       [412.59045],\n",
              "       [411.52972],\n",
              "       [398.87766],\n",
              "       [394.6691 ],\n",
              "       [397.61823],\n",
              "       [400.99478],\n",
              "       [399.73083],\n",
              "       [406.56158],\n",
              "       [399.0987 ],\n",
              "       [401.98047],\n",
              "       [405.67014],\n",
              "       [406.29892],\n",
              "       [406.9356 ],\n",
              "       [407.0308 ],\n",
              "       [395.18796],\n",
              "       [392.1684 ],\n",
              "       [400.81824],\n",
              "       [400.6705 ],\n",
              "       [406.17545],\n",
              "       [407.6675 ],\n",
              "       [400.91522],\n",
              "       [409.46588],\n",
              "       [409.1387 ],\n",
              "       [403.9339 ],\n",
              "       [397.95605],\n",
              "       [401.20865],\n",
              "       [395.0259 ],\n",
              "       [378.48785],\n",
              "       [378.81805],\n",
              "       [381.28088],\n",
              "       [374.2384 ],\n",
              "       [372.59457],\n",
              "       [375.5944 ],\n",
              "       [370.3332 ],\n",
              "       [372.68463],\n",
              "       [366.8929 ],\n",
              "       [373.67194],\n",
              "       [370.87393],\n",
              "       [371.27927],\n",
              "       [373.84607],\n",
              "       [360.51233],\n",
              "       [357.5598 ],\n",
              "       [357.46902],\n",
              "       [357.7718 ],\n",
              "       [355.63904],\n",
              "       [351.4902 ],\n",
              "       [346.24103],\n",
              "       [348.7487 ],\n",
              "       [360.44925],\n",
              "       [367.7507 ],\n",
              "       [365.3373 ],\n",
              "       [362.65173],\n",
              "       [362.12024],\n",
              "       [358.96802],\n",
              "       [361.5789 ],\n",
              "       [364.34427],\n",
              "       [363.75815],\n",
              "       [366.33493],\n",
              "       [369.6913 ],\n",
              "       [368.8406 ],\n",
              "       [369.679  ],\n",
              "       [366.75696],\n",
              "       [361.95648],\n",
              "       [362.89075],\n",
              "       [359.97916],\n",
              "       [372.36246],\n",
              "       [383.60452],\n",
              "       [394.584  ],\n",
              "       [401.9073 ],\n",
              "       [405.2924 ],\n",
              "       [396.4982 ],\n",
              "       [401.86084],\n",
              "       [394.1449 ],\n",
              "       [395.24506],\n",
              "       [387.9556 ],\n",
              "       [389.11075],\n",
              "       [394.67804],\n",
              "       [393.6582 ],\n",
              "       [400.337  ],\n",
              "       [398.95367],\n",
              "       [403.73114],\n",
              "       [400.36404],\n",
              "       [399.4696 ],\n",
              "       [410.35812],\n",
              "       [412.33618],\n",
              "       [387.30118],\n",
              "       [391.85962],\n",
              "       [394.8417 ],\n",
              "       [394.65387],\n",
              "       [393.20807],\n",
              "       [390.66693],\n",
              "       [384.95053],\n",
              "       [386.28595],\n",
              "       [386.00894],\n",
              "       [386.6379 ],\n",
              "       [386.0624 ],\n",
              "       [382.01123],\n",
              "       [383.4668 ],\n",
              "       [369.06137],\n",
              "       [367.086  ],\n",
              "       [366.17294],\n",
              "       [365.69257],\n",
              "       [364.09348],\n",
              "       [365.59   ],\n",
              "       [369.82773],\n",
              "       [369.45544],\n",
              "       [371.35956],\n",
              "       [367.77744],\n",
              "       [369.4578 ],\n",
              "       [369.90338],\n",
              "       [377.756  ],\n",
              "       [375.17026],\n",
              "       [360.3773 ],\n",
              "       [364.3203 ],\n",
              "       [366.97525],\n",
              "       [365.0039 ],\n",
              "       [370.54312],\n",
              "       [365.34787],\n",
              "       [366.1585 ],\n",
              "       [369.05685],\n",
              "       [373.04095],\n",
              "       [365.7004 ],\n",
              "       [366.93265],\n",
              "       [370.78702],\n",
              "       [367.01544],\n",
              "       [368.48685],\n",
              "       [364.4161 ],\n",
              "       [365.28568],\n",
              "       [361.66772],\n",
              "       [361.1837 ],\n",
              "       [363.3632 ],\n",
              "       [363.64957],\n",
              "       [372.2148 ],\n",
              "       [377.53238],\n",
              "       [377.68228],\n",
              "       [374.4646 ],\n",
              "       [378.28326],\n",
              "       [380.014  ],\n",
              "       [385.59918],\n",
              "       [386.0313 ],\n",
              "       [383.8574 ],\n",
              "       [382.75607],\n",
              "       [384.65067],\n",
              "       [385.20532],\n",
              "       [382.0006 ],\n",
              "       [375.0221 ],\n",
              "       [375.17343],\n",
              "       [379.40787],\n",
              "       [381.51727],\n",
              "       [379.98514],\n",
              "       [376.16296],\n",
              "       [368.81964],\n",
              "       [378.23236],\n",
              "       [375.06525],\n",
              "       [366.4797 ],\n",
              "       [364.32092],\n",
              "       [369.53485],\n",
              "       [365.27377],\n",
              "       [367.19022],\n",
              "       [367.09637],\n",
              "       [365.6071 ],\n",
              "       [370.4102 ],\n",
              "       [370.96674],\n",
              "       [366.1402 ],\n",
              "       [363.66556],\n",
              "       [360.67685],\n",
              "       [364.03726],\n",
              "       [368.79764],\n",
              "       [368.49014],\n",
              "       [360.37097],\n",
              "       [356.03775],\n",
              "       [356.5061 ],\n",
              "       [353.354  ],\n",
              "       [343.89557],\n",
              "       [341.13138],\n",
              "       [346.52274],\n",
              "       [346.7901 ],\n",
              "       [348.32404],\n",
              "       [342.3925 ],\n",
              "       [326.41333],\n",
              "       [321.55273],\n",
              "       [300.3844 ],\n",
              "       [297.91647],\n",
              "       [280.41138],\n",
              "       [275.49106],\n",
              "       [270.7108 ],\n",
              "       [266.8115 ],\n",
              "       [263.4952 ],\n",
              "       [239.89403],\n",
              "       [233.73317],\n",
              "       [244.66478],\n",
              "       [251.54997],\n",
              "       [255.49081],\n",
              "       [255.712  ],\n",
              "       [254.74786],\n",
              "       [250.71994],\n",
              "       [248.26726],\n",
              "       [249.41153],\n",
              "       [252.47954],\n",
              "       [254.83763],\n",
              "       [260.83475],\n",
              "       [267.39822],\n",
              "       [270.25348],\n",
              "       [270.51724],\n",
              "       [271.13922],\n",
              "       [269.32883],\n",
              "       [271.03183],\n",
              "       [275.67465],\n",
              "       [275.21326],\n",
              "       [273.82843],\n",
              "       [273.99606],\n",
              "       [281.51663],\n",
              "       [288.00308],\n",
              "       [278.46045],\n",
              "       [268.666  ],\n",
              "       [268.6885 ],\n",
              "       [277.1168 ],\n",
              "       [284.0753 ],\n",
              "       [288.87653],\n",
              "       [291.09885],\n",
              "       [298.13818],\n",
              "       [303.5148 ],\n",
              "       [305.93488],\n",
              "       [297.83234],\n",
              "       [306.95404],\n",
              "       [316.06326],\n",
              "       [316.37772],\n",
              "       [311.3578 ],\n",
              "       [312.2188 ],\n",
              "       [320.00485],\n",
              "       [326.19623],\n",
              "       [323.39285],\n",
              "       [324.7579 ],\n",
              "       [331.99033],\n",
              "       [334.9285 ],\n",
              "       [334.89627],\n",
              "       [336.08612],\n",
              "       [338.2476 ],\n",
              "       [340.92816],\n",
              "       [342.165  ],\n",
              "       [336.85904],\n",
              "       [340.35464],\n",
              "       [338.1801 ],\n",
              "       [338.07693],\n",
              "       [338.822  ],\n",
              "       [340.89154],\n",
              "       [345.11923],\n",
              "       [346.43634],\n",
              "       [350.70834],\n",
              "       [348.6891 ],\n",
              "       [341.77625],\n",
              "       [340.2179 ],\n",
              "       [340.6803 ],\n",
              "       [342.1583 ],\n",
              "       [342.4478 ],\n",
              "       [344.48212],\n",
              "       [353.98486],\n",
              "       [356.5391 ],\n",
              "       [345.10422],\n",
              "       [338.19028],\n",
              "       [340.47446],\n",
              "       [335.9845 ],\n",
              "       [332.74557],\n",
              "       [323.9585 ],\n",
              "       [317.71112],\n",
              "       [314.0644 ],\n",
              "       [314.73654],\n",
              "       [317.866  ],\n",
              "       [317.12558],\n",
              "       [314.34644],\n",
              "       [314.3628 ],\n",
              "       [311.89664],\n",
              "       [310.62994],\n",
              "       [316.62646],\n",
              "       [317.25684],\n",
              "       [314.78467],\n",
              "       [315.37784],\n",
              "       [313.58557],\n",
              "       [315.0284 ],\n",
              "       [323.35254],\n",
              "       [325.00928],\n",
              "       [325.9544 ],\n",
              "       [329.0789 ],\n",
              "       [332.5697 ],\n",
              "       [337.35315],\n",
              "       [342.44354],\n",
              "       [344.52243],\n",
              "       [349.9575 ],\n",
              "       [352.2256 ],\n",
              "       [351.71707],\n",
              "       [349.50797],\n",
              "       [349.9966 ],\n",
              "       [346.57684],\n",
              "       [343.82953],\n",
              "       [350.10312],\n",
              "       [348.9512 ],\n",
              "       [355.11023],\n",
              "       [353.027  ],\n",
              "       [346.22906],\n",
              "       [353.9059 ],\n",
              "       [360.99234],\n",
              "       [351.5788 ],\n",
              "       [348.2026 ],\n",
              "       [343.8386 ],\n",
              "       [342.3364 ],\n",
              "       [341.01105],\n",
              "       [341.5692 ],\n",
              "       [348.6232 ],\n",
              "       [350.85287],\n",
              "       [350.86496],\n",
              "       [344.667  ],\n",
              "       [352.46326],\n",
              "       [347.3836 ],\n",
              "       [333.79016],\n",
              "       [325.7754 ],\n",
              "       [317.70068],\n",
              "       [325.7869 ],\n",
              "       [335.24683],\n",
              "       [340.52838],\n",
              "       [341.462  ],\n",
              "       [347.2329 ],\n",
              "       [348.05988],\n",
              "       [355.6426 ],\n",
              "       [357.3932 ],\n",
              "       [356.0613 ],\n",
              "       [353.7896 ],\n",
              "       [354.2329 ],\n",
              "       [348.75488],\n",
              "       [347.20877],\n",
              "       [342.85263],\n",
              "       [347.5678 ],\n",
              "       [347.11862],\n",
              "       [347.2011 ],\n",
              "       [351.8876 ],\n",
              "       [355.02448],\n",
              "       [359.38647],\n",
              "       [359.64044],\n",
              "       [359.67163],\n",
              "       [351.1421 ],\n",
              "       [341.4916 ],\n",
              "       [354.85715],\n",
              "       [356.35626],\n",
              "       [352.41415],\n",
              "       [357.02786],\n",
              "       [363.77902],\n",
              "       [366.6284 ],\n",
              "       [362.9592 ],\n",
              "       [361.7326 ],\n",
              "       [366.3221 ],\n",
              "       [364.414  ],\n",
              "       [361.76553],\n",
              "       [372.83865],\n",
              "       [380.87878],\n",
              "       [377.89798],\n",
              "       [369.85025],\n",
              "       [369.1072 ],\n",
              "       [382.4265 ],\n",
              "       [389.72034],\n",
              "       [396.7742 ],\n",
              "       [400.30206],\n",
              "       [407.43973],\n",
              "       [416.31265],\n",
              "       [420.13116],\n",
              "       [428.88687],\n",
              "       [439.57306],\n",
              "       [442.6428 ],\n",
              "       [441.5142 ],\n",
              "       [447.1148 ],\n",
              "       [444.82043],\n",
              "       [446.72394],\n",
              "       [453.08768],\n",
              "       [454.61053],\n",
              "       [447.81952],\n",
              "       [445.50568],\n",
              "       [428.93988],\n",
              "       [450.51642],\n",
              "       [455.45477],\n",
              "       [459.01212],\n",
              "       [462.2604 ],\n",
              "       [463.12122],\n",
              "       [464.72943],\n",
              "       [463.3128 ],\n",
              "       [476.19202],\n",
              "       [477.6657 ]], dtype=float32)"
            ]
          },
          "metadata": {
            "tags": []
          },
          "execution_count": 80
        }
      ]
    },
    {
      "cell_type": "code",
      "metadata": {
        "colab": {
          "base_uri": "https://localhost:8080/"
        },
        "id": "RxSF4ocujJ_z",
        "outputId": "3016dfcc-8441-4411-be65-798b36ef9c38"
      },
      "source": [
        "rms=np.sqrt(np.mean(np.power((valid_ds-preds),2)))\r\n",
        "rms"
      ],
      "execution_count": 81,
      "outputs": [
        {
          "output_type": "execute_result",
          "data": {
            "text/plain": [
              "9.7364492906962"
            ]
          },
          "metadata": {
            "tags": []
          },
          "execution_count": 81
        }
      ]
    },
    {
      "cell_type": "code",
      "metadata": {
        "colab": {
          "base_uri": "https://localhost:8080/",
          "height": 600
        },
        "id": "pHIdcM4tjObh",
        "outputId": "33f7067a-38ad-4a00-81d9-14ec70a1500d"
      },
      "source": [
        "#for plotting\r\n",
        "train = dataset[0:1714]\r\n",
        "valid = dataset[1714:]\r\n",
        "valid['Predictions'] = preds\r\n",
        "plt.figure(figsize=(20,8))\r\n",
        "plt.plot(train['Close'])\r\n",
        "plt.plot(valid['Close'], color = 'blue', label = 'Real Price')\r\n",
        "plt.plot(valid['Predictions'], color = 'red', label = 'Predicted Price')\r\n",
        "plt.title('ADANIPORTS price prediction')\r\n",
        "plt.legend()\r\n",
        "plt.show()"
      ],
      "execution_count": 114,
      "outputs": [
        {
          "output_type": "stream",
          "text": [
            "/usr/local/lib/python3.6/dist-packages/ipykernel_launcher.py:4: SettingWithCopyWarning: \n",
            "A value is trying to be set on a copy of a slice from a DataFrame.\n",
            "Try using .loc[row_indexer,col_indexer] = value instead\n",
            "\n",
            "See the caveats in the documentation: https://pandas.pydata.org/pandas-docs/stable/user_guide/indexing.html#returning-a-view-versus-a-copy\n",
            "  after removing the cwd from sys.path.\n"
          ],
          "name": "stderr"
        },
        {
          "output_type": "display_data",
          "data": {
            "image/png": "[encoded data removed]",
            "text/plain": [
              "<Figure size 1440x576 with 1 Axes>"
            ]
          },
          "metadata": {
            "tags": [],
            "needs_background": "light"
          }
        }
      ]
    },
    {
      "cell_type": "markdown",
      "metadata": {
        "id": "Jo2jPsWS4poF"
      },
      "source": [
        "#Predicting future value of stock"
      ]
    },
    {
      "cell_type": "code",
      "metadata": {
        "id": "Mlg9wImKlNko"
      },
      "source": [
        "look_back=30\r\n",
        "inputs = dataset[-look_back:].values\r\n",
        "inputs = inputs.reshape(-1,1)\r\n",
        "inputs  = scaler.transform(inputs)"
      ],
      "execution_count": 110,
      "outputs": []
    },
    {
      "cell_type": "code",
      "metadata": {
        "id": "C7ozIr1l3HYm"
      },
      "source": [
        "forecast_list=[]\r\n",
        "for _ in range(30):\r\n",
        "  x = inputs[-look_back:]\r\n",
        "  x = np.reshape(x, (x.shape[1],x.shape[0],1))\r\n",
        "  forecast = model.predict(x)\r\n",
        "  forecast = scaler.inverse_transform(forecast)\r\n",
        "  inputs = scaler.inverse_transform(inputs)\r\n",
        "  inputs = np.append(inputs,forecast[0][0])\r\n",
        "  inputs = inputs.reshape(-1,1)\r\n",
        "  inputs  = scaler.transform(inputs)\r\n",
        "  forecast_list.append(forecast[0][0])"
      ],
      "execution_count": 111,
      "outputs": []
    },
    {
      "cell_type": "code",
      "metadata": {
        "colab": {
          "base_uri": "https://localhost:8080/"
        },
        "id": "SwWXqfIeiUCS",
        "outputId": "87a5ae5e-5af7-48bc-b664-9a4393c8cabb"
      },
      "source": [
        "last_date = dataset_raw['Date'].values[-1]\r\n",
        "prediction_dates = pd.date_range(last_date, periods=31).tolist()\r\n",
        "prediction_dates = prediction_dates[1:]\r\n",
        "prediction_dates"
      ],
      "execution_count": 85,
      "outputs": [
        {
          "output_type": "execute_result",
          "data": {
            "text/plain": [
              "[Timestamp('2021-01-06 00:00:00', freq='D'),\n",
              " Timestamp('2021-01-07 00:00:00', freq='D'),\n",
              " Timestamp('2021-01-08 00:00:00', freq='D'),\n",
              " Timestamp('2021-01-09 00:00:00', freq='D'),\n",
              " Timestamp('2021-01-10 00:00:00', freq='D'),\n",
              " Timestamp('2021-01-11 00:00:00', freq='D'),\n",
              " Timestamp('2021-01-12 00:00:00', freq='D'),\n",
              " Timestamp('2021-01-13 00:00:00', freq='D'),\n",
              " Timestamp('2021-01-14 00:00:00', freq='D'),\n",
              " Timestamp('2021-01-15 00:00:00', freq='D'),\n",
              " Timestamp('2021-01-16 00:00:00', freq='D'),\n",
              " Timestamp('2021-01-17 00:00:00', freq='D'),\n",
              " Timestamp('2021-01-18 00:00:00', freq='D'),\n",
              " Timestamp('2021-01-19 00:00:00', freq='D'),\n",
              " Timestamp('2021-01-20 00:00:00', freq='D'),\n",
              " Timestamp('2021-01-21 00:00:00', freq='D'),\n",
              " Timestamp('2021-01-22 00:00:00', freq='D'),\n",
              " Timestamp('2021-01-23 00:00:00', freq='D'),\n",
              " Timestamp('2021-01-24 00:00:00', freq='D'),\n",
              " Timestamp('2021-01-25 00:00:00', freq='D'),\n",
              " Timestamp('2021-01-26 00:00:00', freq='D'),\n",
              " Timestamp('2021-01-27 00:00:00', freq='D'),\n",
              " Timestamp('2021-01-28 00:00:00', freq='D'),\n",
              " Timestamp('2021-01-29 00:00:00', freq='D'),\n",
              " Timestamp('2021-01-30 00:00:00', freq='D'),\n",
              " Timestamp('2021-01-31 00:00:00', freq='D'),\n",
              " Timestamp('2021-02-01 00:00:00', freq='D'),\n",
              " Timestamp('2021-02-02 00:00:00', freq='D'),\n",
              " Timestamp('2021-02-03 00:00:00', freq='D'),\n",
              " Timestamp('2021-02-04 00:00:00', freq='D')]"
            ]
          },
          "metadata": {
            "tags": []
          },
          "execution_count": 85
        }
      ]
    },
    {
      "cell_type": "code",
      "metadata": {
        "colab": {
          "base_uri": "https://localhost:8080/",
          "height": 935
        },
        "id": "QjQzGwSkjP3a",
        "outputId": "ebf5cfe5-9fdb-4687-d1c3-e31b7439323a"
      },
      "source": [
        "fpred=pd.DataFrame(list(zip(prediction_dates, forecast_list)), \r\n",
        "               columns =['Date', 'Predicted Close']) \r\n",
        "fpred"
      ],
      "execution_count": 112,
      "outputs": [
        {
          "output_type": "execute_result",
          "data": {
            "text/html": [
              "<div>\n",
              "<style scoped>\n",
              "    .dataframe tbody tr th:only-of-type {\n",
              "        vertical-align: middle;\n",
              "    }\n",
              "\n",
              "    .dataframe tbody tr th {\n",
              "        vertical-align: top;\n",
              "    }\n",
              "\n",
              "    .dataframe thead th {\n",
              "        text-align: right;\n",
              "    }\n",
              "</style>\n",
              "<table border=\"1\" class=\"dataframe\">\n",
              "  <thead>\n",
              "    <tr style=\"text-align: right;\">\n",
              "      <th></th>\n",
              "      <th>Date</th>\n",
              "      <th>Predicted Close</th>\n",
              "    </tr>\n",
              "  </thead>\n",
              "  <tbody>\n",
              "    <tr>\n",
              "      <th>0</th>\n",
              "      <td>2021-01-06</td>\n",
              "      <td>476.379822</td>\n",
              "    </tr>\n",
              "    <tr>\n",
              "      <th>1</th>\n",
              "      <td>2021-01-07</td>\n",
              "      <td>451.596924</td>\n",
              "    </tr>\n",
              "    <tr>\n",
              "      <th>2</th>\n",
              "      <td>2021-01-08</td>\n",
              "      <td>436.330383</td>\n",
              "    </tr>\n",
              "    <tr>\n",
              "      <th>3</th>\n",
              "      <td>2021-01-09</td>\n",
              "      <td>432.405914</td>\n",
              "    </tr>\n",
              "    <tr>\n",
              "      <th>4</th>\n",
              "      <td>2021-01-10</td>\n",
              "      <td>432.211548</td>\n",
              "    </tr>\n",
              "    <tr>\n",
              "      <th>5</th>\n",
              "      <td>2021-01-11</td>\n",
              "      <td>429.697357</td>\n",
              "    </tr>\n",
              "    <tr>\n",
              "      <th>6</th>\n",
              "      <td>2021-01-12</td>\n",
              "      <td>424.202087</td>\n",
              "    </tr>\n",
              "    <tr>\n",
              "      <th>7</th>\n",
              "      <td>2021-01-13</td>\n",
              "      <td>417.394226</td>\n",
              "    </tr>\n",
              "    <tr>\n",
              "      <th>8</th>\n",
              "      <td>2021-01-14</td>\n",
              "      <td>411.091431</td>\n",
              "    </tr>\n",
              "    <tr>\n",
              "      <th>9</th>\n",
              "      <td>2021-01-15</td>\n",
              "      <td>406.100220</td>\n",
              "    </tr>\n",
              "    <tr>\n",
              "      <th>10</th>\n",
              "      <td>2021-01-16</td>\n",
              "      <td>402.235870</td>\n",
              "    </tr>\n",
              "    <tr>\n",
              "      <th>11</th>\n",
              "      <td>2021-01-17</td>\n",
              "      <td>399.001526</td>\n",
              "    </tr>\n",
              "    <tr>\n",
              "      <th>12</th>\n",
              "      <td>2021-01-18</td>\n",
              "      <td>395.997864</td>\n",
              "    </tr>\n",
              "    <tr>\n",
              "      <th>13</th>\n",
              "      <td>2021-01-19</td>\n",
              "      <td>393.269226</td>\n",
              "    </tr>\n",
              "    <tr>\n",
              "      <th>14</th>\n",
              "      <td>2021-01-20</td>\n",
              "      <td>390.784088</td>\n",
              "    </tr>\n",
              "    <tr>\n",
              "      <th>15</th>\n",
              "      <td>2021-01-21</td>\n",
              "      <td>388.508453</td>\n",
              "    </tr>\n",
              "    <tr>\n",
              "      <th>16</th>\n",
              "      <td>2021-01-22</td>\n",
              "      <td>386.406158</td>\n",
              "    </tr>\n",
              "    <tr>\n",
              "      <th>17</th>\n",
              "      <td>2021-01-23</td>\n",
              "      <td>384.446289</td>\n",
              "    </tr>\n",
              "    <tr>\n",
              "      <th>18</th>\n",
              "      <td>2021-01-24</td>\n",
              "      <td>382.598602</td>\n",
              "    </tr>\n",
              "    <tr>\n",
              "      <th>19</th>\n",
              "      <td>2021-01-25</td>\n",
              "      <td>380.808472</td>\n",
              "    </tr>\n",
              "    <tr>\n",
              "      <th>20</th>\n",
              "      <td>2021-01-26</td>\n",
              "      <td>379.013336</td>\n",
              "    </tr>\n",
              "    <tr>\n",
              "      <th>21</th>\n",
              "      <td>2021-01-27</td>\n",
              "      <td>377.163757</td>\n",
              "    </tr>\n",
              "    <tr>\n",
              "      <th>22</th>\n",
              "      <td>2021-01-28</td>\n",
              "      <td>375.249542</td>\n",
              "    </tr>\n",
              "    <tr>\n",
              "      <th>23</th>\n",
              "      <td>2021-01-29</td>\n",
              "      <td>373.251465</td>\n",
              "    </tr>\n",
              "    <tr>\n",
              "      <th>24</th>\n",
              "      <td>2021-01-30</td>\n",
              "      <td>371.184357</td>\n",
              "    </tr>\n",
              "    <tr>\n",
              "      <th>25</th>\n",
              "      <td>2021-01-31</td>\n",
              "      <td>369.067749</td>\n",
              "    </tr>\n",
              "    <tr>\n",
              "      <th>26</th>\n",
              "      <td>2021-02-01</td>\n",
              "      <td>366.936218</td>\n",
              "    </tr>\n",
              "    <tr>\n",
              "      <th>27</th>\n",
              "      <td>2021-02-02</td>\n",
              "      <td>364.831177</td>\n",
              "    </tr>\n",
              "    <tr>\n",
              "      <th>28</th>\n",
              "      <td>2021-02-03</td>\n",
              "      <td>362.752808</td>\n",
              "    </tr>\n",
              "    <tr>\n",
              "      <th>29</th>\n",
              "      <td>2021-02-04</td>\n",
              "      <td>360.755615</td>\n",
              "    </tr>\n",
              "  </tbody>\n",
              "</table>\n",
              "</div>"
            ],
            "text/plain": [
              "         Date  Predicted Close\n",
              "0  2021-01-06       476.379822\n",
              "1  2021-01-07       451.596924\n",
              "2  2021-01-08       436.330383\n",
              "3  2021-01-09       432.405914\n",
              "4  2021-01-10       432.211548\n",
              "5  2021-01-11       429.697357\n",
              "6  2021-01-12       424.202087\n",
              "7  2021-01-13       417.394226\n",
              "8  2021-01-14       411.091431\n",
              "9  2021-01-15       406.100220\n",
              "10 2021-01-16       402.235870\n",
              "11 2021-01-17       399.001526\n",
              "12 2021-01-18       395.997864\n",
              "13 2021-01-19       393.269226\n",
              "14 2021-01-20       390.784088\n",
              "15 2021-01-21       388.508453\n",
              "16 2021-01-22       386.406158\n",
              "17 2021-01-23       384.446289\n",
              "18 2021-01-24       382.598602\n",
              "19 2021-01-25       380.808472\n",
              "20 2021-01-26       379.013336\n",
              "21 2021-01-27       377.163757\n",
              "22 2021-01-28       375.249542\n",
              "23 2021-01-29       373.251465\n",
              "24 2021-01-30       371.184357\n",
              "25 2021-01-31       369.067749\n",
              "26 2021-02-01       366.936218\n",
              "27 2021-02-02       364.831177\n",
              "28 2021-02-03       362.752808\n",
              "29 2021-02-04       360.755615"
            ]
          },
          "metadata": {
            "tags": []
          },
          "execution_count": 112
        }
      ]
    },
    {
      "cell_type": "code",
      "metadata": {
        "colab": {
          "base_uri": "https://localhost:8080/",
          "height": 402
        },
        "id": "o0hb10Pq4oeQ",
        "outputId": "a0183648-67aa-4b56-9919-e050b54fd91b"
      },
      "source": [
        "plt.figure(figsize=(9,5))\r\n",
        "fpred.plot(x='Date',label = 'Predicted Price')\r\n",
        "plt.title('ADANIPORTS price prediction')\r\n",
        "plt.legend()\r\n",
        "plt.show()"
      ],
      "execution_count": 113,
      "outputs": [
        {
          "output_type": "display_data",
          "data": {
            "text/plain": [
              "<Figure size 648x360 with 0 Axes>"
            ]
          },
          "metadata": {
            "tags": []
          }
        },
        {
          "output_type": "display_data",
          "data": {
            "image/png": "[encoded data removed]",
            "text/plain": [
              "<Figure size 648x360 with 1 Axes>"
            ]
          },
          "metadata": {
            "tags": [],
            "needs_background": "light"
          }
        }
      ]
    },
    {
      "cell_type": "code",
      "metadata": {
        "colab": {
          "base_uri": "https://localhost:8080/",
          "height": 119
        },
        "id": "4LX_dEdUnZAC",
        "outputId": "631f77c9-69c7-496a-ecc7-94c258238ff9"
      },
      "source": [
        "jovian.commit(project=project_name, environment=None)"
      ],
      "execution_count": 115,
      "outputs": [
        {
          "output_type": "stream",
          "text": [
            "[jovian] Detected Colab notebook...\u001b[0m\n",
            "[jovian] Please enter your API key ( from https://jovian.ai/ ):\u001b[0m\n",
            "API KEY: ··········\n",
            "[jovian] Uploading colab notebook to Jovian...\u001b[0m\n",
            "[jovian] Committed successfully! https://jovian.ai/medhamathur27/nifty-50-stock-price-prediction-02\u001b[0m\n"
          ],
          "name": "stdout"
        },
        {
          "output_type": "execute_result",
          "data": {
            "application/vnd.google.colaboratory.intrinsic+json": {
              "type": "string"
            },
            "text/plain": [
              "'https://jovian.ai/medhamathur27/nifty-50-stock-price-prediction-02'"
            ]
          },
          "metadata": {
            "tags": []
          },
          "execution_count": 115
        }
      ]
    }
  ]
}