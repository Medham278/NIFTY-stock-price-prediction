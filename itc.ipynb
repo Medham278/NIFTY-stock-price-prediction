{
 "cells": [
  {
   "cell_type": "markdown",
   "metadata": {
    "id": "XY5g4qT96Csy"
   },
   "source": [
    "#NIFTY 50 : ITC STOCK PRICE PREDICTION\r\n",
    "Final Assignment/Project for \"Deep Learning: Zero to GANs\" course by Medha Mathur.\r\n"
   ]
  },
  {
   "cell_type": "code",
   "execution_count": 2,
   "metadata": {
    "executionInfo": {
     "elapsed": 3642,
     "status": "ok",
     "timestamp": 1609921926254,
     "user": {
      "displayName": "5072 Medha Mathur",
      "photoUrl": "https://lh3.googleusercontent.com/a-/AOh14GhU5rpc98_bHp-wBsi8gjk3rfPBSk5rV-xSzpRV=s64",
      "userId": "09694216789696746072"
     },
     "user_tz": -330
    },
    "id": "6ydlvFx_7CGW"
   },
   "outputs": [],
   "source": [
    "import torch\r\n",
    "import jovian\r\n",
    "import torchvision\r\n",
    "import torch.nn as nn\r\n",
    "import pandas as pd\r\n",
    "import matplotlib.pyplot as plt\r\n",
    "import torch.nn.functional as F\r\n",
    "from torchvision.datasets.utils import download_url\r\n",
    "from torch.utils.data import DataLoader, TensorDataset, random_split"
   ]
  },
  {
   "cell_type": "code",
   "execution_count": 3,
   "metadata": {
    "executionInfo": {
     "elapsed": 2517,
     "status": "ok",
     "timestamp": 1609921943197,
     "user": {
      "displayName": "5072 Medha Mathur",
      "photoUrl": "https://lh3.googleusercontent.com/a-/AOh14GhU5rpc98_bHp-wBsi8gjk3rfPBSk5rV-xSzpRV=s64",
      "userId": "09694216789696746072"
     },
     "user_tz": -330
    },
    "id": "Q-plbNIZ7HQO"
   },
   "outputs": [],
   "source": [
    "import matplotlib\r\n",
    "import matplotlib.pyplot as plt\r\n",
    "import seaborn as sns"
   ]
  },
  {
   "cell_type": "code",
   "execution_count": 4,
   "metadata": {
    "executionInfo": {
     "elapsed": 31858,
     "status": "ok",
     "timestamp": 1609921976151,
     "user": {
      "displayName": "5072 Medha Mathur",
      "photoUrl": "https://lh3.googleusercontent.com/a-/AOh14GhU5rpc98_bHp-wBsi8gjk3rfPBSk5rV-xSzpRV=s64",
      "userId": "09694216789696746072"
     },
     "user_tz": -330
    },
    "id": "62XBb4fkb1jD"
   },
   "outputs": [],
   "source": [
    "import numpy as np\r\n",
    "import datetime as dt\r\n",
    "from datetime import datetime\r\n",
    "\r\n",
    "from sklearn.preprocessing import MinMaxScaler\r\n",
    "\r\n",
    "### Create the Stacked LSTM model\r\n",
    "from tensorflow.keras.models import Sequential\r\n",
    "from tensorflow.keras.layers import Dense\r\n",
    "from tensorflow.keras.layers import LSTM\r\n",
    "from keras.layers import Dropout"
   ]
  },
  {
   "cell_type": "code",
   "execution_count": 5,
   "metadata": {
    "executionInfo": {
     "elapsed": 1169,
     "status": "ok",
     "timestamp": 1609921979521,
     "user": {
      "displayName": "5072 Medha Mathur",
      "photoUrl": "https://lh3.googleusercontent.com/a-/AOh14GhU5rpc98_bHp-wBsi8gjk3rfPBSk5rV-xSzpRV=s64",
      "userId": "09694216789696746072"
     },
     "user_tz": -330
    },
    "id": "bSyL0k4X7KJv"
   },
   "outputs": [],
   "source": [
    "sns.set_style(\"darkgrid\")\r\n",
    "matplotlib.rcParams['font.size'] = 10\r\n",
    "matplotlib.rcParams['figure.figsize'] = (9, 5)\r\n",
    "matplotlib.rcParams['figure.facecolor'] = '#00000000'"
   ]
  },
  {
   "cell_type": "code",
   "execution_count": 6,
   "metadata": {
    "executionInfo": {
     "elapsed": 1298,
     "status": "ok",
     "timestamp": 1609921991509,
     "user": {
      "displayName": "5072 Medha Mathur",
      "photoUrl": "https://lh3.googleusercontent.com/a-/AOh14GhU5rpc98_bHp-wBsi8gjk3rfPBSk5rV-xSzpRV=s64",
      "userId": "09694216789696746072"
     },
     "user_tz": -330
    },
    "id": "PqbbkLB77NRA"
   },
   "outputs": [],
   "source": [
    "project_name='nifty-50-stock-price-prediction-itc'"
   ]
  },
  {
   "cell_type": "markdown",
   "metadata": {
    "id": "glulRyvt6ZBp"
   },
   "source": [
    "Dataset taken from :\r\n",
    "\r\n",
    "https://in.finance.yahoo.com/quote/ITC.NS/history?period1=1262304000&period2=1609977600&interval=1d&filter=history&frequency=1d&includeAdjustedClose=true\r\n",
    "\r\n",
    "The .csv file has been imported in the from Google Sheets. "
   ]
  },
  {
   "cell_type": "code",
   "execution_count": 7,
   "metadata": {
    "executionInfo": {
     "elapsed": 3347,
     "status": "ok",
     "timestamp": 1609922013007,
     "user": {
      "displayName": "5072 Medha Mathur",
      "photoUrl": "https://lh3.googleusercontent.com/a-/AOh14GhU5rpc98_bHp-wBsi8gjk3rfPBSk5rV-xSzpRV=s64",
      "userId": "09694216789696746072"
     },
     "user_tz": -330
    },
    "id": "8ThAJWcGKnFi"
   },
   "outputs": [],
   "source": [
    "!pip install jovian --upgrade -q"
   ]
  },
  {
   "cell_type": "code",
   "execution_count": 8,
   "metadata": {
    "executionInfo": {
     "elapsed": 8239,
     "status": "ok",
     "timestamp": 1609922030766,
     "user": {
      "displayName": "5072 Medha Mathur",
      "photoUrl": "https://lh3.googleusercontent.com/a-/AOh14GhU5rpc98_bHp-wBsi8gjk3rfPBSk5rV-xSzpRV=s64",
      "userId": "09694216789696746072"
     },
     "user_tz": -330
    },
    "id": "qlcYbvMyKp9g"
   },
   "outputs": [],
   "source": [
    "import jovian"
   ]
  },
  {
   "cell_type": "code",
   "execution_count": 9,
   "metadata": {
    "colab": {
     "base_uri": "https://localhost:8080/",
     "height": 119
    },
    "executionInfo": {
     "elapsed": 27192,
     "status": "ok",
     "timestamp": 1609922066559,
     "user": {
      "displayName": "5072 Medha Mathur",
      "photoUrl": "https://lh3.googleusercontent.com/a-/AOh14GhU5rpc98_bHp-wBsi8gjk3rfPBSk5rV-xSzpRV=s64",
      "userId": "09694216789696746072"
     },
     "user_tz": -330
    },
    "id": "DncZZlQZWJoM",
    "outputId": "8d870bba-69f9-41a4-ef2b-1f401c0f4967"
   },
   "outputs": [
    {
     "name": "stdout",
     "output_type": "stream",
     "text": [
      "[jovian] Detected Colab notebook...\u001b[0m\n",
      "[jovian] Please enter your API key ( from https://jovian.ai/ ):\u001b[0m\n",
      "API KEY: ··········\n",
      "[jovian] Uploading colab notebook to Jovian...\u001b[0m\n",
      "[jovian] Committed successfully! https://jovian.ai/medhamathur27/nifty-50-stock-price-prediction-itc\u001b[0m\n"
     ]
    },
    {
     "data": {
      "application/vnd.google.colaboratory.intrinsic+json": {
       "type": "string"
      },
      "text/plain": [
       "'https://jovian.ai/medhamathur27/nifty-50-stock-price-prediction-itc'"
      ]
     },
     "execution_count": 9,
     "metadata": {
      "tags": []
     },
     "output_type": "execute_result"
    }
   ],
   "source": [
    "jovian.commit(project=project_name, environment=None)"
   ]
  },
  {
   "cell_type": "code",
   "execution_count": 10,
   "metadata": {
    "colab": {
     "base_uri": "https://localhost:8080/"
    },
    "executionInfo": {
     "elapsed": 5107,
     "status": "ok",
     "timestamp": 1609922075454,
     "user": {
      "displayName": "5072 Medha Mathur",
      "photoUrl": "https://lh3.googleusercontent.com/a-/AOh14GhU5rpc98_bHp-wBsi8gjk3rfPBSk5rV-xSzpRV=s64",
      "userId": "09694216789696746072"
     },
     "user_tz": -330
    },
    "id": "V8GmGqFya92f",
    "outputId": "33b05387-5db2-4949-f4b1-ee400a4542e5"
   },
   "outputs": [
    {
     "name": "stdout",
     "output_type": "stream",
     "text": [
      "Collecting gspread\n",
      "  Downloading https://files.pythonhosted.org/packages/9c/ba/bc8de4f5077bd34bc873bdd67a89cb29c4f181abba8a836d2c6a0a142365/gspread-3.6.0-py3-none-any.whl\n",
      "Requirement already satisfied, skipping upgrade: requests>=2.2.1 in /usr/local/lib/python3.6/dist-packages (from gspread) (2.23.0)\n",
      "Requirement already satisfied, skipping upgrade: google-auth>=1.12.0 in /usr/local/lib/python3.6/dist-packages (from gspread) (1.17.2)\n",
      "Requirement already satisfied, skipping upgrade: google-auth-oauthlib>=0.4.1 in /usr/local/lib/python3.6/dist-packages (from gspread) (0.4.2)\n",
      "Requirement already satisfied, skipping upgrade: urllib3!=1.25.0,!=1.25.1,<1.26,>=1.21.1 in /usr/local/lib/python3.6/dist-packages (from requests>=2.2.1->gspread) (1.24.3)\n",
      "Requirement already satisfied, skipping upgrade: idna<3,>=2.5 in /usr/local/lib/python3.6/dist-packages (from requests>=2.2.1->gspread) (2.10)\n",
      "Requirement already satisfied, skipping upgrade: certifi>=2017.4.17 in /usr/local/lib/python3.6/dist-packages (from requests>=2.2.1->gspread) (2020.12.5)\n",
      "Requirement already satisfied, skipping upgrade: chardet<4,>=3.0.2 in /usr/local/lib/python3.6/dist-packages (from requests>=2.2.1->gspread) (3.0.4)\n",
      "Requirement already satisfied, skipping upgrade: pyasn1-modules>=0.2.1 in /usr/local/lib/python3.6/dist-packages (from google-auth>=1.12.0->gspread) (0.2.8)\n",
      "Requirement already satisfied, skipping upgrade: cachetools<5.0,>=2.0.0 in /usr/local/lib/python3.6/dist-packages (from google-auth>=1.12.0->gspread) (4.2.0)\n",
      "Requirement already satisfied, skipping upgrade: setuptools>=40.3.0 in /usr/local/lib/python3.6/dist-packages (from google-auth>=1.12.0->gspread) (51.0.0)\n",
      "Requirement already satisfied, skipping upgrade: six>=1.9.0 in /usr/local/lib/python3.6/dist-packages (from google-auth>=1.12.0->gspread) (1.15.0)\n",
      "Requirement already satisfied, skipping upgrade: rsa<5,>=3.1.4; python_version >= \"3\" in /usr/local/lib/python3.6/dist-packages (from google-auth>=1.12.0->gspread) (4.6)\n",
      "Requirement already satisfied, skipping upgrade: requests-oauthlib>=0.7.0 in /usr/local/lib/python3.6/dist-packages (from google-auth-oauthlib>=0.4.1->gspread) (1.3.0)\n",
      "Requirement already satisfied, skipping upgrade: pyasn1<0.5.0,>=0.4.6 in /usr/local/lib/python3.6/dist-packages (from pyasn1-modules>=0.2.1->google-auth>=1.12.0->gspread) (0.4.8)\n",
      "Requirement already satisfied, skipping upgrade: oauthlib>=3.0.0 in /usr/local/lib/python3.6/dist-packages (from requests-oauthlib>=0.7.0->google-auth-oauthlib>=0.4.1->gspread) (3.1.0)\n",
      "Installing collected packages: gspread\n",
      "  Found existing installation: gspread 3.0.1\n",
      "    Uninstalling gspread-3.0.1:\n",
      "      Successfully uninstalled gspread-3.0.1\n",
      "Successfully installed gspread-3.6.0\n"
     ]
    }
   ],
   "source": [
    "!pip install --upgrade gspread"
   ]
  },
  {
   "cell_type": "code",
   "execution_count": 12,
   "metadata": {
    "executionInfo": {
     "elapsed": 20523,
     "status": "ok",
     "timestamp": 1609922189946,
     "user": {
      "displayName": "5072 Medha Mathur",
      "photoUrl": "https://lh3.googleusercontent.com/a-/AOh14GhU5rpc98_bHp-wBsi8gjk3rfPBSk5rV-xSzpRV=s64",
      "userId": "09694216789696746072"
     },
     "user_tz": -330
    },
    "id": "NuPJP7R1bEqx"
   },
   "outputs": [],
   "source": [
    "from google.colab import auth\r\n",
    "auth.authenticate_user()\r\n",
    "\r\n",
    "import gspread\r\n",
    "from oauth2client.client import GoogleCredentials\r\n",
    "\r\n",
    "gc = gspread.authorize(GoogleCredentials.get_application_default())"
   ]
  },
  {
   "cell_type": "code",
   "execution_count": 13,
   "metadata": {
    "colab": {
     "base_uri": "https://localhost:8080/",
     "height": 195
    },
    "executionInfo": {
     "elapsed": 3709,
     "status": "ok",
     "timestamp": 1609922203004,
     "user": {
      "displayName": "5072 Medha Mathur",
      "photoUrl": "https://lh3.googleusercontent.com/a-/AOh14GhU5rpc98_bHp-wBsi8gjk3rfPBSk5rV-xSzpRV=s64",
      "userId": "09694216789696746072"
     },
     "user_tz": -330
    },
    "id": "hXravRrbbhO0",
    "outputId": "251b7a33-62d8-487f-ecf0-142ed949474a"
   },
   "outputs": [
    {
     "data": {
      "text/html": [
       "<div>\n",
       "<style scoped>\n",
       "    .dataframe tbody tr th:only-of-type {\n",
       "        vertical-align: middle;\n",
       "    }\n",
       "\n",
       "    .dataframe tbody tr th {\n",
       "        vertical-align: top;\n",
       "    }\n",
       "\n",
       "    .dataframe thead th {\n",
       "        text-align: right;\n",
       "    }\n",
       "</style>\n",
       "<table border=\"1\" class=\"dataframe\">\n",
       "  <thead>\n",
       "    <tr style=\"text-align: right;\">\n",
       "      <th></th>\n",
       "      <th>Date</th>\n",
       "      <th>Open</th>\n",
       "      <th>High</th>\n",
       "      <th>Low</th>\n",
       "      <th>Close</th>\n",
       "      <th>Adj Close</th>\n",
       "      <th>Volume</th>\n",
       "    </tr>\n",
       "  </thead>\n",
       "  <tbody>\n",
       "    <tr>\n",
       "      <th>0</th>\n",
       "      <td>2010-01-04</td>\n",
       "      <td>84.333298</td>\n",
       "      <td>85</td>\n",
       "      <td>83.449997</td>\n",
       "      <td>84.550003</td>\n",
       "      <td>62.131336</td>\n",
       "      <td>5161635</td>\n",
       "    </tr>\n",
       "    <tr>\n",
       "      <th>1</th>\n",
       "      <td>2010-01-05</td>\n",
       "      <td>84.933296</td>\n",
       "      <td>85.583298</td>\n",
       "      <td>84.233299</td>\n",
       "      <td>85.383301</td>\n",
       "      <td>62.74369</td>\n",
       "      <td>10767225</td>\n",
       "    </tr>\n",
       "    <tr>\n",
       "      <th>2</th>\n",
       "      <td>2010-01-06</td>\n",
       "      <td>86.233299</td>\n",
       "      <td>86.233299</td>\n",
       "      <td>84.533302</td>\n",
       "      <td>85.583298</td>\n",
       "      <td>62.890656</td>\n",
       "      <td>7529979</td>\n",
       "    </tr>\n",
       "    <tr>\n",
       "      <th>3</th>\n",
       "      <td>2010-01-07</td>\n",
       "      <td>85.666702</td>\n",
       "      <td>86.166702</td>\n",
       "      <td>84.566704</td>\n",
       "      <td>85.316704</td>\n",
       "      <td>62.694752</td>\n",
       "      <td>4987434</td>\n",
       "    </tr>\n",
       "    <tr>\n",
       "      <th>4</th>\n",
       "      <td>2010-01-08</td>\n",
       "      <td>85.116699</td>\n",
       "      <td>86.166702</td>\n",
       "      <td>85.116699</td>\n",
       "      <td>85.5</td>\n",
       "      <td>62.829453</td>\n",
       "      <td>4881351</td>\n",
       "    </tr>\n",
       "  </tbody>\n",
       "</table>\n",
       "</div>"
      ],
      "text/plain": [
       "         Date       Open       High        Low      Close  Adj Close    Volume\n",
       "0  2010-01-04  84.333298         85  83.449997  84.550003  62.131336   5161635\n",
       "1  2010-01-05  84.933296  85.583298  84.233299  85.383301   62.74369  10767225\n",
       "2  2010-01-06  86.233299  86.233299  84.533302  85.583298  62.890656   7529979\n",
       "3  2010-01-07  85.666702  86.166702  84.566704  85.316704  62.694752   4987434\n",
       "4  2010-01-08  85.116699  86.166702  85.116699       85.5  62.829453   4881351"
      ]
     },
     "execution_count": 13,
     "metadata": {
      "tags": []
     },
     "output_type": "execute_result"
    }
   ],
   "source": [
    "worksheet = gc.open('ITC.csv').sheet1\r\n",
    "rows = worksheet.get_all_values()\r\n",
    "dataset_raw = pd.DataFrame(rows[1:],columns=rows[0])\r\n",
    "dataset_raw.dropna()\r\n",
    "dataset_raw.head()"
   ]
  },
  {
   "cell_type": "code",
   "execution_count": 14,
   "metadata": {
    "colab": {
     "base_uri": "https://localhost:8080/",
     "height": 195
    },
    "executionInfo": {
     "elapsed": 2121,
     "status": "ok",
     "timestamp": 1609922213045,
     "user": {
      "displayName": "5072 Medha Mathur",
      "photoUrl": "https://lh3.googleusercontent.com/a-/AOh14GhU5rpc98_bHp-wBsi8gjk3rfPBSk5rV-xSzpRV=s64",
      "userId": "09694216789696746072"
     },
     "user_tz": -330
    },
    "id": "Ar3quO35csu5",
    "outputId": "46d3dce2-133e-4a0c-c623-c8efb0de82dd"
   },
   "outputs": [
    {
     "data": {
      "text/html": [
       "<div>\n",
       "<style scoped>\n",
       "    .dataframe tbody tr th:only-of-type {\n",
       "        vertical-align: middle;\n",
       "    }\n",
       "\n",
       "    .dataframe tbody tr th {\n",
       "        vertical-align: top;\n",
       "    }\n",
       "\n",
       "    .dataframe thead th {\n",
       "        text-align: right;\n",
       "    }\n",
       "</style>\n",
       "<table border=\"1\" class=\"dataframe\">\n",
       "  <thead>\n",
       "    <tr style=\"text-align: right;\">\n",
       "      <th></th>\n",
       "      <th>Date</th>\n",
       "      <th>Open</th>\n",
       "      <th>High</th>\n",
       "      <th>Low</th>\n",
       "      <th>Close</th>\n",
       "      <th>Adj Close</th>\n",
       "      <th>Volume</th>\n",
       "    </tr>\n",
       "  </thead>\n",
       "  <tbody>\n",
       "    <tr>\n",
       "      <th>2718</th>\n",
       "      <td>2020-12-30</td>\n",
       "      <td>212.699997</td>\n",
       "      <td>213.5</td>\n",
       "      <td>209.550003</td>\n",
       "      <td>211.149994</td>\n",
       "      <td>211.149994</td>\n",
       "      <td>18925262</td>\n",
       "    </tr>\n",
       "    <tr>\n",
       "      <th>2719</th>\n",
       "      <td>2020-12-31</td>\n",
       "      <td>210.550003</td>\n",
       "      <td>211.300003</td>\n",
       "      <td>208.550003</td>\n",
       "      <td>209</td>\n",
       "      <td>209</td>\n",
       "      <td>18245270</td>\n",
       "    </tr>\n",
       "    <tr>\n",
       "      <th>2720</th>\n",
       "      <td>2021-01-01</td>\n",
       "      <td>209.899994</td>\n",
       "      <td>214.199997</td>\n",
       "      <td>209.300003</td>\n",
       "      <td>213.850006</td>\n",
       "      <td>213.850006</td>\n",
       "      <td>19527333</td>\n",
       "    </tr>\n",
       "    <tr>\n",
       "      <th>2721</th>\n",
       "      <td>2021-01-04</td>\n",
       "      <td>214</td>\n",
       "      <td>216</td>\n",
       "      <td>212.100006</td>\n",
       "      <td>213.399994</td>\n",
       "      <td>213.399994</td>\n",
       "      <td>26891799</td>\n",
       "    </tr>\n",
       "    <tr>\n",
       "      <th>2722</th>\n",
       "      <td>2021-01-05</td>\n",
       "      <td>212.449997</td>\n",
       "      <td>213.25</td>\n",
       "      <td>210.600006</td>\n",
       "      <td>211.449997</td>\n",
       "      <td>211.449997</td>\n",
       "      <td>18024083</td>\n",
       "    </tr>\n",
       "  </tbody>\n",
       "</table>\n",
       "</div>"
      ],
      "text/plain": [
       "            Date        Open        High  ...       Close   Adj Close    Volume\n",
       "2718  2020-12-30  212.699997       213.5  ...  211.149994  211.149994  18925262\n",
       "2719  2020-12-31  210.550003  211.300003  ...         209         209  18245270\n",
       "2720  2021-01-01  209.899994  214.199997  ...  213.850006  213.850006  19527333\n",
       "2721  2021-01-04         214         216  ...  213.399994  213.399994  26891799\n",
       "2722  2021-01-05  212.449997      213.25  ...  211.449997  211.449997  18024083\n",
       "\n",
       "[5 rows x 7 columns]"
      ]
     },
     "execution_count": 14,
     "metadata": {
      "tags": []
     },
     "output_type": "execute_result"
    }
   ],
   "source": [
    "dataset_raw.tail()"
   ]
  },
  {
   "cell_type": "code",
   "execution_count": 15,
   "metadata": {
    "colab": {
     "base_uri": "https://localhost:8080/",
     "height": 521
    },
    "executionInfo": {
     "elapsed": 2457,
     "status": "ok",
     "timestamp": 1609922220724,
     "user": {
      "displayName": "5072 Medha Mathur",
      "photoUrl": "https://lh3.googleusercontent.com/a-/AOh14GhU5rpc98_bHp-wBsi8gjk3rfPBSk5rV-xSzpRV=s64",
      "userId": "09694216789696746072"
     },
     "user_tz": -330
    },
    "id": "lbwDjxyEWaDQ",
    "outputId": "f4bba142-6057-4bb0-d1cf-a54d4eff38d2"
   },
   "outputs": [
    {
     "data": {
      "image/png": "[encoded data removed]",
      "text/plain": [
       "<Figure size 1152x576 with 1 Axes>"
      ]
     },
     "metadata": {
      "needs_background": "light",
      "tags": []
     },
     "output_type": "display_data"
    }
   ],
   "source": [
    "#Visualizing the closing price history for the training dataset\r\n",
    "close_price = pd.to_numeric(dataset_raw['Close'], errors='coerce')\r\n",
    "plt.figure(figsize=(16,8))\r\n",
    "plt.title('Close Price History')\r\n",
    "plt.plot(close_price)\r\n",
    "plt.xlabel('Date',fontsize=18)\r\n",
    "plt.ylabel('Close Price INR',fontsize=18)\r\n",
    "plt.show()\r\n"
   ]
  },
  {
   "cell_type": "code",
   "execution_count": 16,
   "metadata": {
    "executionInfo": {
     "elapsed": 22656,
     "status": "ok",
     "timestamp": 1609922251777,
     "user": {
      "displayName": "5072 Medha Mathur",
      "photoUrl": "https://lh3.googleusercontent.com/a-/AOh14GhU5rpc98_bHp-wBsi8gjk3rfPBSk5rV-xSzpRV=s64",
      "userId": "09694216789696746072"
     },
     "user_tz": -330
    },
    "id": "HXz9Xs41YTJM"
   },
   "outputs": [],
   "source": [
    "features = [\"Date\", \"Close\"]\r\n",
    "dataset = dataset_raw[features]"
   ]
  },
  {
   "cell_type": "code",
   "execution_count": 17,
   "metadata": {
    "colab": {
     "base_uri": "https://localhost:8080/"
    },
    "executionInfo": {
     "elapsed": 3288,
     "status": "ok",
     "timestamp": 1609922261520,
     "user": {
      "displayName": "5072 Medha Mathur",
      "photoUrl": "https://lh3.googleusercontent.com/a-/AOh14GhU5rpc98_bHp-wBsi8gjk3rfPBSk5rV-xSzpRV=s64",
      "userId": "09694216789696746072"
     },
     "user_tz": -330
    },
    "id": "s3ZCf6lfYi1R",
    "outputId": "873aab08-47e2-4009-e18b-9f5a6de82e0a"
   },
   "outputs": [
    {
     "name": "stderr",
     "output_type": "stream",
     "text": [
      "/usr/local/lib/python3.6/dist-packages/pandas/core/frame.py:4174: SettingWithCopyWarning: \n",
      "A value is trying to be set on a copy of a slice from a DataFrame\n",
      "\n",
      "See the caveats in the documentation: https://pandas.pydata.org/pandas-docs/stable/user_guide/indexing.html#returning-a-view-versus-a-copy\n",
      "  errors=errors,\n"
     ]
    }
   ],
   "source": [
    "#setting index\r\n",
    "dataset.index = dataset.Date\r\n",
    "dataset.drop('Date', axis=1, inplace=True)"
   ]
  },
  {
   "cell_type": "code",
   "execution_count": 18,
   "metadata": {
    "colab": {
     "base_uri": "https://localhost:8080/",
     "height": 225
    },
    "executionInfo": {
     "elapsed": 2016,
     "status": "ok",
     "timestamp": 1609922265773,
     "user": {
      "displayName": "5072 Medha Mathur",
      "photoUrl": "https://lh3.googleusercontent.com/a-/AOh14GhU5rpc98_bHp-wBsi8gjk3rfPBSk5rV-xSzpRV=s64",
      "userId": "09694216789696746072"
     },
     "user_tz": -330
    },
    "id": "321BHQyDYs1H",
    "outputId": "cd5bbb51-dc2c-432d-ae93-ea0b57b0939b"
   },
   "outputs": [
    {
     "data": {
      "text/html": [
       "<div>\n",
       "<style scoped>\n",
       "    .dataframe tbody tr th:only-of-type {\n",
       "        vertical-align: middle;\n",
       "    }\n",
       "\n",
       "    .dataframe tbody tr th {\n",
       "        vertical-align: top;\n",
       "    }\n",
       "\n",
       "    .dataframe thead th {\n",
       "        text-align: right;\n",
       "    }\n",
       "</style>\n",
       "<table border=\"1\" class=\"dataframe\">\n",
       "  <thead>\n",
       "    <tr style=\"text-align: right;\">\n",
       "      <th></th>\n",
       "      <th>Close</th>\n",
       "    </tr>\n",
       "    <tr>\n",
       "      <th>Date</th>\n",
       "      <th></th>\n",
       "    </tr>\n",
       "  </thead>\n",
       "  <tbody>\n",
       "    <tr>\n",
       "      <th>2010-01-04</th>\n",
       "      <td>84.550003</td>\n",
       "    </tr>\n",
       "    <tr>\n",
       "      <th>2010-01-05</th>\n",
       "      <td>85.383301</td>\n",
       "    </tr>\n",
       "    <tr>\n",
       "      <th>2010-01-06</th>\n",
       "      <td>85.583298</td>\n",
       "    </tr>\n",
       "    <tr>\n",
       "      <th>2010-01-07</th>\n",
       "      <td>85.316704</td>\n",
       "    </tr>\n",
       "    <tr>\n",
       "      <th>2010-01-08</th>\n",
       "      <td>85.5</td>\n",
       "    </tr>\n",
       "  </tbody>\n",
       "</table>\n",
       "</div>"
      ],
      "text/plain": [
       "                Close\n",
       "Date                 \n",
       "2010-01-04  84.550003\n",
       "2010-01-05  85.383301\n",
       "2010-01-06  85.583298\n",
       "2010-01-07  85.316704\n",
       "2010-01-08       85.5"
      ]
     },
     "execution_count": 18,
     "metadata": {
      "tags": []
     },
     "output_type": "execute_result"
    }
   ],
   "source": [
    "dataset.head()"
   ]
  },
  {
   "cell_type": "code",
   "execution_count": 19,
   "metadata": {
    "colab": {
     "base_uri": "https://localhost:8080/"
    },
    "executionInfo": {
     "elapsed": 2013,
     "status": "ok",
     "timestamp": 1609922270952,
     "user": {
      "displayName": "5072 Medha Mathur",
      "photoUrl": "https://lh3.googleusercontent.com/a-/AOh14GhU5rpc98_bHp-wBsi8gjk3rfPBSk5rV-xSzpRV=s64",
      "userId": "09694216789696746072"
     },
     "user_tz": -330
    },
    "id": "tw9-tdRB39nL",
    "outputId": "d5b2e118-5299-4420-af07-a27f5b9e092b"
   },
   "outputs": [
    {
     "name": "stderr",
     "output_type": "stream",
     "text": [
      "/usr/local/lib/python3.6/dist-packages/ipykernel_launcher.py:1: SettingWithCopyWarning: \n",
      "A value is trying to be set on a copy of a slice from a DataFrame.\n",
      "Try using .loc[row_indexer,col_indexer] = value instead\n",
      "\n",
      "See the caveats in the documentation: https://pandas.pydata.org/pandas-docs/stable/user_guide/indexing.html#returning-a-view-versus-a-copy\n",
      "  \"\"\"Entry point for launching an IPython kernel.\n"
     ]
    }
   ],
   "source": [
    "dataset['Close'] = close_price.values"
   ]
  },
  {
   "cell_type": "code",
   "execution_count": 21,
   "metadata": {
    "executionInfo": {
     "elapsed": 2263,
     "status": "ok",
     "timestamp": 1609922279150,
     "user": {
      "displayName": "5072 Medha Mathur",
      "photoUrl": "https://lh3.googleusercontent.com/a-/AOh14GhU5rpc98_bHp-wBsi8gjk3rfPBSk5rV-xSzpRV=s64",
      "userId": "09694216789696746072"
     },
     "user_tz": -330
    },
    "id": "8A5vvOi-8Egx"
   },
   "outputs": [],
   "source": [
    "dataset['Close'] = dataset['Close'].fillna(0)\r\n",
    "dataset=dataset[dataset['Close'] != 0]"
   ]
  },
  {
   "cell_type": "code",
   "execution_count": 22,
   "metadata": {
    "colab": {
     "base_uri": "https://localhost:8080/"
    },
    "executionInfo": {
     "elapsed": 1804,
     "status": "ok",
     "timestamp": 1609922283223,
     "user": {
      "displayName": "5072 Medha Mathur",
      "photoUrl": "https://lh3.googleusercontent.com/a-/AOh14GhU5rpc98_bHp-wBsi8gjk3rfPBSk5rV-xSzpRV=s64",
      "userId": "09694216789696746072"
     },
     "user_tz": -330
    },
    "id": "0qNsIIr1ZNrt",
    "outputId": "410c88b0-75a9-4b86-b4e1-7b4255a2041c"
   },
   "outputs": [
    {
     "data": {
      "text/plain": [
       "(2714, 1)"
      ]
     },
     "execution_count": 22,
     "metadata": {
      "tags": []
     },
     "output_type": "execute_result"
    }
   ],
   "source": [
    "dataset.shape"
   ]
  },
  {
   "cell_type": "markdown",
   "metadata": {
    "id": "9VrI8-jKZiS-"
   },
   "source": [
    "#Preparing the dataset for Training"
   ]
  },
  {
   "cell_type": "code",
   "execution_count": 23,
   "metadata": {
    "executionInfo": {
     "elapsed": 2247,
     "status": "ok",
     "timestamp": 1609922287798,
     "user": {
      "displayName": "5072 Medha Mathur",
      "photoUrl": "https://lh3.googleusercontent.com/a-/AOh14GhU5rpc98_bHp-wBsi8gjk3rfPBSk5rV-xSzpRV=s64",
      "userId": "09694216789696746072"
     },
     "user_tz": -330
    },
    "id": "bWOOK_g8Zy4x"
   },
   "outputs": [],
   "source": [
    "dataset_final = dataset.values\r\n",
    "train_ds = dataset_final[0:1714,:]\r\n",
    "valid_ds = dataset_final[1714:,:]"
   ]
  },
  {
   "cell_type": "code",
   "execution_count": 24,
   "metadata": {
    "executionInfo": {
     "elapsed": 1679,
     "status": "ok",
     "timestamp": 1609922290720,
     "user": {
      "displayName": "5072 Medha Mathur",
      "photoUrl": "https://lh3.googleusercontent.com/a-/AOh14GhU5rpc98_bHp-wBsi8gjk3rfPBSk5rV-xSzpRV=s64",
      "userId": "09694216789696746072"
     },
     "user_tz": -330
    },
    "id": "uEbBDzQDbr6B"
   },
   "outputs": [],
   "source": [
    "scaler = MinMaxScaler(feature_range=(0, 1))\r\n",
    "scaled_data = scaler.fit_transform(dataset_final)"
   ]
  },
  {
   "cell_type": "markdown",
   "metadata": {
    "id": "Y6POETLdcK4f"
   },
   "source": [
    "Creating Sliding Window of 90 days"
   ]
  },
  {
   "cell_type": "code",
   "execution_count": 25,
   "metadata": {
    "executionInfo": {
     "elapsed": 2269,
     "status": "ok",
     "timestamp": 1609922295079,
     "user": {
      "displayName": "5072 Medha Mathur",
      "photoUrl": "https://lh3.googleusercontent.com/a-/AOh14GhU5rpc98_bHp-wBsi8gjk3rfPBSk5rV-xSzpRV=s64",
      "userId": "09694216789696746072"
     },
     "user_tz": -330
    },
    "id": "O8qaheg6cNGh"
   },
   "outputs": [],
   "source": [
    "x_train, y_train = [], []\r\n",
    "for i in range(90,len(train_ds)):\r\n",
    "    x_train.append(scaled_data[i-90:i,0])\r\n",
    "    y_train.append(scaled_data[i,0])\r\n",
    "x_train, y_train = np.array(x_train), np.array(y_train)"
   ]
  },
  {
   "cell_type": "code",
   "execution_count": 26,
   "metadata": {
    "executionInfo": {
     "elapsed": 1940,
     "status": "ok",
     "timestamp": 1609922298287,
     "user": {
      "displayName": "5072 Medha Mathur",
      "photoUrl": "https://lh3.googleusercontent.com/a-/AOh14GhU5rpc98_bHp-wBsi8gjk3rfPBSk5rV-xSzpRV=s64",
      "userId": "09694216789696746072"
     },
     "user_tz": -330
    },
    "id": "8_Zdj5JicYPj"
   },
   "outputs": [],
   "source": [
    "x_train = np.reshape(x_train, (x_train.shape[0],x_train.shape[1],1))"
   ]
  },
  {
   "cell_type": "code",
   "execution_count": 27,
   "metadata": {
    "executionInfo": {
     "elapsed": 1944,
     "status": "ok",
     "timestamp": 1609922301582,
     "user": {
      "displayName": "5072 Medha Mathur",
      "photoUrl": "https://lh3.googleusercontent.com/a-/AOh14GhU5rpc98_bHp-wBsi8gjk3rfPBSk5rV-xSzpRV=s64",
      "userId": "09694216789696746072"
     },
     "user_tz": -330
    },
    "id": "2LQTysQWdK1l"
   },
   "outputs": [],
   "source": [
    "assert not np.any(np.isnan(x_train))"
   ]
  },
  {
   "cell_type": "markdown",
   "metadata": {
    "id": "DqxVrqORcdNF"
   },
   "source": [
    "Model Building"
   ]
  },
  {
   "cell_type": "code",
   "execution_count": 39,
   "metadata": {
    "executionInfo": {
     "elapsed": 1026,
     "status": "ok",
     "timestamp": 1609922853957,
     "user": {
      "displayName": "5072 Medha Mathur",
      "photoUrl": "https://lh3.googleusercontent.com/a-/AOh14GhU5rpc98_bHp-wBsi8gjk3rfPBSk5rV-xSzpRV=s64",
      "userId": "09694216789696746072"
     },
     "user_tz": -330
    },
    "id": "jgMn_eEVce-8"
   },
   "outputs": [],
   "source": [
    "# create and fit the LSTM network\r\n",
    "model = Sequential()\r\n",
    "model.add(LSTM(units=50, return_sequences=True, input_shape=(x_train.shape[1],1),activation=\"relu\"))\r\n",
    "model.add(Dropout(rate = 0.001))\r\n",
    "\r\n",
    "model.add(LSTM(units=50, return_sequences = True,activation=\"relu\"))\r\n",
    "model.add(Dropout(rate = 0.001))\r\n",
    "\r\n",
    "model.add(LSTM(units=50, return_sequences = True,activation=\"relu\"))\r\n",
    "model.add(Dropout(rate = 0.001))\r\n",
    "\r\n",
    "model.add(LSTM(units=50, return_sequences = False,activation=\"relu\"))\r\n",
    "model.add(Dropout(rate = 0.001))\r\n",
    "\r\n",
    "model.add(Dense(1))"
   ]
  },
  {
   "cell_type": "code",
   "execution_count": 40,
   "metadata": {
    "executionInfo": {
     "elapsed": 1056,
     "status": "ok",
     "timestamp": 1609922856883,
     "user": {
      "displayName": "5072 Medha Mathur",
      "photoUrl": "https://lh3.googleusercontent.com/a-/AOh14GhU5rpc98_bHp-wBsi8gjk3rfPBSk5rV-xSzpRV=s64",
      "userId": "09694216789696746072"
     },
     "user_tz": -330
    },
    "id": "xZya_uTZcjKa"
   },
   "outputs": [],
   "source": [
    "model.compile(loss='mean_squared_error', optimizer='adam')"
   ]
  },
  {
   "cell_type": "code",
   "execution_count": 41,
   "metadata": {
    "colab": {
     "base_uri": "https://localhost:8080/"
    },
    "executionInfo": {
     "elapsed": 132166,
     "status": "ok",
     "timestamp": 1609922990554,
     "user": {
      "displayName": "5072 Medha Mathur",
      "photoUrl": "https://lh3.googleusercontent.com/a-/AOh14GhU5rpc98_bHp-wBsi8gjk3rfPBSk5rV-xSzpRV=s64",
      "userId": "09694216789696746072"
     },
     "user_tz": -330
    },
    "id": "CmRW0hSAcmg8",
    "outputId": "092299ba-9640-464d-cd4b-da8404a23478"
   },
   "outputs": [
    {
     "name": "stdout",
     "output_type": "stream",
     "text": [
      "Epoch 1/25\n",
      "26/26 [==============================] - 9s 191ms/step - loss: 0.1529\n",
      "Epoch 2/25\n",
      "26/26 [==============================] - 5s 193ms/step - loss: 0.0088\n",
      "Epoch 3/25\n",
      "26/26 [==============================] - 5s 197ms/step - loss: 0.0017\n",
      "Epoch 4/25\n",
      "26/26 [==============================] - 5s 195ms/step - loss: 0.0013\n",
      "Epoch 5/25\n",
      "26/26 [==============================] - 5s 196ms/step - loss: 0.0011\n",
      "Epoch 6/25\n",
      "26/26 [==============================] - 5s 196ms/step - loss: 0.0011\n",
      "Epoch 7/25\n",
      "26/26 [==============================] - 5s 193ms/step - loss: 0.0011\n",
      "Epoch 8/25\n",
      "26/26 [==============================] - 5s 194ms/step - loss: 0.0011\n",
      "Epoch 9/25\n",
      "26/26 [==============================] - 5s 194ms/step - loss: 0.0013\n",
      "Epoch 10/25\n",
      "26/26 [==============================] - 5s 190ms/step - loss: 0.0011\n",
      "Epoch 11/25\n",
      "26/26 [==============================] - 5s 196ms/step - loss: 0.0011\n",
      "Epoch 12/25\n",
      "26/26 [==============================] - 5s 195ms/step - loss: 0.0011\n",
      "Epoch 13/25\n",
      "26/26 [==============================] - 5s 194ms/step - loss: 0.0011\n",
      "Epoch 14/25\n",
      "26/26 [==============================] - 5s 195ms/step - loss: 9.6040e-04\n",
      "Epoch 15/25\n",
      "26/26 [==============================] - 5s 195ms/step - loss: 9.6231e-04\n",
      "Epoch 16/25\n",
      "26/26 [==============================] - 5s 193ms/step - loss: 0.0010\n",
      "Epoch 17/25\n",
      "26/26 [==============================] - 5s 201ms/step - loss: 0.0011\n",
      "Epoch 18/25\n",
      "26/26 [==============================] - 5s 200ms/step - loss: 0.0012\n",
      "Epoch 19/25\n",
      "26/26 [==============================] - 5s 199ms/step - loss: 9.9036e-04\n",
      "Epoch 20/25\n",
      "26/26 [==============================] - 5s 197ms/step - loss: 9.9349e-04\n",
      "Epoch 21/25\n",
      "26/26 [==============================] - 5s 199ms/step - loss: 0.0010\n",
      "Epoch 22/25\n",
      "26/26 [==============================] - 5s 198ms/step - loss: 9.8336e-04\n",
      "Epoch 23/25\n",
      "26/26 [==============================] - 5s 198ms/step - loss: 0.0010\n",
      "Epoch 24/25\n",
      "26/26 [==============================] - 5s 197ms/step - loss: 9.7240e-04\n",
      "Epoch 25/25\n",
      "26/26 [==============================] - 5s 197ms/step - loss: 9.5684e-04\n"
     ]
    },
    {
     "data": {
      "text/plain": [
       "<tensorflow.python.keras.callbacks.History at 0x7f3355ff77f0>"
      ]
     },
     "execution_count": 41,
     "metadata": {
      "tags": []
     },
     "output_type": "execute_result"
    }
   ],
   "source": [
    "model.fit(x_train, y_train, epochs=25, batch_size=64)"
   ]
  },
  {
   "cell_type": "code",
   "execution_count": 42,
   "metadata": {
    "colab": {
     "base_uri": "https://localhost:8080/"
    },
    "executionInfo": {
     "elapsed": 140958,
     "status": "ok",
     "timestamp": 1609923137685,
     "user": {
      "displayName": "5072 Medha Mathur",
      "photoUrl": "https://lh3.googleusercontent.com/a-/AOh14GhU5rpc98_bHp-wBsi8gjk3rfPBSk5rV-xSzpRV=s64",
      "userId": "09694216789696746072"
     },
     "user_tz": -330
    },
    "id": "cql5KasCkEbn",
    "outputId": "809715e0-857a-46f4-88b3-f9521bfcf59f"
   },
   "outputs": [
    {
     "name": "stdout",
     "output_type": "stream",
     "text": [
      "Epoch 1/25\n",
      "30/30 [==============================] - 6s 183ms/step - loss: 9.6567e-04\n",
      "Epoch 2/25\n",
      "30/30 [==============================] - 6s 187ms/step - loss: 8.9179e-04\n",
      "Epoch 3/25\n",
      "30/30 [==============================] - 6s 186ms/step - loss: 8.7675e-04\n",
      "Epoch 4/25\n",
      "30/30 [==============================] - 6s 188ms/step - loss: 8.8600e-04\n",
      "Epoch 5/25\n",
      "30/30 [==============================] - 6s 186ms/step - loss: 8.7009e-04\n",
      "Epoch 6/25\n",
      "30/30 [==============================] - 6s 187ms/step - loss: 8.1952e-04\n",
      "Epoch 7/25\n",
      "30/30 [==============================] - 6s 188ms/step - loss: 7.2205e-04\n",
      "Epoch 8/25\n",
      "30/30 [==============================] - 6s 188ms/step - loss: 7.0576e-04\n",
      "Epoch 9/25\n",
      "30/30 [==============================] - 6s 184ms/step - loss: 6.8359e-04\n",
      "Epoch 10/25\n",
      "30/30 [==============================] - 5s 183ms/step - loss: 6.4660e-04\n",
      "Epoch 11/25\n",
      "30/30 [==============================] - 6s 185ms/step - loss: 6.7752e-04\n",
      "Epoch 12/25\n",
      "30/30 [==============================] - 6s 185ms/step - loss: 6.2711e-04\n",
      "Epoch 13/25\n",
      "30/30 [==============================] - 6s 188ms/step - loss: 6.9963e-04\n",
      "Epoch 14/25\n",
      "30/30 [==============================] - 6s 187ms/step - loss: 6.3395e-04\n",
      "Epoch 15/25\n",
      "30/30 [==============================] - 6s 186ms/step - loss: 5.4359e-04\n",
      "Epoch 16/25\n",
      "30/30 [==============================] - 6s 185ms/step - loss: 5.7124e-04\n",
      "Epoch 17/25\n",
      "30/30 [==============================] - 6s 187ms/step - loss: 5.2379e-04\n",
      "Epoch 18/25\n",
      "30/30 [==============================] - 6s 187ms/step - loss: 5.8242e-04\n",
      "Epoch 19/25\n",
      "30/30 [==============================] - 6s 190ms/step - loss: 5.2526e-04\n",
      "Epoch 20/25\n",
      "30/30 [==============================] - 6s 192ms/step - loss: 5.0730e-04\n",
      "Epoch 21/25\n",
      "30/30 [==============================] - 6s 184ms/step - loss: 5.6718e-04\n",
      "Epoch 22/25\n",
      "30/30 [==============================] - 6s 184ms/step - loss: 4.9932e-04\n",
      "Epoch 23/25\n",
      "30/30 [==============================] - 6s 184ms/step - loss: 4.7786e-04\n",
      "Epoch 24/25\n",
      "30/30 [==============================] - 6s 189ms/step - loss: 4.7054e-04\n",
      "Epoch 25/25\n",
      "30/30 [==============================] - 6s 188ms/step - loss: 4.5713e-04\n"
     ]
    },
    {
     "data": {
      "text/plain": [
       "<tensorflow.python.keras.callbacks.History at 0x7f33556a9390>"
      ]
     },
     "execution_count": 42,
     "metadata": {
      "tags": []
     },
     "output_type": "execute_result"
    }
   ],
   "source": [
    "model.fit(x_train, y_train, epochs=25, batch_size=55)"
   ]
  },
  {
   "cell_type": "code",
   "execution_count": 43,
   "metadata": {
    "colab": {
     "base_uri": "https://localhost:8080/"
    },
    "executionInfo": {
     "elapsed": 140612,
     "status": "ok",
     "timestamp": 1609923300784,
     "user": {
      "displayName": "5072 Medha Mathur",
      "photoUrl": "https://lh3.googleusercontent.com/a-/AOh14GhU5rpc98_bHp-wBsi8gjk3rfPBSk5rV-xSzpRV=s64",
      "userId": "09694216789696746072"
     },
     "user_tz": -330
    },
    "id": "ygZWsY_-qoxb",
    "outputId": "a825ec5c-e8b7-4cb1-ed07-f6f17245915e"
   },
   "outputs": [
    {
     "name": "stdout",
     "output_type": "stream",
     "text": [
      "Epoch 1/25\n",
      "30/30 [==============================] - 5s 183ms/step - loss: 4.7268e-04\n",
      "Epoch 2/25\n",
      "30/30 [==============================] - 6s 183ms/step - loss: 4.5178e-04\n",
      "Epoch 3/25\n",
      "30/30 [==============================] - 6s 183ms/step - loss: 4.3124e-04\n",
      "Epoch 4/25\n",
      "30/30 [==============================] - 5s 182ms/step - loss: 4.1473e-04\n",
      "Epoch 5/25\n",
      "30/30 [==============================] - 6s 184ms/step - loss: 4.7687e-04\n",
      "Epoch 6/25\n",
      "30/30 [==============================] - 6s 187ms/step - loss: 4.3426e-04\n",
      "Epoch 7/25\n",
      "30/30 [==============================] - 5s 182ms/step - loss: 3.9864e-04\n",
      "Epoch 8/25\n",
      "30/30 [==============================] - 5s 182ms/step - loss: 4.4041e-04\n",
      "Epoch 9/25\n",
      "30/30 [==============================] - 5s 182ms/step - loss: 3.6037e-04\n",
      "Epoch 10/25\n",
      "30/30 [==============================] - 6s 185ms/step - loss: 3.9664e-04\n",
      "Epoch 11/25\n",
      "30/30 [==============================] - 6s 190ms/step - loss: 4.2285e-04\n",
      "Epoch 12/25\n",
      "30/30 [==============================] - 6s 190ms/step - loss: 3.9731e-04\n",
      "Epoch 13/25\n",
      "30/30 [==============================] - 6s 186ms/step - loss: 4.7418e-04\n",
      "Epoch 14/25\n",
      "30/30 [==============================] - 6s 188ms/step - loss: 3.8377e-04\n",
      "Epoch 15/25\n",
      "30/30 [==============================] - 6s 186ms/step - loss: 4.0230e-04\n",
      "Epoch 16/25\n",
      "30/30 [==============================] - 6s 188ms/step - loss: 3.1017e-04\n",
      "Epoch 17/25\n",
      "30/30 [==============================] - 6s 189ms/step - loss: 3.8047e-04\n",
      "Epoch 18/25\n",
      "30/30 [==============================] - 6s 188ms/step - loss: 3.5505e-04\n",
      "Epoch 19/25\n",
      "30/30 [==============================] - 6s 187ms/step - loss: 3.1367e-04\n",
      "Epoch 20/25\n",
      "30/30 [==============================] - 6s 186ms/step - loss: 3.0027e-04\n",
      "Epoch 21/25\n",
      "30/30 [==============================] - 6s 188ms/step - loss: 3.5630e-04\n",
      "Epoch 22/25\n",
      "30/30 [==============================] - 6s 187ms/step - loss: 4.1049e-04\n",
      "Epoch 23/25\n",
      "30/30 [==============================] - 6s 186ms/step - loss: 4.0502e-04\n",
      "Epoch 24/25\n",
      "30/30 [==============================] - 6s 184ms/step - loss: 2.8008e-04\n",
      "Epoch 25/25\n",
      "30/30 [==============================] - 6s 186ms/step - loss: 3.4978e-04\n"
     ]
    },
    {
     "data": {
      "text/plain": [
       "<tensorflow.python.keras.callbacks.History at 0x7f33556c9668>"
      ]
     },
     "execution_count": 43,
     "metadata": {
      "tags": []
     },
     "output_type": "execute_result"
    }
   ],
   "source": [
    "model.fit(x_train, y_train, epochs=25, batch_size=55)"
   ]
  },
  {
   "cell_type": "code",
   "execution_count": 44,
   "metadata": {
    "executionInfo": {
     "elapsed": 4071,
     "status": "ok",
     "timestamp": 1609923313367,
     "user": {
      "displayName": "5072 Medha Mathur",
      "photoUrl": "https://lh3.googleusercontent.com/a-/AOh14GhU5rpc98_bHp-wBsi8gjk3rfPBSk5rV-xSzpRV=s64",
      "userId": "09694216789696746072"
     },
     "user_tz": -330
    },
    "id": "VxLgg4waie1C"
   },
   "outputs": [],
   "source": [
    "#predicting test data values, using past 90 from the train data\r\n",
    "inputs = dataset[len(dataset) - len(valid_ds)-90:].values\r\n",
    "inputs = inputs.reshape(-1,1)\r\n",
    "inputs  = scaler.transform(inputs)"
   ]
  },
  {
   "cell_type": "code",
   "execution_count": 45,
   "metadata": {
    "colab": {
     "base_uri": "https://localhost:8080/"
    },
    "executionInfo": {
     "elapsed": 1153,
     "status": "ok",
     "timestamp": 1609923315822,
     "user": {
      "displayName": "5072 Medha Mathur",
      "photoUrl": "https://lh3.googleusercontent.com/a-/AOh14GhU5rpc98_bHp-wBsi8gjk3rfPBSk5rV-xSzpRV=s64",
      "userId": "09694216789696746072"
     },
     "user_tz": -330
    },
    "id": "qmKs9ouIioMe",
    "outputId": "2ad05c9a-7fb6-483d-aea4-42c3d4eb81bc"
   },
   "outputs": [
    {
     "data": {
      "text/plain": [
       "(1090, 1)"
      ]
     },
     "execution_count": 45,
     "metadata": {
      "tags": []
     },
     "output_type": "execute_result"
    }
   ],
   "source": [
    "inputs.shape"
   ]
  },
  {
   "cell_type": "code",
   "execution_count": 46,
   "metadata": {
    "executionInfo": {
     "elapsed": 1041,
     "status": "ok",
     "timestamp": 1609923318010,
     "user": {
      "displayName": "5072 Medha Mathur",
      "photoUrl": "https://lh3.googleusercontent.com/a-/AOh14GhU5rpc98_bHp-wBsi8gjk3rfPBSk5rV-xSzpRV=s64",
      "userId": "09694216789696746072"
     },
     "user_tz": -330
    },
    "id": "H-rxHL26iqrr"
   },
   "outputs": [],
   "source": [
    "X_test = []\r\n",
    "for i in range(90,inputs.shape[0]):\r\n",
    "    X_test.append(inputs[i-90:i,0])\r\n",
    "X_test = np.array(X_test)"
   ]
  },
  {
   "cell_type": "code",
   "execution_count": 47,
   "metadata": {
    "colab": {
     "base_uri": "https://localhost:8080/"
    },
    "executionInfo": {
     "elapsed": 967,
     "status": "ok",
     "timestamp": 1609923321064,
     "user": {
      "displayName": "5072 Medha Mathur",
      "photoUrl": "https://lh3.googleusercontent.com/a-/AOh14GhU5rpc98_bHp-wBsi8gjk3rfPBSk5rV-xSzpRV=s64",
      "userId": "09694216789696746072"
     },
     "user_tz": -330
    },
    "id": "sItIZZJfitsG",
    "outputId": "e5fc7ef4-b987-4d0f-fa6b-ea507f8b0803"
   },
   "outputs": [
    {
     "data": {
      "text/plain": [
       "array([[0.66123855, 0.65897514, 0.66067271, ..., 0.59691913, 0.58748813,\n",
       "        0.57447337],\n",
       "       [0.65897514, 0.66067271, 0.65086445, ..., 0.58748813, 0.57447337,\n",
       "        0.56183586],\n",
       "       [0.66067271, 0.65086445, 0.64218792, ..., 0.57447337, 0.56183586,\n",
       "        0.5642879 ],\n",
       "       ...,\n",
       "       [0.4499842 , 0.44508007, 0.4433825 , ..., 0.50600435, 0.50449535,\n",
       "        0.49638472],\n",
       "       [0.44508007, 0.4433825 , 0.44074183, ..., 0.50449535, 0.49638472,\n",
       "        0.51468088],\n",
       "       [0.4433825 , 0.44074183, 0.44564596, ..., 0.49638472, 0.51468088,\n",
       "        0.51298325]])"
      ]
     },
     "execution_count": 47,
     "metadata": {
      "tags": []
     },
     "output_type": "execute_result"
    }
   ],
   "source": [
    "X_test"
   ]
  },
  {
   "cell_type": "code",
   "execution_count": 48,
   "metadata": {
    "colab": {
     "base_uri": "https://localhost:8080/"
    },
    "executionInfo": {
     "elapsed": 1106,
     "status": "ok",
     "timestamp": 1609923324471,
     "user": {
      "displayName": "5072 Medha Mathur",
      "photoUrl": "https://lh3.googleusercontent.com/a-/AOh14GhU5rpc98_bHp-wBsi8gjk3rfPBSk5rV-xSzpRV=s64",
      "userId": "09694216789696746072"
     },
     "user_tz": -330
    },
    "id": "huhZ0eCnizH1",
    "outputId": "3b0539c9-4ace-458e-e0a4-e1d8161a716c"
   },
   "outputs": [
    {
     "data": {
      "text/plain": [
       "(1000, 90)"
      ]
     },
     "execution_count": 48,
     "metadata": {
      "tags": []
     },
     "output_type": "execute_result"
    }
   ],
   "source": [
    "X_test.shape"
   ]
  },
  {
   "cell_type": "code",
   "execution_count": 49,
   "metadata": {
    "executionInfo": {
     "elapsed": 2463,
     "status": "ok",
     "timestamp": 1609923328050,
     "user": {
      "displayName": "5072 Medha Mathur",
      "photoUrl": "https://lh3.googleusercontent.com/a-/AOh14GhU5rpc98_bHp-wBsi8gjk3rfPBSk5rV-xSzpRV=s64",
      "userId": "09694216789696746072"
     },
     "user_tz": -330
    },
    "id": "kF0gYXOri10T"
   },
   "outputs": [],
   "source": [
    "X_test = np.reshape(X_test, (X_test.shape[0],X_test.shape[1],1))\r\n",
    "preds = model.predict(X_test)\r\n",
    "preds = scaler.inverse_transform(preds)"
   ]
  },
  {
   "cell_type": "code",
   "execution_count": 50,
   "metadata": {
    "colab": {
     "base_uri": "https://localhost:8080/"
    },
    "executionInfo": {
     "elapsed": 1067,
     "status": "ok",
     "timestamp": 1609923330498,
     "user": {
      "displayName": "5072 Medha Mathur",
      "photoUrl": "https://lh3.googleusercontent.com/a-/AOh14GhU5rpc98_bHp-wBsi8gjk3rfPBSk5rV-xSzpRV=s64",
      "userId": "09694216789696746072"
     },
     "user_tz": -330
    },
    "id": "jswNQ_RH-y2I",
    "outputId": "571a8598-77e5-4ba5-b1ab-65ccef1f51f3"
   },
   "outputs": [
    {
     "data": {
      "text/plain": [
       "(1000, 90, 1)"
      ]
     },
     "execution_count": 50,
     "metadata": {
      "tags": []
     },
     "output_type": "execute_result"
    }
   ],
   "source": [
    "X_test.shape"
   ]
  },
  {
   "cell_type": "code",
   "execution_count": 51,
   "metadata": {
    "colab": {
     "base_uri": "https://localhost:8080/"
    },
    "executionInfo": {
     "elapsed": 1051,
     "status": "ok",
     "timestamp": 1609923333293,
     "user": {
      "displayName": "5072 Medha Mathur",
      "photoUrl": "https://lh3.googleusercontent.com/a-/AOh14GhU5rpc98_bHp-wBsi8gjk3rfPBSk5rV-xSzpRV=s64",
      "userId": "09694216789696746072"
     },
     "user_tz": -330
    },
    "id": "JjHvJ7YfjDtM",
    "outputId": "dad4f47c-0413-40f7-f7dc-92a852aca210"
   },
   "outputs": [
    {
     "data": {
      "text/plain": [
       "array([[233.28535],\n",
       "       [230.76018],\n",
       "       [228.58582],\n",
       "       [228.02614],\n",
       "       [227.41026],\n",
       "       [227.06387],\n",
       "       [226.26564],\n",
       "       [225.50648],\n",
       "       [227.36017],\n",
       "       [230.51099],\n",
       "       [233.38275],\n",
       "       [236.72247],\n",
       "       [239.32722],\n",
       "       [241.40718],\n",
       "       [243.28407],\n",
       "       [244.89601],\n",
       "       [244.74985],\n",
       "       [244.61732],\n",
       "       [245.50838],\n",
       "       [246.13759],\n",
       "       [245.44879],\n",
       "       [245.80609],\n",
       "       [246.37822],\n",
       "       [247.62798],\n",
       "       [248.49405],\n",
       "       [249.7794 ],\n",
       "       [251.26045],\n",
       "       [253.41583],\n",
       "       [255.28802],\n",
       "       [257.74966],\n",
       "       [257.73926],\n",
       "       [256.2998 ],\n",
       "       [255.52695],\n",
       "       [258.32138],\n",
       "       [262.54977],\n",
       "       [265.58936],\n",
       "       [267.857  ],\n",
       "       [269.6485 ],\n",
       "       [270.3384 ],\n",
       "       [271.09622],\n",
       "       [270.6246 ],\n",
       "       [269.07523],\n",
       "       [267.82642],\n",
       "       [267.9841 ],\n",
       "       [266.40182],\n",
       "       [265.15585],\n",
       "       [263.9614 ],\n",
       "       [262.25345],\n",
       "       [261.1025 ],\n",
       "       [261.3038 ],\n",
       "       [261.6158 ],\n",
       "       [261.07495],\n",
       "       [262.42896],\n",
       "       [263.03156],\n",
       "       [262.0524 ],\n",
       "       [261.76312],\n",
       "       [262.0174 ],\n",
       "       [262.3148 ],\n",
       "       [262.76572],\n",
       "       [262.70657],\n",
       "       [263.5767 ],\n",
       "       [264.8942 ],\n",
       "       [265.9527 ],\n",
       "       [269.66855],\n",
       "       [272.9513 ],\n",
       "       [275.6738 ],\n",
       "       [277.12817],\n",
       "       [276.9943 ],\n",
       "       [277.05075],\n",
       "       [277.37537],\n",
       "       [277.33246],\n",
       "       [277.9041 ],\n",
       "       [278.37158],\n",
       "       [277.91864],\n",
       "       [277.71295],\n",
       "       [276.85843],\n",
       "       [274.42776],\n",
       "       [271.91013],\n",
       "       [270.63632],\n",
       "       [272.97214],\n",
       "       [275.55417],\n",
       "       [276.26465],\n",
       "       [276.189  ],\n",
       "       [276.0367 ],\n",
       "       [275.84595],\n",
       "       [275.98026],\n",
       "       [274.46826],\n",
       "       [273.73077],\n",
       "       [275.12326],\n",
       "       [279.12253],\n",
       "       [281.20236],\n",
       "       [279.4276 ],\n",
       "       [277.64304],\n",
       "       [276.04984],\n",
       "       [276.33405],\n",
       "       [275.7227 ],\n",
       "       [273.5168 ],\n",
       "       [271.19196],\n",
       "       [270.54868],\n",
       "       [271.5571 ],\n",
       "       [272.11838],\n",
       "       [273.2711 ],\n",
       "       [275.96988],\n",
       "       [277.74646],\n",
       "       [277.3509 ],\n",
       "       [278.93283],\n",
       "       [282.41895],\n",
       "       [285.54218],\n",
       "       [288.06085],\n",
       "       [290.1768 ],\n",
       "       [292.59933],\n",
       "       [295.2389 ],\n",
       "       [297.52905],\n",
       "       [299.6976 ],\n",
       "       [301.80804],\n",
       "       [303.96628],\n",
       "       [306.00275],\n",
       "       [307.03137],\n",
       "       [307.30112],\n",
       "       [306.68588],\n",
       "       [304.19528],\n",
       "       [301.73767],\n",
       "       [300.54794],\n",
       "       [297.983  ],\n",
       "       [296.7805 ],\n",
       "       [298.161  ],\n",
       "       [300.83932],\n",
       "       [301.98596],\n",
       "       [302.4119 ],\n",
       "       [303.4051 ],\n",
       "       [304.11276],\n",
       "       [304.8945 ],\n",
       "       [304.16415],\n",
       "       [304.42953],\n",
       "       [306.66858],\n",
       "       [310.15533],\n",
       "       [313.4737 ],\n",
       "       [316.14215],\n",
       "       [318.6752 ],\n",
       "       [320.85153],\n",
       "       [322.78403],\n",
       "       [324.22052],\n",
       "       [324.54514],\n",
       "       [325.92227],\n",
       "       [327.31284],\n",
       "       [325.89047],\n",
       "       [305.3281 ],\n",
       "       [293.03705],\n",
       "       [287.45367],\n",
       "       [284.13943],\n",
       "       [284.3897 ],\n",
       "       [284.87756],\n",
       "       [286.19574],\n",
       "       [285.7144 ],\n",
       "       [286.25513],\n",
       "       [284.97867],\n",
       "       [284.6984 ],\n",
       "       [284.22455],\n",
       "       [282.4989 ],\n",
       "       [280.927  ],\n",
       "       [279.7926 ],\n",
       "       [277.22342],\n",
       "       [274.69952],\n",
       "       [273.30243],\n",
       "       [272.20203],\n",
       "       [271.46152],\n",
       "       [273.75565],\n",
       "       [276.5683 ],\n",
       "       [279.0367 ],\n",
       "       [280.49442],\n",
       "       [281.5795 ],\n",
       "       [282.08774],\n",
       "       [281.82138],\n",
       "       [281.6979 ],\n",
       "       [280.87997],\n",
       "       [280.61453],\n",
       "       [280.6633 ],\n",
       "       [281.1286 ],\n",
       "       [281.30804],\n",
       "       [281.16544],\n",
       "       [278.50446],\n",
       "       [274.1887 ],\n",
       "       [271.64972],\n",
       "       [270.9999 ],\n",
       "       [272.34955],\n",
       "       [271.7701 ],\n",
       "       [270.85095],\n",
       "       [269.4577 ],\n",
       "       [267.66235],\n",
       "       [266.68484],\n",
       "       [267.52707],\n",
       "       [268.0441 ],\n",
       "       [267.84726],\n",
       "       [265.46875],\n",
       "       [263.27798],\n",
       "       [260.67783],\n",
       "       [259.813  ],\n",
       "       [258.81287],\n",
       "       [259.04117],\n",
       "       [261.59073],\n",
       "       [263.50995],\n",
       "       [264.72278],\n",
       "       [265.9438 ],\n",
       "       [266.28857],\n",
       "       [265.9311 ],\n",
       "       [265.9523 ],\n",
       "       [265.7931 ],\n",
       "       [266.00815],\n",
       "       [266.19327],\n",
       "       [267.1828 ],\n",
       "       [267.901  ],\n",
       "       [267.39392],\n",
       "       [266.60025],\n",
       "       [266.7142 ],\n",
       "       [266.82608],\n",
       "       [267.09467],\n",
       "       [266.02887],\n",
       "       [264.98523],\n",
       "       [265.6569 ],\n",
       "       [265.3973 ],\n",
       "       [264.6848 ],\n",
       "       [263.9892 ],\n",
       "       [263.67456],\n",
       "       [263.62784],\n",
       "       [261.94427],\n",
       "       [260.78668],\n",
       "       [259.1858 ],\n",
       "       [257.30054],\n",
       "       [254.88605],\n",
       "       [253.68854],\n",
       "       [254.36333],\n",
       "       [255.89478],\n",
       "       [256.1109 ],\n",
       "       [256.52094],\n",
       "       [257.05756],\n",
       "       [258.27692],\n",
       "       [258.95294],\n",
       "       [258.43677],\n",
       "       [258.0054 ],\n",
       "       [257.17303],\n",
       "       [256.12057],\n",
       "       [255.291  ],\n",
       "       [254.40099],\n",
       "       [253.00914],\n",
       "       [252.40854],\n",
       "       [255.02045],\n",
       "       [259.19647],\n",
       "       [261.16238],\n",
       "       [260.83084],\n",
       "       [261.4094 ],\n",
       "       [262.40515],\n",
       "       [262.6923 ],\n",
       "       [262.8591 ],\n",
       "       [262.67038],\n",
       "       [262.2927 ],\n",
       "       [261.96973],\n",
       "       [262.06003],\n",
       "       [261.65   ],\n",
       "       [261.04706],\n",
       "       [261.01553],\n",
       "       [260.9273 ],\n",
       "       [260.3397 ],\n",
       "       [259.89072],\n",
       "       [259.80164],\n",
       "       [260.26465],\n",
       "       [261.56836],\n",
       "       [264.17014],\n",
       "       [266.0809 ],\n",
       "       [267.15488],\n",
       "       [266.95944],\n",
       "       [266.4181 ],\n",
       "       [264.18466],\n",
       "       [263.38544],\n",
       "       [265.62497],\n",
       "       [268.37967],\n",
       "       [269.98633],\n",
       "       [271.44263],\n",
       "       [273.73657],\n",
       "       [275.51022],\n",
       "       [274.97687],\n",
       "       [273.7548 ],\n",
       "       [271.61743],\n",
       "       [271.15036],\n",
       "       [271.44046],\n",
       "       [272.91638],\n",
       "       [272.46622],\n",
       "       [272.00818],\n",
       "       [271.52695],\n",
       "       [270.29855],\n",
       "       [268.77533],\n",
       "       [266.67255],\n",
       "       [265.6323 ],\n",
       "       [264.84845],\n",
       "       [263.59363],\n",
       "       [262.35114],\n",
       "       [263.20035],\n",
       "       [264.22223],\n",
       "       [265.4698 ],\n",
       "       [265.69473],\n",
       "       [265.462  ],\n",
       "       [264.83997],\n",
       "       [264.0002 ],\n",
       "       [262.12967],\n",
       "       [259.23083],\n",
       "       [258.1302 ],\n",
       "       [257.77548],\n",
       "       [257.8211 ],\n",
       "       [261.2914 ],\n",
       "       [264.79904],\n",
       "       [266.55383],\n",
       "       [266.40527],\n",
       "       [264.17746],\n",
       "       [261.55304],\n",
       "       [259.74826],\n",
       "       [258.74432],\n",
       "       [258.01794],\n",
       "       [256.80527],\n",
       "       [256.48587],\n",
       "       [256.93936],\n",
       "       [256.38235],\n",
       "       [256.48346],\n",
       "       [257.01877],\n",
       "       [257.54807],\n",
       "       [258.23203],\n",
       "       [259.13776],\n",
       "       [261.26224],\n",
       "       [263.4403 ],\n",
       "       [264.3868 ],\n",
       "       [263.60788],\n",
       "       [262.13754],\n",
       "       [262.04883],\n",
       "       [263.4297 ],\n",
       "       [266.7698 ],\n",
       "       [270.081  ],\n",
       "       [271.99576],\n",
       "       [272.59995],\n",
       "       [272.78192],\n",
       "       [272.34106],\n",
       "       [272.93427],\n",
       "       [274.00937],\n",
       "       [275.34125],\n",
       "       [277.85083],\n",
       "       [279.2731 ],\n",
       "       [277.56366],\n",
       "       [277.06183],\n",
       "       [277.4527 ],\n",
       "       [277.76645],\n",
       "       [277.2635 ],\n",
       "       [277.75644],\n",
       "       [278.7811 ],\n",
       "       [278.70428],\n",
       "       [279.48   ],\n",
       "       [278.16147],\n",
       "       [277.7485 ],\n",
       "       [277.93893],\n",
       "       [276.94977],\n",
       "       [274.1436 ],\n",
       "       [272.3376 ],\n",
       "       [270.75534],\n",
       "       [270.72702],\n",
       "       [270.83902],\n",
       "       [270.21436],\n",
       "       [269.55872],\n",
       "       [268.6842 ],\n",
       "       [267.74908],\n",
       "       [266.7346 ],\n",
       "       [266.9986 ],\n",
       "       [267.86447],\n",
       "       [267.61237],\n",
       "       [267.49518],\n",
       "       [267.8974 ],\n",
       "       [267.59747],\n",
       "       [266.94666],\n",
       "       [265.59668],\n",
       "       [264.4947 ],\n",
       "       [264.3577 ],\n",
       "       [263.86777],\n",
       "       [262.3676 ],\n",
       "       [262.4514 ],\n",
       "       [262.3746 ],\n",
       "       [262.83035],\n",
       "       [262.75964],\n",
       "       [261.74576],\n",
       "       [262.5383 ],\n",
       "       [262.87885],\n",
       "       [263.50366],\n",
       "       [263.77994],\n",
       "       [266.18494],\n",
       "       [268.66324],\n",
       "       [270.62628],\n",
       "       [272.45154],\n",
       "       [273.31906],\n",
       "       [273.929  ],\n",
       "       [272.28964],\n",
       "       [270.76318],\n",
       "       [269.3373 ],\n",
       "       [267.92502],\n",
       "       [268.45288],\n",
       "       [269.66873],\n",
       "       [273.28967],\n",
       "       [276.6799 ],\n",
       "       [278.8825 ],\n",
       "       [280.43875],\n",
       "       [282.8002 ],\n",
       "       [285.38596],\n",
       "       [287.55573],\n",
       "       [289.6296 ],\n",
       "       [291.1823 ],\n",
       "       [292.87448],\n",
       "       [294.15033],\n",
       "       [294.9578 ],\n",
       "       [295.1231 ],\n",
       "       [295.40897],\n",
       "       [296.37848],\n",
       "       [297.52536],\n",
       "       [298.73853],\n",
       "       [299.61472],\n",
       "       [301.0105 ],\n",
       "       [302.43225],\n",
       "       [303.55392],\n",
       "       [304.29617],\n",
       "       [304.3324 ],\n",
       "       [304.94897],\n",
       "       [304.9297 ],\n",
       "       [305.147  ],\n",
       "       [306.81616],\n",
       "       [308.37   ],\n",
       "       [308.5419 ],\n",
       "       [306.5834 ],\n",
       "       [305.15952],\n",
       "       [304.65628],\n",
       "       [304.40002],\n",
       "       [302.90268],\n",
       "       [298.03308],\n",
       "       [298.12637],\n",
       "       [299.62296],\n",
       "       [298.65775],\n",
       "       [298.00537],\n",
       "       [296.50992],\n",
       "       [297.0485 ],\n",
       "       [295.6986 ],\n",
       "       [295.54218],\n",
       "       [292.90363],\n",
       "       [290.65417],\n",
       "       [291.19302],\n",
       "       [292.00275],\n",
       "       [291.7837 ],\n",
       "       [288.49286],\n",
       "       [281.84082],\n",
       "       [275.68787],\n",
       "       [270.29208],\n",
       "       [267.6587 ],\n",
       "       [264.9932 ],\n",
       "       [266.79807],\n",
       "       [271.94028],\n",
       "       [276.45752],\n",
       "       [280.22342],\n",
       "       [282.8768 ],\n",
       "       [284.6123 ],\n",
       "       [285.52716],\n",
       "       [286.15848],\n",
       "       [286.2536 ],\n",
       "       [283.88815],\n",
       "       [282.46887],\n",
       "       [280.33508],\n",
       "       [278.96747],\n",
       "       [277.38477],\n",
       "       [278.18228],\n",
       "       [278.18417],\n",
       "       [276.99332],\n",
       "       [276.86014],\n",
       "       [276.22858],\n",
       "       [274.44327],\n",
       "       [273.9659 ],\n",
       "       [274.01083],\n",
       "       [273.47122],\n",
       "       [273.6005 ],\n",
       "       [276.4388 ],\n",
       "       [278.9507 ],\n",
       "       [279.74384],\n",
       "       [279.35657],\n",
       "       [280.35147],\n",
       "       [281.2498 ],\n",
       "       [280.89935],\n",
       "       [281.82938],\n",
       "       [282.38528],\n",
       "       [281.64902],\n",
       "       [280.4095 ],\n",
       "       [277.27377],\n",
       "       [273.8799 ],\n",
       "       [272.03384],\n",
       "       [270.10117],\n",
       "       [270.12497],\n",
       "       [271.26923],\n",
       "       [272.0601 ],\n",
       "       [272.62265],\n",
       "       [274.3493 ],\n",
       "       [275.37326],\n",
       "       [277.3493 ],\n",
       "       [278.82065],\n",
       "       [277.6902 ],\n",
       "       [275.9006 ],\n",
       "       [274.88135],\n",
       "       [275.8004 ],\n",
       "       [277.39145],\n",
       "       [278.3491 ],\n",
       "       [279.0427 ],\n",
       "       [278.80588],\n",
       "       [277.7629 ],\n",
       "       [277.5727 ],\n",
       "       [277.97174],\n",
       "       [279.1029 ],\n",
       "       [281.74832],\n",
       "       [283.662  ],\n",
       "       [285.61084],\n",
       "       [287.1232 ],\n",
       "       [288.51773],\n",
       "       [289.36334],\n",
       "       [289.36456],\n",
       "       [288.38126],\n",
       "       [287.07086],\n",
       "       [286.1555 ],\n",
       "       [281.23013],\n",
       "       [277.5308 ],\n",
       "       [275.8488 ],\n",
       "       [273.72934],\n",
       "       [273.39108],\n",
       "       [272.84537],\n",
       "       [273.42618],\n",
       "       [275.0462 ],\n",
       "       [275.19846],\n",
       "       [273.88486],\n",
       "       [273.91162],\n",
       "       [275.34732],\n",
       "       [275.08765],\n",
       "       [274.8502 ],\n",
       "       [274.2665 ],\n",
       "       [274.61392],\n",
       "       [275.89993],\n",
       "       [275.2077 ],\n",
       "       [274.4541 ],\n",
       "       [274.06702],\n",
       "       [273.63904],\n",
       "       [273.06488],\n",
       "       [273.42316],\n",
       "       [273.57855],\n",
       "       [273.41592],\n",
       "       [273.53928],\n",
       "       [274.43283],\n",
       "       [276.53082],\n",
       "       [279.1183 ],\n",
       "       [281.5983 ],\n",
       "       [283.64136],\n",
       "       [285.33264],\n",
       "       [286.86734],\n",
       "       [288.17627],\n",
       "       [289.27103],\n",
       "       [288.75525],\n",
       "       [288.51236],\n",
       "       [290.254  ],\n",
       "       [291.69992],\n",
       "       [292.20364],\n",
       "       [291.35953],\n",
       "       [290.03177],\n",
       "       [289.0557 ],\n",
       "       [290.64792],\n",
       "       [291.46356],\n",
       "       [291.83582],\n",
       "       [291.5147 ],\n",
       "       [290.7612 ],\n",
       "       [290.15866],\n",
       "       [289.20724],\n",
       "       [289.69296],\n",
       "       [289.92615],\n",
       "       [290.45554],\n",
       "       [293.3296 ],\n",
       "       [295.54037],\n",
       "       [297.17715],\n",
       "       [298.0778 ],\n",
       "       [297.91922],\n",
       "       [297.74692],\n",
       "       [298.63608],\n",
       "       [298.70856],\n",
       "       [298.62567],\n",
       "       [297.59973],\n",
       "       [297.8922 ],\n",
       "       [298.21243],\n",
       "       [299.2024 ],\n",
       "       [298.39633],\n",
       "       [297.05298],\n",
       "       [295.91666],\n",
       "       [294.48135],\n",
       "       [290.32727],\n",
       "       [288.9556 ],\n",
       "       [289.96844],\n",
       "       [290.22455],\n",
       "       [292.3614 ],\n",
       "       [295.58514],\n",
       "       [297.52496],\n",
       "       [297.3989 ],\n",
       "       [292.314  ],\n",
       "       [288.78046],\n",
       "       [287.36398],\n",
       "       [286.16324],\n",
       "       [285.07828],\n",
       "       [284.65823],\n",
       "       [281.06308],\n",
       "       [277.91565],\n",
       "       [276.5169 ],\n",
       "       [274.9312 ],\n",
       "       [273.65396],\n",
       "       [274.39188],\n",
       "       [275.7073 ],\n",
       "       [276.77206],\n",
       "       [277.67807],\n",
       "       [277.45642],\n",
       "       [275.98996],\n",
       "       [274.76727],\n",
       "       [274.81357],\n",
       "       [275.15143],\n",
       "       [274.47958],\n",
       "       [274.36414],\n",
       "       [275.276  ],\n",
       "       [275.79196],\n",
       "       [274.652  ],\n",
       "       [273.5074 ],\n",
       "       [273.20245],\n",
       "       [272.8766 ],\n",
       "       [273.50522],\n",
       "       [274.5435 ],\n",
       "       [275.87442],\n",
       "       [276.16757],\n",
       "       [274.5646 ],\n",
       "       [272.96185],\n",
       "       [272.81027],\n",
       "       [272.9372 ],\n",
       "       [271.6615 ],\n",
       "       [270.67227],\n",
       "       [270.51453],\n",
       "       [270.67728],\n",
       "       [269.3384 ],\n",
       "       [266.64215],\n",
       "       [266.54886],\n",
       "       [267.52487],\n",
       "       [267.41617],\n",
       "       [267.74905],\n",
       "       [267.41568],\n",
       "       [267.2897 ],\n",
       "       [267.74826],\n",
       "       [267.4182 ],\n",
       "       [265.94226],\n",
       "       [262.99484],\n",
       "       [260.26166],\n",
       "       [256.7761 ],\n",
       "       [255.52713],\n",
       "       [254.40405],\n",
       "       [250.89   ],\n",
       "       [248.47554],\n",
       "       [248.90448],\n",
       "       [249.8361 ],\n",
       "       [248.9415 ],\n",
       "       [246.06274],\n",
       "       [243.0384 ],\n",
       "       [239.8638 ],\n",
       "       [239.5199 ],\n",
       "       [241.49359],\n",
       "       [243.8803 ],\n",
       "       [244.26059],\n",
       "       [244.9781 ],\n",
       "       [244.68497],\n",
       "       [244.44487],\n",
       "       [244.68764],\n",
       "       [244.93535],\n",
       "       [245.50775],\n",
       "       [245.5248 ],\n",
       "       [244.32147],\n",
       "       [242.67126],\n",
       "       [241.21353],\n",
       "       [239.60503],\n",
       "       [238.92262],\n",
       "       [238.13318],\n",
       "       [237.80234],\n",
       "       [242.39888],\n",
       "       [248.28244],\n",
       "       [250.42566],\n",
       "       [250.98993],\n",
       "       [251.77113],\n",
       "       [254.12999],\n",
       "       [255.48901],\n",
       "       [257.181  ],\n",
       "       [257.51566],\n",
       "       [255.49547],\n",
       "       [251.66373],\n",
       "       [247.1182 ],\n",
       "       [243.96002],\n",
       "       [242.37277],\n",
       "       [242.87599],\n",
       "       [242.82384],\n",
       "       [243.12001],\n",
       "       [243.84488],\n",
       "       [245.29373],\n",
       "       [247.30934],\n",
       "       [248.38551],\n",
       "       [248.31891],\n",
       "       [249.53773],\n",
       "       [252.73405],\n",
       "       [255.24953],\n",
       "       [257.47955],\n",
       "       [258.89496],\n",
       "       [260.06235],\n",
       "       [260.41592],\n",
       "       [261.44907],\n",
       "       [261.02222],\n",
       "       [259.73807],\n",
       "       [256.84402],\n",
       "       [254.26405],\n",
       "       [251.64172],\n",
       "       [249.78767],\n",
       "       [248.35107],\n",
       "       [247.94707],\n",
       "       [246.50955],\n",
       "       [245.69237],\n",
       "       [245.59572],\n",
       "       [246.27948],\n",
       "       [246.43248],\n",
       "       [246.24646],\n",
       "       [246.00084],\n",
       "       [245.43027],\n",
       "       [244.64836],\n",
       "       [243.78952],\n",
       "       [244.33533],\n",
       "       [244.2974 ],\n",
       "       [243.32213],\n",
       "       [240.57033],\n",
       "       [238.49641],\n",
       "       [237.7743 ],\n",
       "       [238.6838 ],\n",
       "       [238.64899],\n",
       "       [239.25706],\n",
       "       [241.33864],\n",
       "       [243.26141],\n",
       "       [243.51335],\n",
       "       [242.28806],\n",
       "       [240.82164],\n",
       "       [239.18826],\n",
       "       [237.92883],\n",
       "       [237.55518],\n",
       "       [237.50801],\n",
       "       [237.65295],\n",
       "       [238.33197],\n",
       "       [238.69347],\n",
       "       [237.79343],\n",
       "       [236.6495 ],\n",
       "       [235.51103],\n",
       "       [235.13329],\n",
       "       [235.83394],\n",
       "       [237.14075],\n",
       "       [239.40257],\n",
       "       [241.24489],\n",
       "       [241.8137 ],\n",
       "       [241.4241 ],\n",
       "       [241.33981],\n",
       "       [240.48006],\n",
       "       [239.28088],\n",
       "       [238.26213],\n",
       "       [237.67839],\n",
       "       [236.4122 ],\n",
       "       [234.0407 ],\n",
       "       [233.53255],\n",
       "       [233.46347],\n",
       "       [233.7327 ],\n",
       "       [226.65422],\n",
       "       [220.12437],\n",
       "       [216.81787],\n",
       "       [215.01746],\n",
       "       [213.99303],\n",
       "       [213.01933],\n",
       "       [212.90317],\n",
       "       [213.48683],\n",
       "       [214.04631],\n",
       "       [213.52086],\n",
       "       [211.9185 ],\n",
       "       [210.03949],\n",
       "       [209.1791 ],\n",
       "       [209.31558],\n",
       "       [208.95068],\n",
       "       [207.96062],\n",
       "       [206.24974],\n",
       "       [204.3242 ],\n",
       "       [202.76608],\n",
       "       [201.33766],\n",
       "       [199.92427],\n",
       "       [197.57935],\n",
       "       [195.24579],\n",
       "       [192.66008],\n",
       "       [189.58546],\n",
       "       [186.43767],\n",
       "       [181.44954],\n",
       "       [176.34894],\n",
       "       [170.66885],\n",
       "       [165.50822],\n",
       "       [161.68208],\n",
       "       [160.2443 ],\n",
       "       [161.87099],\n",
       "       [163.74991],\n",
       "       [164.31827],\n",
       "       [163.37724],\n",
       "       [162.21217],\n",
       "       [161.97733],\n",
       "       [162.47432],\n",
       "       [164.82632],\n",
       "       [167.82516],\n",
       "       [171.56665],\n",
       "       [175.74228],\n",
       "       [179.27516],\n",
       "       [182.30702],\n",
       "       [184.1919 ],\n",
       "       [185.77443],\n",
       "       [186.70157],\n",
       "       [187.079  ],\n",
       "       [185.91869],\n",
       "       [183.51077],\n",
       "       [181.19005],\n",
       "       [179.31136],\n",
       "       [177.94124],\n",
       "       [177.06676],\n",
       "       [176.58588],\n",
       "       [176.8374 ],\n",
       "       [177.59615],\n",
       "       [177.33994],\n",
       "       [176.24033],\n",
       "       [173.62418],\n",
       "       [170.4406 ],\n",
       "       [167.13423],\n",
       "       [164.23323],\n",
       "       [162.71242],\n",
       "       [162.5739 ],\n",
       "       [163.19096],\n",
       "       [164.14944],\n",
       "       [165.16466],\n",
       "       [166.96417],\n",
       "       [169.92123],\n",
       "       [174.69818],\n",
       "       [179.9548 ],\n",
       "       [185.04642],\n",
       "       [189.23929],\n",
       "       [191.62671],\n",
       "       [193.25984],\n",
       "       [194.79094],\n",
       "       [196.0873 ],\n",
       "       [196.39345],\n",
       "       [196.21582],\n",
       "       [195.9888 ],\n",
       "       [195.3666 ],\n",
       "       [194.67892],\n",
       "       [194.2494 ],\n",
       "       [193.24449],\n",
       "       [191.94942],\n",
       "       [189.65686],\n",
       "       [186.82968],\n",
       "       [183.79237],\n",
       "       [182.32791],\n",
       "       [181.89337],\n",
       "       [182.19357],\n",
       "       [183.09735],\n",
       "       [185.2217 ],\n",
       "       [189.54655],\n",
       "       [193.49916],\n",
       "       [196.34665],\n",
       "       [197.57268],\n",
       "       [198.9862 ],\n",
       "       [201.10892],\n",
       "       [203.52505],\n",
       "       [204.06575],\n",
       "       [202.02745],\n",
       "       [199.3066 ],\n",
       "       [196.93956],\n",
       "       [195.13182],\n",
       "       [194.55669],\n",
       "       [194.55818],\n",
       "       [195.26283],\n",
       "       [195.38577],\n",
       "       [195.02779],\n",
       "       [194.3317 ],\n",
       "       [193.57333],\n",
       "       [193.7851 ],\n",
       "       [195.42004],\n",
       "       [197.38841],\n",
       "       [198.39085],\n",
       "       [198.31352],\n",
       "       [197.93794],\n",
       "       [197.01614],\n",
       "       [196.05698],\n",
       "       [195.07211],\n",
       "       [194.43867],\n",
       "       [194.03029],\n",
       "       [194.25156],\n",
       "       [194.98402],\n",
       "       [196.3243 ],\n",
       "       [198.50504],\n",
       "       [200.96725],\n",
       "       [202.48409],\n",
       "       [202.05103],\n",
       "       [200.94089],\n",
       "       [199.88956],\n",
       "       [199.13031],\n",
       "       [198.1849 ],\n",
       "       [197.41473],\n",
       "       [196.94482],\n",
       "       [196.5059 ],\n",
       "       [196.04893],\n",
       "       [195.55894],\n",
       "       [195.40622],\n",
       "       [194.73639],\n",
       "       [193.61996],\n",
       "       [192.74405],\n",
       "       [192.35468],\n",
       "       [191.48738],\n",
       "       [190.77933],\n",
       "       [190.29301],\n",
       "       [189.29686],\n",
       "       [188.26724],\n",
       "       [187.38004],\n",
       "       [186.67282],\n",
       "       [185.95808],\n",
       "       [185.15646],\n",
       "       [184.12657],\n",
       "       [183.20631],\n",
       "       [182.06786],\n",
       "       [180.67296],\n",
       "       [179.169  ],\n",
       "       [177.19739],\n",
       "       [175.51627],\n",
       "       [174.68512],\n",
       "       [174.19946],\n",
       "       [174.06749],\n",
       "       [174.26636],\n",
       "       [174.35913],\n",
       "       [174.34154],\n",
       "       [174.21408],\n",
       "       [173.71994],\n",
       "       [173.07422],\n",
       "       [173.04105],\n",
       "       [173.31157],\n",
       "       [173.29459],\n",
       "       [172.56601],\n",
       "       [171.45804],\n",
       "       [170.67664],\n",
       "       [170.27011],\n",
       "       [170.14365],\n",
       "       [170.2676 ],\n",
       "       [170.77292],\n",
       "       [171.20216],\n",
       "       [171.20851],\n",
       "       [170.64685],\n",
       "       [169.56667],\n",
       "       [168.47922],\n",
       "       [167.84773],\n",
       "       [168.08855],\n",
       "       [168.89693],\n",
       "       [170.4336 ],\n",
       "       [172.17578],\n",
       "       [173.49971],\n",
       "       [174.89635],\n",
       "       [177.1864 ],\n",
       "       [180.27261],\n",
       "       [183.19661],\n",
       "       [185.31354],\n",
       "       [185.95737],\n",
       "       [185.98743],\n",
       "       [186.4197 ],\n",
       "       [187.067  ],\n",
       "       [188.33731],\n",
       "       [189.55164],\n",
       "       [190.49191],\n",
       "       [190.88907],\n",
       "       [190.99084],\n",
       "       [191.24156],\n",
       "       [191.67053],\n",
       "       [192.47585],\n",
       "       [194.2623 ],\n",
       "       [196.26164],\n",
       "       [198.38997],\n",
       "       [201.55753],\n",
       "       [205.54669],\n",
       "       [209.0449 ],\n",
       "       [210.87007],\n",
       "       [211.37898],\n",
       "       [211.00522],\n",
       "       [210.63507],\n",
       "       [208.01378],\n",
       "       [204.66107],\n",
       "       [202.91861],\n",
       "       [202.86142],\n",
       "       [203.8365 ],\n",
       "       [205.50177],\n",
       "       [207.10287],\n",
       "       [207.85088],\n",
       "       [209.0079 ],\n",
       "       [210.27962]], dtype=float32)"
      ]
     },
     "execution_count": 51,
     "metadata": {
      "tags": []
     },
     "output_type": "execute_result"
    }
   ],
   "source": [
    "preds"
   ]
  },
  {
   "cell_type": "code",
   "execution_count": 52,
   "metadata": {
    "colab": {
     "base_uri": "https://localhost:8080/"
    },
    "executionInfo": {
     "elapsed": 1078,
     "status": "ok",
     "timestamp": 1609923367346,
     "user": {
      "displayName": "5072 Medha Mathur",
      "photoUrl": "https://lh3.googleusercontent.com/a-/AOh14GhU5rpc98_bHp-wBsi8gjk3rfPBSk5rV-xSzpRV=s64",
      "userId": "09694216789696746072"
     },
     "user_tz": -330
    },
    "id": "RxSF4ocujJ_z",
    "outputId": "21acdff3-fd26-4e61-fc62-b70843654a5e"
   },
   "outputs": [
    {
     "data": {
      "text/plain": [
       "6.492920558751342"
      ]
     },
     "execution_count": 52,
     "metadata": {
      "tags": []
     },
     "output_type": "execute_result"
    }
   ],
   "source": [
    "rms=np.sqrt(np.mean(np.power((valid_ds-preds),2)))\r\n",
    "rms"
   ]
  },
  {
   "cell_type": "code",
   "execution_count": 67,
   "metadata": {
    "colab": {
     "base_uri": "https://localhost:8080/",
     "height": 600
    },
    "executionInfo": {
     "elapsed": 70593,
     "status": "ok",
     "timestamp": 1609923837036,
     "user": {
      "displayName": "5072 Medha Mathur",
      "photoUrl": "https://lh3.googleusercontent.com/a-/AOh14GhU5rpc98_bHp-wBsi8gjk3rfPBSk5rV-xSzpRV=s64",
      "userId": "09694216789696746072"
     },
     "user_tz": -330
    },
    "id": "pHIdcM4tjObh",
    "outputId": "511e6262-1d6f-4985-c356-ac0f2123428c"
   },
   "outputs": [
    {
     "name": "stderr",
     "output_type": "stream",
     "text": [
      "/usr/local/lib/python3.6/dist-packages/ipykernel_launcher.py:4: SettingWithCopyWarning: \n",
      "A value is trying to be set on a copy of a slice from a DataFrame.\n",
      "Try using .loc[row_indexer,col_indexer] = value instead\n",
      "\n",
      "See the caveats in the documentation: https://pandas.pydata.org/pandas-docs/stable/user_guide/indexing.html#returning-a-view-versus-a-copy\n",
      "  after removing the cwd from sys.path.\n"
     ]
    },
    {
     "data": {
      "image/png": "[encoded data removed]",
      "text/plain": [
       "<Figure size 1440x576 with 1 Axes>"
      ]
     },
     "metadata": {
      "needs_background": "light",
      "tags": []
     },
     "output_type": "display_data"
    }
   ],
   "source": [
    "#for plotting\r\n",
    "train = dataset[0:1714]\r\n",
    "valid = dataset[1714:]\r\n",
    "valid['Predictions'] = preds\r\n",
    "plt.figure(figsize=(20,8))\r\n",
    "plt.plot(train['Close'])\r\n",
    "plt.plot(valid['Close'], color = 'blue', label = 'Real Price')\r\n",
    "plt.plot(valid['Predictions'], color = 'red', label = 'Predicted Price')\r\n",
    "plt.title('ITC price prediction')\r\n",
    "plt.legend()\r\n",
    "plt.show()"
   ]
  },
  {
   "cell_type": "markdown",
   "metadata": {
    "id": "Jo2jPsWS4poF"
   },
   "source": [
    "#Predicting future value of stock"
   ]
  },
  {
   "cell_type": "code",
   "execution_count": 68,
   "metadata": {
    "executionInfo": {
     "elapsed": 1307,
     "status": "ok",
     "timestamp": 1609923871581,
     "user": {
      "displayName": "5072 Medha Mathur",
      "photoUrl": "https://lh3.googleusercontent.com/a-/AOh14GhU5rpc98_bHp-wBsi8gjk3rfPBSk5rV-xSzpRV=s64",
      "userId": "09694216789696746072"
     },
     "user_tz": -330
    },
    "id": "Mlg9wImKlNko"
   },
   "outputs": [],
   "source": [
    "look_back=15\r\n",
    "inputs = dataset[-look_back:].values\r\n",
    "inputs = inputs.reshape(-1,1)\r\n",
    "inputs  = scaler.transform(inputs)"
   ]
  },
  {
   "cell_type": "code",
   "execution_count": 69,
   "metadata": {
    "executionInfo": {
     "elapsed": 2048,
     "status": "ok",
     "timestamp": 1609923876718,
     "user": {
      "displayName": "5072 Medha Mathur",
      "photoUrl": "https://lh3.googleusercontent.com/a-/AOh14GhU5rpc98_bHp-wBsi8gjk3rfPBSk5rV-xSzpRV=s64",
      "userId": "09694216789696746072"
     },
     "user_tz": -330
    },
    "id": "C7ozIr1l3HYm"
   },
   "outputs": [],
   "source": [
    "forecast_list=[]\r\n",
    "for _ in range(30):\r\n",
    "  x = inputs[-look_back:]\r\n",
    "  x = np.reshape(x, (x.shape[1],x.shape[0],1))\r\n",
    "  forecast = model.predict(x)\r\n",
    "  forecast = scaler.inverse_transform(forecast)\r\n",
    "  inputs = scaler.inverse_transform(inputs)\r\n",
    "  inputs = np.append(inputs,forecast[0][0])\r\n",
    "  inputs = inputs.reshape(-1,1)\r\n",
    "  inputs  = scaler.transform(inputs)\r\n",
    "  forecast_list.append(forecast[0][0])"
   ]
  },
  {
   "cell_type": "code",
   "execution_count": 70,
   "metadata": {
    "colab": {
     "base_uri": "https://localhost:8080/"
    },
    "executionInfo": {
     "elapsed": 1065,
     "status": "ok",
     "timestamp": 1609923879453,
     "user": {
      "displayName": "5072 Medha Mathur",
      "photoUrl": "https://lh3.googleusercontent.com/a-/AOh14GhU5rpc98_bHp-wBsi8gjk3rfPBSk5rV-xSzpRV=s64",
      "userId": "09694216789696746072"
     },
     "user_tz": -330
    },
    "id": "SwWXqfIeiUCS",
    "outputId": "f455589e-a968-473a-e8fc-8cafee54486b"
   },
   "outputs": [
    {
     "data": {
      "text/plain": [
       "[Timestamp('2021-01-06 00:00:00', freq='D'),\n",
       " Timestamp('2021-01-07 00:00:00', freq='D'),\n",
       " Timestamp('2021-01-08 00:00:00', freq='D'),\n",
       " Timestamp('2021-01-09 00:00:00', freq='D'),\n",
       " Timestamp('2021-01-10 00:00:00', freq='D'),\n",
       " Timestamp('2021-01-11 00:00:00', freq='D'),\n",
       " Timestamp('2021-01-12 00:00:00', freq='D'),\n",
       " Timestamp('2021-01-13 00:00:00', freq='D'),\n",
       " Timestamp('2021-01-14 00:00:00', freq='D'),\n",
       " Timestamp('2021-01-15 00:00:00', freq='D'),\n",
       " Timestamp('2021-01-16 00:00:00', freq='D'),\n",
       " Timestamp('2021-01-17 00:00:00', freq='D'),\n",
       " Timestamp('2021-01-18 00:00:00', freq='D'),\n",
       " Timestamp('2021-01-19 00:00:00', freq='D'),\n",
       " Timestamp('2021-01-20 00:00:00', freq='D'),\n",
       " Timestamp('2021-01-21 00:00:00', freq='D'),\n",
       " Timestamp('2021-01-22 00:00:00', freq='D'),\n",
       " Timestamp('2021-01-23 00:00:00', freq='D'),\n",
       " Timestamp('2021-01-24 00:00:00', freq='D'),\n",
       " Timestamp('2021-01-25 00:00:00', freq='D'),\n",
       " Timestamp('2021-01-26 00:00:00', freq='D'),\n",
       " Timestamp('2021-01-27 00:00:00', freq='D'),\n",
       " Timestamp('2021-01-28 00:00:00', freq='D'),\n",
       " Timestamp('2021-01-29 00:00:00', freq='D'),\n",
       " Timestamp('2021-01-30 00:00:00', freq='D'),\n",
       " Timestamp('2021-01-31 00:00:00', freq='D'),\n",
       " Timestamp('2021-02-01 00:00:00', freq='D'),\n",
       " Timestamp('2021-02-02 00:00:00', freq='D'),\n",
       " Timestamp('2021-02-03 00:00:00', freq='D'),\n",
       " Timestamp('2021-02-04 00:00:00', freq='D')]"
      ]
     },
     "execution_count": 70,
     "metadata": {
      "tags": []
     },
     "output_type": "execute_result"
    }
   ],
   "source": [
    "last_date = dataset_raw['Date'].values[-1]\r\n",
    "prediction_dates = pd.date_range(last_date, periods=31).tolist()\r\n",
    "prediction_dates = prediction_dates[1:]\r\n",
    "prediction_dates"
   ]
  },
  {
   "cell_type": "code",
   "execution_count": 71,
   "metadata": {
    "colab": {
     "base_uri": "https://localhost:8080/",
     "height": 935
    },
    "executionInfo": {
     "elapsed": 1057,
     "status": "ok",
     "timestamp": 1609923882896,
     "user": {
      "displayName": "5072 Medha Mathur",
      "photoUrl": "https://lh3.googleusercontent.com/a-/AOh14GhU5rpc98_bHp-wBsi8gjk3rfPBSk5rV-xSzpRV=s64",
      "userId": "09694216789696746072"
     },
     "user_tz": -330
    },
    "id": "QjQzGwSkjP3a",
    "outputId": "a457ff68-e006-4c3f-9396-a21771c3bd2f"
   },
   "outputs": [
    {
     "data": {
      "text/html": [
       "<div>\n",
       "<style scoped>\n",
       "    .dataframe tbody tr th:only-of-type {\n",
       "        vertical-align: middle;\n",
       "    }\n",
       "\n",
       "    .dataframe tbody tr th {\n",
       "        vertical-align: top;\n",
       "    }\n",
       "\n",
       "    .dataframe thead th {\n",
       "        text-align: right;\n",
       "    }\n",
       "</style>\n",
       "<table border=\"1\" class=\"dataframe\">\n",
       "  <thead>\n",
       "    <tr style=\"text-align: right;\">\n",
       "      <th></th>\n",
       "      <th>Date</th>\n",
       "      <th>Predicted Close</th>\n",
       "    </tr>\n",
       "  </thead>\n",
       "  <tbody>\n",
       "    <tr>\n",
       "      <th>0</th>\n",
       "      <td>2021-01-06</td>\n",
       "      <td>197.195343</td>\n",
       "    </tr>\n",
       "    <tr>\n",
       "      <th>1</th>\n",
       "      <td>2021-01-07</td>\n",
       "      <td>196.367004</td>\n",
       "    </tr>\n",
       "    <tr>\n",
       "      <th>2</th>\n",
       "      <td>2021-01-08</td>\n",
       "      <td>194.470108</td>\n",
       "    </tr>\n",
       "    <tr>\n",
       "      <th>3</th>\n",
       "      <td>2021-01-09</td>\n",
       "      <td>192.162552</td>\n",
       "    </tr>\n",
       "    <tr>\n",
       "      <th>4</th>\n",
       "      <td>2021-01-10</td>\n",
       "      <td>188.482712</td>\n",
       "    </tr>\n",
       "    <tr>\n",
       "      <th>5</th>\n",
       "      <td>2021-01-11</td>\n",
       "      <td>184.903610</td>\n",
       "    </tr>\n",
       "    <tr>\n",
       "      <th>6</th>\n",
       "      <td>2021-01-12</td>\n",
       "      <td>181.319778</td>\n",
       "    </tr>\n",
       "    <tr>\n",
       "      <th>7</th>\n",
       "      <td>2021-01-13</td>\n",
       "      <td>177.623230</td>\n",
       "    </tr>\n",
       "    <tr>\n",
       "      <th>8</th>\n",
       "      <td>2021-01-14</td>\n",
       "      <td>173.854446</td>\n",
       "    </tr>\n",
       "    <tr>\n",
       "      <th>9</th>\n",
       "      <td>2021-01-15</td>\n",
       "      <td>170.000397</td>\n",
       "    </tr>\n",
       "    <tr>\n",
       "      <th>10</th>\n",
       "      <td>2021-01-16</td>\n",
       "      <td>166.106964</td>\n",
       "    </tr>\n",
       "    <tr>\n",
       "      <th>11</th>\n",
       "      <td>2021-01-17</td>\n",
       "      <td>162.283173</td>\n",
       "    </tr>\n",
       "    <tr>\n",
       "      <th>12</th>\n",
       "      <td>2021-01-18</td>\n",
       "      <td>158.555923</td>\n",
       "    </tr>\n",
       "    <tr>\n",
       "      <th>13</th>\n",
       "      <td>2021-01-19</td>\n",
       "      <td>154.888824</td>\n",
       "    </tr>\n",
       "    <tr>\n",
       "      <th>14</th>\n",
       "      <td>2021-01-20</td>\n",
       "      <td>151.275055</td>\n",
       "    </tr>\n",
       "    <tr>\n",
       "      <th>15</th>\n",
       "      <td>2021-01-21</td>\n",
       "      <td>147.865936</td>\n",
       "    </tr>\n",
       "    <tr>\n",
       "      <th>16</th>\n",
       "      <td>2021-01-22</td>\n",
       "      <td>144.495178</td>\n",
       "    </tr>\n",
       "    <tr>\n",
       "      <th>17</th>\n",
       "      <td>2021-01-23</td>\n",
       "      <td>141.189438</td>\n",
       "    </tr>\n",
       "    <tr>\n",
       "      <th>18</th>\n",
       "      <td>2021-01-24</td>\n",
       "      <td>137.964325</td>\n",
       "    </tr>\n",
       "    <tr>\n",
       "      <th>19</th>\n",
       "      <td>2021-01-25</td>\n",
       "      <td>134.903976</td>\n",
       "    </tr>\n",
       "    <tr>\n",
       "      <th>20</th>\n",
       "      <td>2021-01-26</td>\n",
       "      <td>131.889786</td>\n",
       "    </tr>\n",
       "    <tr>\n",
       "      <th>21</th>\n",
       "      <td>2021-01-27</td>\n",
       "      <td>128.985046</td>\n",
       "    </tr>\n",
       "    <tr>\n",
       "      <th>22</th>\n",
       "      <td>2021-01-28</td>\n",
       "      <td>126.286125</td>\n",
       "    </tr>\n",
       "    <tr>\n",
       "      <th>23</th>\n",
       "      <td>2021-01-29</td>\n",
       "      <td>123.720177</td>\n",
       "    </tr>\n",
       "    <tr>\n",
       "      <th>24</th>\n",
       "      <td>2021-01-30</td>\n",
       "      <td>121.287262</td>\n",
       "    </tr>\n",
       "    <tr>\n",
       "      <th>25</th>\n",
       "      <td>2021-01-31</td>\n",
       "      <td>119.052803</td>\n",
       "    </tr>\n",
       "    <tr>\n",
       "      <th>26</th>\n",
       "      <td>2021-02-01</td>\n",
       "      <td>116.988693</td>\n",
       "    </tr>\n",
       "    <tr>\n",
       "      <th>27</th>\n",
       "      <td>2021-02-02</td>\n",
       "      <td>114.999191</td>\n",
       "    </tr>\n",
       "    <tr>\n",
       "      <th>28</th>\n",
       "      <td>2021-02-03</td>\n",
       "      <td>113.096977</td>\n",
       "    </tr>\n",
       "    <tr>\n",
       "      <th>29</th>\n",
       "      <td>2021-02-04</td>\n",
       "      <td>111.234833</td>\n",
       "    </tr>\n",
       "  </tbody>\n",
       "</table>\n",
       "</div>"
      ],
      "text/plain": [
       "         Date  Predicted Close\n",
       "0  2021-01-06       197.195343\n",
       "1  2021-01-07       196.367004\n",
       "2  2021-01-08       194.470108\n",
       "3  2021-01-09       192.162552\n",
       "4  2021-01-10       188.482712\n",
       "5  2021-01-11       184.903610\n",
       "6  2021-01-12       181.319778\n",
       "7  2021-01-13       177.623230\n",
       "8  2021-01-14       173.854446\n",
       "9  2021-01-15       170.000397\n",
       "10 2021-01-16       166.106964\n",
       "11 2021-01-17       162.283173\n",
       "12 2021-01-18       158.555923\n",
       "13 2021-01-19       154.888824\n",
       "14 2021-01-20       151.275055\n",
       "15 2021-01-21       147.865936\n",
       "16 2021-01-22       144.495178\n",
       "17 2021-01-23       141.189438\n",
       "18 2021-01-24       137.964325\n",
       "19 2021-01-25       134.903976\n",
       "20 2021-01-26       131.889786\n",
       "21 2021-01-27       128.985046\n",
       "22 2021-01-28       126.286125\n",
       "23 2021-01-29       123.720177\n",
       "24 2021-01-30       121.287262\n",
       "25 2021-01-31       119.052803\n",
       "26 2021-02-01       116.988693\n",
       "27 2021-02-02       114.999191\n",
       "28 2021-02-03       113.096977\n",
       "29 2021-02-04       111.234833"
      ]
     },
     "execution_count": 71,
     "metadata": {
      "tags": []
     },
     "output_type": "execute_result"
    }
   ],
   "source": [
    "fpred=pd.DataFrame(list(zip(prediction_dates, forecast_list)), \r\n",
    "               columns =['Date', 'Predicted Close']) \r\n",
    "fpred"
   ]
  },
  {
   "cell_type": "code",
   "execution_count": 72,
   "metadata": {
    "colab": {
     "base_uri": "https://localhost:8080/",
     "height": 402
    },
    "executionInfo": {
     "elapsed": 1312,
     "status": "ok",
     "timestamp": 1609923887048,
     "user": {
      "displayName": "5072 Medha Mathur",
      "photoUrl": "https://lh3.googleusercontent.com/a-/AOh14GhU5rpc98_bHp-wBsi8gjk3rfPBSk5rV-xSzpRV=s64",
      "userId": "09694216789696746072"
     },
     "user_tz": -330
    },
    "id": "o0hb10Pq4oeQ",
    "outputId": "fc8cf435-74fc-4568-c4d5-5dc90835eed6"
   },
   "outputs": [
    {
     "data": {
      "text/plain": [
       "<Figure size 648x360 with 0 Axes>"
      ]
     },
     "metadata": {
      "tags": []
     },
     "output_type": "display_data"
    },
    {
     "data": {
      "image/png": "[encoded data removed]",
      "text/plain": [
       "<Figure size 648x360 with 1 Axes>"
      ]
     },
     "metadata": {
      "needs_background": "light",
      "tags": []
     },
     "output_type": "display_data"
    }
   ],
   "source": [
    "plt.figure(figsize=(9,5))\r\n",
    "fpred.plot(x='Date',label = 'Predicted Price')\r\n",
    "plt.title('ITC price prediction')\r\n",
    "plt.legend()\r\n",
    "plt.show()"
   ]
  },
  {
   "cell_type": "code",
   "execution_count": null,
   "metadata": {
    "colab": {
     "base_uri": "https://localhost:8080/",
     "height": 86
    },
    "executionInfo": {
     "elapsed": 4580,
     "status": "ok",
     "timestamp": 1609853209140,
     "user": {
      "displayName": "5072 Medha Mathur",
      "photoUrl": "https://lh3.googleusercontent.com/a-/AOh14GhU5rpc98_bHp-wBsi8gjk3rfPBSk5rV-xSzpRV=s64",
      "userId": "09694216789696746072"
     },
     "user_tz": -330
    },
    "id": "4LX_dEdUnZAC",
    "outputId": "4a3f26df-feb8-4f5d-bd7f-7d0de8734f62"
   },
   "outputs": [
    {
     "name": "stdout",
     "output_type": "stream",
     "text": [
      "[jovian] Detected Colab notebook...\u001b[0m\n",
      "[jovian] Uploading colab notebook to Jovian...\u001b[0m\n",
      "[jovian] Committed successfully! https://jovian.ai/medhamathur27/nifty-50-stock-price-prediction-02\u001b[0m\n"
     ]
    },
    {
     "data": {
      "application/vnd.google.colaboratory.intrinsic+json": {
       "type": "string"
      },
      "text/plain": [
       "'https://jovian.ai/medhamathur27/nifty-50-stock-price-prediction-02'"
      ]
     },
     "execution_count": 556,
     "metadata": {
      "tags": []
     },
     "output_type": "execute_result"
    }
   ],
   "source": [
    "jovian.commit(project=project_name, environment=None)"
   ]
  }
 ],
 "metadata": {
  "colab": {
   "collapsed_sections": [],
   "name": "itc.ipynb",
   "provenance": []
  },
  "language_info": {
   "codemirror_mode": {
    "name": "ipython",
    "version": 3
   },
   "file_extension": ".py",
   "mimetype": "text/x-python",
   "name": "python",
   "nbconvert_exporter": "python",
   "pygments_lexer": "ipython3",
   "version": "3.7.6"
  }
 },
 "nbformat": 4,
 "nbformat_minor": 0
}