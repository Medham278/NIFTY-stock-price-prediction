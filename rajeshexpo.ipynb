{
 "cells": [
  {
   "cell_type": "markdown",
   "metadata": {
    "id": "XY5g4qT96Csy"
   },
   "source": [
    "#NIFTY 50 : RAJESHEXPO STOCK PRICE PREDICTION\r\n",
    "Final Assignment/Project for \"Deep Learning: Zero to GANs\" course by Medha Mathur.\r\n"
   ]
  },
  {
   "cell_type": "code",
   "execution_count": 2,
   "metadata": {
    "executionInfo": {
     "elapsed": 5259,
     "status": "ok",
     "timestamp": 1609925113661,
     "user": {
      "displayName": "5072 Medha Mathur",
      "photoUrl": "https://lh3.googleusercontent.com/a-/AOh14GhU5rpc98_bHp-wBsi8gjk3rfPBSk5rV-xSzpRV=s64",
      "userId": "09694216789696746072"
     },
     "user_tz": -330
    },
    "id": "6ydlvFx_7CGW"
   },
   "outputs": [],
   "source": [
    "import torch\r\n",
    "import jovian\r\n",
    "import torchvision\r\n",
    "import torch.nn as nn\r\n",
    "import pandas as pd\r\n",
    "import matplotlib.pyplot as plt\r\n",
    "import torch.nn.functional as F\r\n",
    "from torchvision.datasets.utils import download_url\r\n",
    "from torch.utils.data import DataLoader, TensorDataset, random_split"
   ]
  },
  {
   "cell_type": "code",
   "execution_count": 3,
   "metadata": {
    "executionInfo": {
     "elapsed": 3264,
     "status": "ok",
     "timestamp": 1609925118650,
     "user": {
      "displayName": "5072 Medha Mathur",
      "photoUrl": "https://lh3.googleusercontent.com/a-/AOh14GhU5rpc98_bHp-wBsi8gjk3rfPBSk5rV-xSzpRV=s64",
      "userId": "09694216789696746072"
     },
     "user_tz": -330
    },
    "id": "Q-plbNIZ7HQO"
   },
   "outputs": [],
   "source": [
    "import matplotlib\r\n",
    "import matplotlib.pyplot as plt\r\n",
    "import seaborn as sns"
   ]
  },
  {
   "cell_type": "code",
   "execution_count": 4,
   "metadata": {
    "executionInfo": {
     "elapsed": 3883,
     "status": "ok",
     "timestamp": 1609925123671,
     "user": {
      "displayName": "5072 Medha Mathur",
      "photoUrl": "https://lh3.googleusercontent.com/a-/AOh14GhU5rpc98_bHp-wBsi8gjk3rfPBSk5rV-xSzpRV=s64",
      "userId": "09694216789696746072"
     },
     "user_tz": -330
    },
    "id": "62XBb4fkb1jD"
   },
   "outputs": [],
   "source": [
    "import numpy as np\r\n",
    "import datetime as dt\r\n",
    "from datetime import datetime\r\n",
    "\r\n",
    "from sklearn.preprocessing import MinMaxScaler\r\n",
    "\r\n",
    "### Create the Stacked LSTM model\r\n",
    "from tensorflow.keras.models import Sequential\r\n",
    "from tensorflow.keras.layers import Dense\r\n",
    "from tensorflow.keras.layers import LSTM\r\n",
    "from keras.layers import Dropout"
   ]
  },
  {
   "cell_type": "code",
   "execution_count": 5,
   "metadata": {
    "executionInfo": {
     "elapsed": 1262,
     "status": "ok",
     "timestamp": 1609925126491,
     "user": {
      "displayName": "5072 Medha Mathur",
      "photoUrl": "https://lh3.googleusercontent.com/a-/AOh14GhU5rpc98_bHp-wBsi8gjk3rfPBSk5rV-xSzpRV=s64",
      "userId": "09694216789696746072"
     },
     "user_tz": -330
    },
    "id": "bSyL0k4X7KJv"
   },
   "outputs": [],
   "source": [
    "sns.set_style(\"darkgrid\")\r\n",
    "matplotlib.rcParams['font.size'] = 10\r\n",
    "matplotlib.rcParams['figure.figsize'] = (9, 5)\r\n",
    "matplotlib.rcParams['figure.facecolor'] = '#00000000'"
   ]
  },
  {
   "cell_type": "code",
   "execution_count": 6,
   "metadata": {
    "executionInfo": {
     "elapsed": 1004,
     "status": "ok",
     "timestamp": 1609925138521,
     "user": {
      "displayName": "5072 Medha Mathur",
      "photoUrl": "https://lh3.googleusercontent.com/a-/AOh14GhU5rpc98_bHp-wBsi8gjk3rfPBSk5rV-xSzpRV=s64",
      "userId": "09694216789696746072"
     },
     "user_tz": -330
    },
    "id": "PqbbkLB77NRA"
   },
   "outputs": [],
   "source": [
    "project_name='nifty-50-stock-price-prediction-rajeshexpo'"
   ]
  },
  {
   "cell_type": "markdown",
   "metadata": {
    "id": "glulRyvt6ZBp"
   },
   "source": [
    "Dataset taken from :\r\n",
    "\r\n",
    "https://in.finance.yahoo.com/quote/RAJESHEXPO.NS/history?period1=1262304000&period2=1609891200&interval=1d&filter=history&frequency=1d&includeAdjustedClose=true\r\n",
    "\r\n",
    "The .csv file has been imported in the from Google Sheets. "
   ]
  },
  {
   "cell_type": "code",
   "execution_count": 7,
   "metadata": {
    "executionInfo": {
     "elapsed": 3840,
     "status": "ok",
     "timestamp": 1609925169163,
     "user": {
      "displayName": "5072 Medha Mathur",
      "photoUrl": "https://lh3.googleusercontent.com/a-/AOh14GhU5rpc98_bHp-wBsi8gjk3rfPBSk5rV-xSzpRV=s64",
      "userId": "09694216789696746072"
     },
     "user_tz": -330
    },
    "id": "8ThAJWcGKnFi"
   },
   "outputs": [],
   "source": [
    "!pip install jovian --upgrade -q"
   ]
  },
  {
   "cell_type": "code",
   "execution_count": 8,
   "metadata": {
    "executionInfo": {
     "elapsed": 1261,
     "status": "ok",
     "timestamp": 1609925173194,
     "user": {
      "displayName": "5072 Medha Mathur",
      "photoUrl": "https://lh3.googleusercontent.com/a-/AOh14GhU5rpc98_bHp-wBsi8gjk3rfPBSk5rV-xSzpRV=s64",
      "userId": "09694216789696746072"
     },
     "user_tz": -330
    },
    "id": "qlcYbvMyKp9g"
   },
   "outputs": [],
   "source": [
    "import jovian"
   ]
  },
  {
   "cell_type": "code",
   "execution_count": 9,
   "metadata": {
    "colab": {
     "base_uri": "https://localhost:8080/",
     "height": 119
    },
    "executionInfo": {
     "elapsed": 10623,
     "status": "ok",
     "timestamp": 1609925185249,
     "user": {
      "displayName": "5072 Medha Mathur",
      "photoUrl": "https://lh3.googleusercontent.com/a-/AOh14GhU5rpc98_bHp-wBsi8gjk3rfPBSk5rV-xSzpRV=s64",
      "userId": "09694216789696746072"
     },
     "user_tz": -330
    },
    "id": "DncZZlQZWJoM",
    "outputId": "07846a6a-784f-488a-83b3-6a2d8b8b044b"
   },
   "outputs": [
    {
     "name": "stdout",
     "output_type": "stream",
     "text": [
      "[jovian] Detected Colab notebook...\u001b[0m\n",
      "[jovian] Please enter your API key ( from https://jovian.ai/ ):\u001b[0m\n",
      "API KEY: ··········\n",
      "[jovian] Uploading colab notebook to Jovian...\u001b[0m\n",
      "[jovian] Committed successfully! https://jovian.ai/medhamathur27/nifty-50-stock-price-prediction-rajeshexpo\u001b[0m\n"
     ]
    },
    {
     "data": {
      "application/vnd.google.colaboratory.intrinsic+json": {
       "type": "string"
      },
      "text/plain": [
       "'https://jovian.ai/medhamathur27/nifty-50-stock-price-prediction-rajeshexpo'"
      ]
     },
     "execution_count": 9,
     "metadata": {
      "tags": []
     },
     "output_type": "execute_result"
    }
   ],
   "source": [
    "jovian.commit(project=project_name, environment=None)"
   ]
  },
  {
   "cell_type": "code",
   "execution_count": 10,
   "metadata": {
    "colab": {
     "base_uri": "https://localhost:8080/"
    },
    "executionInfo": {
     "elapsed": 3986,
     "status": "ok",
     "timestamp": 1609925191314,
     "user": {
      "displayName": "5072 Medha Mathur",
      "photoUrl": "https://lh3.googleusercontent.com/a-/AOh14GhU5rpc98_bHp-wBsi8gjk3rfPBSk5rV-xSzpRV=s64",
      "userId": "09694216789696746072"
     },
     "user_tz": -330
    },
    "id": "V8GmGqFya92f",
    "outputId": "6d488fa3-a48f-4ab7-8796-7df86a4f9503"
   },
   "outputs": [
    {
     "name": "stdout",
     "output_type": "stream",
     "text": [
      "Collecting gspread\n",
      "  Downloading https://files.pythonhosted.org/packages/9c/ba/bc8de4f5077bd34bc873bdd67a89cb29c4f181abba8a836d2c6a0a142365/gspread-3.6.0-py3-none-any.whl\n",
      "Requirement already satisfied, skipping upgrade: google-auth>=1.12.0 in /usr/local/lib/python3.6/dist-packages (from gspread) (1.17.2)\n",
      "Requirement already satisfied, skipping upgrade: requests>=2.2.1 in /usr/local/lib/python3.6/dist-packages (from gspread) (2.23.0)\n",
      "Requirement already satisfied, skipping upgrade: google-auth-oauthlib>=0.4.1 in /usr/local/lib/python3.6/dist-packages (from gspread) (0.4.2)\n",
      "Requirement already satisfied, skipping upgrade: setuptools>=40.3.0 in /usr/local/lib/python3.6/dist-packages (from google-auth>=1.12.0->gspread) (51.0.0)\n",
      "Requirement already satisfied, skipping upgrade: six>=1.9.0 in /usr/local/lib/python3.6/dist-packages (from google-auth>=1.12.0->gspread) (1.15.0)\n",
      "Requirement already satisfied, skipping upgrade: rsa<5,>=3.1.4; python_version >= \"3\" in /usr/local/lib/python3.6/dist-packages (from google-auth>=1.12.0->gspread) (4.6)\n",
      "Requirement already satisfied, skipping upgrade: cachetools<5.0,>=2.0.0 in /usr/local/lib/python3.6/dist-packages (from google-auth>=1.12.0->gspread) (4.2.0)\n",
      "Requirement already satisfied, skipping upgrade: pyasn1-modules>=0.2.1 in /usr/local/lib/python3.6/dist-packages (from google-auth>=1.12.0->gspread) (0.2.8)\n",
      "Requirement already satisfied, skipping upgrade: certifi>=2017.4.17 in /usr/local/lib/python3.6/dist-packages (from requests>=2.2.1->gspread) (2020.12.5)\n",
      "Requirement already satisfied, skipping upgrade: urllib3!=1.25.0,!=1.25.1,<1.26,>=1.21.1 in /usr/local/lib/python3.6/dist-packages (from requests>=2.2.1->gspread) (1.24.3)\n",
      "Requirement already satisfied, skipping upgrade: idna<3,>=2.5 in /usr/local/lib/python3.6/dist-packages (from requests>=2.2.1->gspread) (2.10)\n",
      "Requirement already satisfied, skipping upgrade: chardet<4,>=3.0.2 in /usr/local/lib/python3.6/dist-packages (from requests>=2.2.1->gspread) (3.0.4)\n",
      "Requirement already satisfied, skipping upgrade: requests-oauthlib>=0.7.0 in /usr/local/lib/python3.6/dist-packages (from google-auth-oauthlib>=0.4.1->gspread) (1.3.0)\n",
      "Requirement already satisfied, skipping upgrade: pyasn1>=0.1.3 in /usr/local/lib/python3.6/dist-packages (from rsa<5,>=3.1.4; python_version >= \"3\"->google-auth>=1.12.0->gspread) (0.4.8)\n",
      "Requirement already satisfied, skipping upgrade: oauthlib>=3.0.0 in /usr/local/lib/python3.6/dist-packages (from requests-oauthlib>=0.7.0->google-auth-oauthlib>=0.4.1->gspread) (3.1.0)\n",
      "Installing collected packages: gspread\n",
      "  Found existing installation: gspread 3.0.1\n",
      "    Uninstalling gspread-3.0.1:\n",
      "      Successfully uninstalled gspread-3.0.1\n",
      "Successfully installed gspread-3.6.0\n"
     ]
    }
   ],
   "source": [
    "!pip install --upgrade gspread"
   ]
  },
  {
   "cell_type": "code",
   "execution_count": 11,
   "metadata": {
    "executionInfo": {
     "elapsed": 18592,
     "status": "ok",
     "timestamp": 1609925212654,
     "user": {
      "displayName": "5072 Medha Mathur",
      "photoUrl": "https://lh3.googleusercontent.com/a-/AOh14GhU5rpc98_bHp-wBsi8gjk3rfPBSk5rV-xSzpRV=s64",
      "userId": "09694216789696746072"
     },
     "user_tz": -330
    },
    "id": "NuPJP7R1bEqx"
   },
   "outputs": [],
   "source": [
    "from google.colab import auth\r\n",
    "auth.authenticate_user()\r\n",
    "\r\n",
    "import gspread\r\n",
    "from oauth2client.client import GoogleCredentials\r\n",
    "\r\n",
    "gc = gspread.authorize(GoogleCredentials.get_application_default())"
   ]
  },
  {
   "cell_type": "code",
   "execution_count": 12,
   "metadata": {
    "colab": {
     "base_uri": "https://localhost:8080/",
     "height": 195
    },
    "executionInfo": {
     "elapsed": 2117,
     "status": "ok",
     "timestamp": 1609925224579,
     "user": {
      "displayName": "5072 Medha Mathur",
      "photoUrl": "https://lh3.googleusercontent.com/a-/AOh14GhU5rpc98_bHp-wBsi8gjk3rfPBSk5rV-xSzpRV=s64",
      "userId": "09694216789696746072"
     },
     "user_tz": -330
    },
    "id": "hXravRrbbhO0",
    "outputId": "73e42b53-4049-411c-9bdc-64bf438da528"
   },
   "outputs": [
    {
     "data": {
      "text/html": [
       "<div>\n",
       "<style scoped>\n",
       "    .dataframe tbody tr th:only-of-type {\n",
       "        vertical-align: middle;\n",
       "    }\n",
       "\n",
       "    .dataframe tbody tr th {\n",
       "        vertical-align: top;\n",
       "    }\n",
       "\n",
       "    .dataframe thead th {\n",
       "        text-align: right;\n",
       "    }\n",
       "</style>\n",
       "<table border=\"1\" class=\"dataframe\">\n",
       "  <thead>\n",
       "    <tr style=\"text-align: right;\">\n",
       "      <th></th>\n",
       "      <th>Date</th>\n",
       "      <th>Open</th>\n",
       "      <th>High</th>\n",
       "      <th>Low</th>\n",
       "      <th>Close</th>\n",
       "      <th>Adj Close</th>\n",
       "      <th>Volume</th>\n",
       "    </tr>\n",
       "  </thead>\n",
       "  <tbody>\n",
       "    <tr>\n",
       "      <th>0</th>\n",
       "      <td>2010-01-04</td>\n",
       "      <td>90.5</td>\n",
       "      <td>90.5</td>\n",
       "      <td>89</td>\n",
       "      <td>89.5</td>\n",
       "      <td>85.362877</td>\n",
       "      <td>909882</td>\n",
       "    </tr>\n",
       "    <tr>\n",
       "      <th>1</th>\n",
       "      <td>2010-01-05</td>\n",
       "      <td>90.5</td>\n",
       "      <td>93.099998</td>\n",
       "      <td>89.900002</td>\n",
       "      <td>92.400002</td>\n",
       "      <td>88.128822</td>\n",
       "      <td>1127613</td>\n",
       "    </tr>\n",
       "    <tr>\n",
       "      <th>2</th>\n",
       "      <td>2010-01-06</td>\n",
       "      <td>92.900002</td>\n",
       "      <td>96.400002</td>\n",
       "      <td>92.599998</td>\n",
       "      <td>93.349998</td>\n",
       "      <td>89.034927</td>\n",
       "      <td>1220917</td>\n",
       "    </tr>\n",
       "    <tr>\n",
       "      <th>3</th>\n",
       "      <td>2010-01-07</td>\n",
       "      <td>94.599998</td>\n",
       "      <td>97.050003</td>\n",
       "      <td>91.900002</td>\n",
       "      <td>94</td>\n",
       "      <td>89.654877</td>\n",
       "      <td>1410889</td>\n",
       "    </tr>\n",
       "    <tr>\n",
       "      <th>4</th>\n",
       "      <td>2010-01-08</td>\n",
       "      <td>94.199997</td>\n",
       "      <td>98</td>\n",
       "      <td>92.400002</td>\n",
       "      <td>92.800003</td>\n",
       "      <td>88.510338</td>\n",
       "      <td>1789177</td>\n",
       "    </tr>\n",
       "  </tbody>\n",
       "</table>\n",
       "</div>"
      ],
      "text/plain": [
       "         Date       Open       High        Low      Close  Adj Close   Volume\n",
       "0  2010-01-04       90.5       90.5         89       89.5  85.362877   909882\n",
       "1  2010-01-05       90.5  93.099998  89.900002  92.400002  88.128822  1127613\n",
       "2  2010-01-06  92.900002  96.400002  92.599998  93.349998  89.034927  1220917\n",
       "3  2010-01-07  94.599998  97.050003  91.900002         94  89.654877  1410889\n",
       "4  2010-01-08  94.199997         98  92.400002  92.800003  88.510338  1789177"
      ]
     },
     "execution_count": 12,
     "metadata": {
      "tags": []
     },
     "output_type": "execute_result"
    }
   ],
   "source": [
    "worksheet = gc.open('RAJESHEXPO.csv').sheet1\r\n",
    "rows = worksheet.get_all_values()\r\n",
    "dataset_raw = pd.DataFrame(rows[1:],columns=rows[0])\r\n",
    "dataset_raw.dropna()\r\n",
    "dataset_raw.head()"
   ]
  },
  {
   "cell_type": "code",
   "execution_count": 13,
   "metadata": {
    "colab": {
     "base_uri": "https://localhost:8080/",
     "height": 195
    },
    "executionInfo": {
     "elapsed": 1203,
     "status": "ok",
     "timestamp": 1609925234825,
     "user": {
      "displayName": "5072 Medha Mathur",
      "photoUrl": "https://lh3.googleusercontent.com/a-/AOh14GhU5rpc98_bHp-wBsi8gjk3rfPBSk5rV-xSzpRV=s64",
      "userId": "09694216789696746072"
     },
     "user_tz": -330
    },
    "id": "Ar3quO35csu5",
    "outputId": "e5f477ca-4b8f-4745-838d-0f2ed9bd5684"
   },
   "outputs": [
    {
     "data": {
      "text/html": [
       "<div>\n",
       "<style scoped>\n",
       "    .dataframe tbody tr th:only-of-type {\n",
       "        vertical-align: middle;\n",
       "    }\n",
       "\n",
       "    .dataframe tbody tr th {\n",
       "        vertical-align: top;\n",
       "    }\n",
       "\n",
       "    .dataframe thead th {\n",
       "        text-align: right;\n",
       "    }\n",
       "</style>\n",
       "<table border=\"1\" class=\"dataframe\">\n",
       "  <thead>\n",
       "    <tr style=\"text-align: right;\">\n",
       "      <th></th>\n",
       "      <th>Date</th>\n",
       "      <th>Open</th>\n",
       "      <th>High</th>\n",
       "      <th>Low</th>\n",
       "      <th>Close</th>\n",
       "      <th>Adj Close</th>\n",
       "      <th>Volume</th>\n",
       "    </tr>\n",
       "  </thead>\n",
       "  <tbody>\n",
       "    <tr>\n",
       "      <th>2718</th>\n",
       "      <td>2020-12-30</td>\n",
       "      <td>492.899994</td>\n",
       "      <td>495.049988</td>\n",
       "      <td>481.299988</td>\n",
       "      <td>486.799988</td>\n",
       "      <td>486.799988</td>\n",
       "      <td>107848</td>\n",
       "    </tr>\n",
       "    <tr>\n",
       "      <th>2719</th>\n",
       "      <td>2020-12-31</td>\n",
       "      <td>499.649994</td>\n",
       "      <td>505</td>\n",
       "      <td>484</td>\n",
       "      <td>490.549988</td>\n",
       "      <td>490.549988</td>\n",
       "      <td>452244</td>\n",
       "    </tr>\n",
       "    <tr>\n",
       "      <th>2720</th>\n",
       "      <td>2021-01-01</td>\n",
       "      <td>492.799988</td>\n",
       "      <td>497</td>\n",
       "      <td>480.799988</td>\n",
       "      <td>485.049988</td>\n",
       "      <td>485.049988</td>\n",
       "      <td>211225</td>\n",
       "    </tr>\n",
       "    <tr>\n",
       "      <th>2721</th>\n",
       "      <td>2021-01-04</td>\n",
       "      <td>485.600006</td>\n",
       "      <td>487.950012</td>\n",
       "      <td>481.25</td>\n",
       "      <td>484</td>\n",
       "      <td>484</td>\n",
       "      <td>203133</td>\n",
       "    </tr>\n",
       "    <tr>\n",
       "      <th>2722</th>\n",
       "      <td>2021-01-05</td>\n",
       "      <td>481</td>\n",
       "      <td>487.700012</td>\n",
       "      <td>478</td>\n",
       "      <td>484.100006</td>\n",
       "      <td>484.100006</td>\n",
       "      <td>215378</td>\n",
       "    </tr>\n",
       "  </tbody>\n",
       "</table>\n",
       "</div>"
      ],
      "text/plain": [
       "            Date        Open        High  ...       Close   Adj Close  Volume\n",
       "2718  2020-12-30  492.899994  495.049988  ...  486.799988  486.799988  107848\n",
       "2719  2020-12-31  499.649994         505  ...  490.549988  490.549988  452244\n",
       "2720  2021-01-01  492.799988         497  ...  485.049988  485.049988  211225\n",
       "2721  2021-01-04  485.600006  487.950012  ...         484         484  203133\n",
       "2722  2021-01-05         481  487.700012  ...  484.100006  484.100006  215378\n",
       "\n",
       "[5 rows x 7 columns]"
      ]
     },
     "execution_count": 13,
     "metadata": {
      "tags": []
     },
     "output_type": "execute_result"
    }
   ],
   "source": [
    "dataset_raw.tail()"
   ]
  },
  {
   "cell_type": "code",
   "execution_count": 14,
   "metadata": {
    "colab": {
     "base_uri": "https://localhost:8080/",
     "height": 521
    },
    "executionInfo": {
     "elapsed": 1338,
     "status": "ok",
     "timestamp": 1609925240049,
     "user": {
      "displayName": "5072 Medha Mathur",
      "photoUrl": "https://lh3.googleusercontent.com/a-/AOh14GhU5rpc98_bHp-wBsi8gjk3rfPBSk5rV-xSzpRV=s64",
      "userId": "09694216789696746072"
     },
     "user_tz": -330
    },
    "id": "lbwDjxyEWaDQ",
    "outputId": "4fb1891b-6d64-4729-99e8-13fa77f3b6a9"
   },
   "outputs": [
    {
     "data": {
      "image/png": "[encoded data removed]",
      "text/plain": [
       "<Figure size 1152x576 with 1 Axes>"
      ]
     },
     "metadata": {
      "needs_background": "light",
      "tags": []
     },
     "output_type": "display_data"
    }
   ],
   "source": [
    "#Visualizing the closing price history for the training dataset\r\n",
    "close_price = pd.to_numeric(dataset_raw['Close'], errors='coerce')\r\n",
    "plt.figure(figsize=(16,8))\r\n",
    "plt.title('Close Price History')\r\n",
    "plt.plot(close_price)\r\n",
    "plt.xlabel('Date',fontsize=18)\r\n",
    "plt.ylabel('Close Price INR',fontsize=18)\r\n",
    "plt.show()\r\n"
   ]
  },
  {
   "cell_type": "code",
   "execution_count": 15,
   "metadata": {
    "executionInfo": {
     "elapsed": 1281,
     "status": "ok",
     "timestamp": 1609925246034,
     "user": {
      "displayName": "5072 Medha Mathur",
      "photoUrl": "https://lh3.googleusercontent.com/a-/AOh14GhU5rpc98_bHp-wBsi8gjk3rfPBSk5rV-xSzpRV=s64",
      "userId": "09694216789696746072"
     },
     "user_tz": -330
    },
    "id": "HXz9Xs41YTJM"
   },
   "outputs": [],
   "source": [
    "features = [\"Date\", \"Close\"]\r\n",
    "dataset = dataset_raw[features]"
   ]
  },
  {
   "cell_type": "code",
   "execution_count": 16,
   "metadata": {
    "colab": {
     "base_uri": "https://localhost:8080/"
    },
    "executionInfo": {
     "elapsed": 1043,
     "status": "ok",
     "timestamp": 1609925248409,
     "user": {
      "displayName": "5072 Medha Mathur",
      "photoUrl": "https://lh3.googleusercontent.com/a-/AOh14GhU5rpc98_bHp-wBsi8gjk3rfPBSk5rV-xSzpRV=s64",
      "userId": "09694216789696746072"
     },
     "user_tz": -330
    },
    "id": "s3ZCf6lfYi1R",
    "outputId": "41efb866-fa14-431d-b835-3454a8b4f284"
   },
   "outputs": [
    {
     "name": "stderr",
     "output_type": "stream",
     "text": [
      "/usr/local/lib/python3.6/dist-packages/pandas/core/frame.py:4174: SettingWithCopyWarning: \n",
      "A value is trying to be set on a copy of a slice from a DataFrame\n",
      "\n",
      "See the caveats in the documentation: https://pandas.pydata.org/pandas-docs/stable/user_guide/indexing.html#returning-a-view-versus-a-copy\n",
      "  errors=errors,\n"
     ]
    }
   ],
   "source": [
    "#setting index\r\n",
    "dataset.index = dataset.Date\r\n",
    "dataset.drop('Date', axis=1, inplace=True)"
   ]
  },
  {
   "cell_type": "code",
   "execution_count": 17,
   "metadata": {
    "colab": {
     "base_uri": "https://localhost:8080/",
     "height": 225
    },
    "executionInfo": {
     "elapsed": 741,
     "status": "ok",
     "timestamp": 1609925252016,
     "user": {
      "displayName": "5072 Medha Mathur",
      "photoUrl": "https://lh3.googleusercontent.com/a-/AOh14GhU5rpc98_bHp-wBsi8gjk3rfPBSk5rV-xSzpRV=s64",
      "userId": "09694216789696746072"
     },
     "user_tz": -330
    },
    "id": "321BHQyDYs1H",
    "outputId": "823a0530-e462-45f2-dec9-f3b98a2ba8f2"
   },
   "outputs": [
    {
     "data": {
      "text/html": [
       "<div>\n",
       "<style scoped>\n",
       "    .dataframe tbody tr th:only-of-type {\n",
       "        vertical-align: middle;\n",
       "    }\n",
       "\n",
       "    .dataframe tbody tr th {\n",
       "        vertical-align: top;\n",
       "    }\n",
       "\n",
       "    .dataframe thead th {\n",
       "        text-align: right;\n",
       "    }\n",
       "</style>\n",
       "<table border=\"1\" class=\"dataframe\">\n",
       "  <thead>\n",
       "    <tr style=\"text-align: right;\">\n",
       "      <th></th>\n",
       "      <th>Close</th>\n",
       "    </tr>\n",
       "    <tr>\n",
       "      <th>Date</th>\n",
       "      <th></th>\n",
       "    </tr>\n",
       "  </thead>\n",
       "  <tbody>\n",
       "    <tr>\n",
       "      <th>2010-01-04</th>\n",
       "      <td>89.5</td>\n",
       "    </tr>\n",
       "    <tr>\n",
       "      <th>2010-01-05</th>\n",
       "      <td>92.400002</td>\n",
       "    </tr>\n",
       "    <tr>\n",
       "      <th>2010-01-06</th>\n",
       "      <td>93.349998</td>\n",
       "    </tr>\n",
       "    <tr>\n",
       "      <th>2010-01-07</th>\n",
       "      <td>94</td>\n",
       "    </tr>\n",
       "    <tr>\n",
       "      <th>2010-01-08</th>\n",
       "      <td>92.800003</td>\n",
       "    </tr>\n",
       "  </tbody>\n",
       "</table>\n",
       "</div>"
      ],
      "text/plain": [
       "                Close\n",
       "Date                 \n",
       "2010-01-04       89.5\n",
       "2010-01-05  92.400002\n",
       "2010-01-06  93.349998\n",
       "2010-01-07         94\n",
       "2010-01-08  92.800003"
      ]
     },
     "execution_count": 17,
     "metadata": {
      "tags": []
     },
     "output_type": "execute_result"
    }
   ],
   "source": [
    "dataset.head()"
   ]
  },
  {
   "cell_type": "code",
   "execution_count": 18,
   "metadata": {
    "colab": {
     "base_uri": "https://localhost:8080/"
    },
    "executionInfo": {
     "elapsed": 1071,
     "status": "ok",
     "timestamp": 1609925256174,
     "user": {
      "displayName": "5072 Medha Mathur",
      "photoUrl": "https://lh3.googleusercontent.com/a-/AOh14GhU5rpc98_bHp-wBsi8gjk3rfPBSk5rV-xSzpRV=s64",
      "userId": "09694216789696746072"
     },
     "user_tz": -330
    },
    "id": "tw9-tdRB39nL",
    "outputId": "d195a429-2628-4327-a044-a71324c21ae3"
   },
   "outputs": [
    {
     "name": "stderr",
     "output_type": "stream",
     "text": [
      "/usr/local/lib/python3.6/dist-packages/ipykernel_launcher.py:1: SettingWithCopyWarning: \n",
      "A value is trying to be set on a copy of a slice from a DataFrame.\n",
      "Try using .loc[row_indexer,col_indexer] = value instead\n",
      "\n",
      "See the caveats in the documentation: https://pandas.pydata.org/pandas-docs/stable/user_guide/indexing.html#returning-a-view-versus-a-copy\n",
      "  \"\"\"Entry point for launching an IPython kernel.\n"
     ]
    }
   ],
   "source": [
    "dataset['Close'] = close_price.values"
   ]
  },
  {
   "cell_type": "code",
   "execution_count": 20,
   "metadata": {
    "executionInfo": {
     "elapsed": 980,
     "status": "ok",
     "timestamp": 1609925261860,
     "user": {
      "displayName": "5072 Medha Mathur",
      "photoUrl": "https://lh3.googleusercontent.com/a-/AOh14GhU5rpc98_bHp-wBsi8gjk3rfPBSk5rV-xSzpRV=s64",
      "userId": "09694216789696746072"
     },
     "user_tz": -330
    },
    "id": "8A5vvOi-8Egx"
   },
   "outputs": [],
   "source": [
    "dataset['Close'] = dataset['Close'].fillna(0)\r\n",
    "dataset=dataset[dataset['Close'] != 0]"
   ]
  },
  {
   "cell_type": "code",
   "execution_count": 21,
   "metadata": {
    "colab": {
     "base_uri": "https://localhost:8080/"
    },
    "executionInfo": {
     "elapsed": 950,
     "status": "ok",
     "timestamp": 1609925265081,
     "user": {
      "displayName": "5072 Medha Mathur",
      "photoUrl": "https://lh3.googleusercontent.com/a-/AOh14GhU5rpc98_bHp-wBsi8gjk3rfPBSk5rV-xSzpRV=s64",
      "userId": "09694216789696746072"
     },
     "user_tz": -330
    },
    "id": "0qNsIIr1ZNrt",
    "outputId": "8e3cf0d7-5731-476b-ce37-70c0bc9d6291"
   },
   "outputs": [
    {
     "data": {
      "text/plain": [
       "(2714, 1)"
      ]
     },
     "execution_count": 21,
     "metadata": {
      "tags": []
     },
     "output_type": "execute_result"
    }
   ],
   "source": [
    "dataset.shape"
   ]
  },
  {
   "cell_type": "markdown",
   "metadata": {
    "id": "9VrI8-jKZiS-"
   },
   "source": [
    "#Preparing the dataset for Training"
   ]
  },
  {
   "cell_type": "code",
   "execution_count": 22,
   "metadata": {
    "executionInfo": {
     "elapsed": 1100,
     "status": "ok",
     "timestamp": 1609925272911,
     "user": {
      "displayName": "5072 Medha Mathur",
      "photoUrl": "https://lh3.googleusercontent.com/a-/AOh14GhU5rpc98_bHp-wBsi8gjk3rfPBSk5rV-xSzpRV=s64",
      "userId": "09694216789696746072"
     },
     "user_tz": -330
    },
    "id": "bWOOK_g8Zy4x"
   },
   "outputs": [],
   "source": [
    "dataset_final = dataset.values\r\n",
    "train_ds = dataset_final[0:1714,:]\r\n",
    "valid_ds = dataset_final[1714:,:]"
   ]
  },
  {
   "cell_type": "code",
   "execution_count": 23,
   "metadata": {
    "executionInfo": {
     "elapsed": 981,
     "status": "ok",
     "timestamp": 1609925276311,
     "user": {
      "displayName": "5072 Medha Mathur",
      "photoUrl": "https://lh3.googleusercontent.com/a-/AOh14GhU5rpc98_bHp-wBsi8gjk3rfPBSk5rV-xSzpRV=s64",
      "userId": "09694216789696746072"
     },
     "user_tz": -330
    },
    "id": "uEbBDzQDbr6B"
   },
   "outputs": [],
   "source": [
    "scaler = MinMaxScaler(feature_range=(0, 1))\r\n",
    "scaled_data = scaler.fit_transform(dataset_final)"
   ]
  },
  {
   "cell_type": "markdown",
   "metadata": {
    "id": "Y6POETLdcK4f"
   },
   "source": [
    "Creating Sliding Window of 90 days"
   ]
  },
  {
   "cell_type": "code",
   "execution_count": 24,
   "metadata": {
    "executionInfo": {
     "elapsed": 1175,
     "status": "ok",
     "timestamp": 1609925279688,
     "user": {
      "displayName": "5072 Medha Mathur",
      "photoUrl": "https://lh3.googleusercontent.com/a-/AOh14GhU5rpc98_bHp-wBsi8gjk3rfPBSk5rV-xSzpRV=s64",
      "userId": "09694216789696746072"
     },
     "user_tz": -330
    },
    "id": "O8qaheg6cNGh"
   },
   "outputs": [],
   "source": [
    "x_train, y_train = [], []\r\n",
    "for i in range(90,len(train_ds)):\r\n",
    "    x_train.append(scaled_data[i-90:i,0])\r\n",
    "    y_train.append(scaled_data[i,0])\r\n",
    "x_train, y_train = np.array(x_train), np.array(y_train)"
   ]
  },
  {
   "cell_type": "code",
   "execution_count": 25,
   "metadata": {
    "executionInfo": {
     "elapsed": 942,
     "status": "ok",
     "timestamp": 1609925282026,
     "user": {
      "displayName": "5072 Medha Mathur",
      "photoUrl": "https://lh3.googleusercontent.com/a-/AOh14GhU5rpc98_bHp-wBsi8gjk3rfPBSk5rV-xSzpRV=s64",
      "userId": "09694216789696746072"
     },
     "user_tz": -330
    },
    "id": "8_Zdj5JicYPj"
   },
   "outputs": [],
   "source": [
    "x_train = np.reshape(x_train, (x_train.shape[0],x_train.shape[1],1))"
   ]
  },
  {
   "cell_type": "code",
   "execution_count": 26,
   "metadata": {
    "executionInfo": {
     "elapsed": 1001,
     "status": "ok",
     "timestamp": 1609925285187,
     "user": {
      "displayName": "5072 Medha Mathur",
      "photoUrl": "https://lh3.googleusercontent.com/a-/AOh14GhU5rpc98_bHp-wBsi8gjk3rfPBSk5rV-xSzpRV=s64",
      "userId": "09694216789696746072"
     },
     "user_tz": -330
    },
    "id": "2LQTysQWdK1l"
   },
   "outputs": [],
   "source": [
    "assert not np.any(np.isnan(x_train))"
   ]
  },
  {
   "cell_type": "markdown",
   "metadata": {
    "id": "DqxVrqORcdNF"
   },
   "source": [
    "Model Building"
   ]
  },
  {
   "cell_type": "code",
   "execution_count": 140,
   "metadata": {
    "executionInfo": {
     "elapsed": 1020,
     "status": "ok",
     "timestamp": 1609935413013,
     "user": {
      "displayName": "5072 Medha Mathur",
      "photoUrl": "https://lh3.googleusercontent.com/a-/AOh14GhU5rpc98_bHp-wBsi8gjk3rfPBSk5rV-xSzpRV=s64",
      "userId": "09694216789696746072"
     },
     "user_tz": -330
    },
    "id": "jgMn_eEVce-8"
   },
   "outputs": [],
   "source": [
    "# create and fit the LSTM network\r\n",
    "model = Sequential()\r\n",
    "model.add(LSTM(units=50, return_sequences=True, input_shape=(x_train.shape[1],1),activation=\"relu\"))\r\n",
    "model.add(Dropout(rate = 0.0001))\r\n",
    "\r\n",
    "model.add(LSTM(units=50, return_sequences = True,activation=\"relu\"))\r\n",
    "model.add(Dropout(rate = 0.0001))\r\n",
    "\r\n",
    "model.add(LSTM(units=50, return_sequences = True,activation=\"relu\"))\r\n",
    "model.add(Dropout(rate = 0.0001))\r\n",
    "\r\n",
    "model.add(LSTM(units=50, return_sequences = False,activation=\"relu\"))\r\n",
    "model.add(Dropout(rate = 0.0001))\r\n",
    "\r\n",
    "model.add(Dense(1))"
   ]
  },
  {
   "cell_type": "code",
   "execution_count": 141,
   "metadata": {
    "executionInfo": {
     "elapsed": 1004,
     "status": "ok",
     "timestamp": 1609935415166,
     "user": {
      "displayName": "5072 Medha Mathur",
      "photoUrl": "https://lh3.googleusercontent.com/a-/AOh14GhU5rpc98_bHp-wBsi8gjk3rfPBSk5rV-xSzpRV=s64",
      "userId": "09694216789696746072"
     },
     "user_tz": -330
    },
    "id": "xZya_uTZcjKa"
   },
   "outputs": [],
   "source": [
    "model.compile(loss='mean_squared_error', optimizer='adam')"
   ]
  },
  {
   "cell_type": "code",
   "execution_count": 142,
   "metadata": {
    "colab": {
     "base_uri": "https://localhost:8080/"
    },
    "executionInfo": {
     "elapsed": 145025,
     "status": "ok",
     "timestamp": 1609935560873,
     "user": {
      "displayName": "5072 Medha Mathur",
      "photoUrl": "https://lh3.googleusercontent.com/a-/AOh14GhU5rpc98_bHp-wBsi8gjk3rfPBSk5rV-xSzpRV=s64",
      "userId": "09694216789696746072"
     },
     "user_tz": -330
    },
    "id": "CmRW0hSAcmg8",
    "outputId": "5b0f9f85-1647-4e5e-ecaf-c3cde080dff1"
   },
   "outputs": [
    {
     "name": "stdout",
     "output_type": "stream",
     "text": [
      "Epoch 1/25\n",
      "26/26 [==============================] - 10s 216ms/step - loss: 0.0801\n",
      "Epoch 2/25\n",
      "26/26 [==============================] - 7s 252ms/step - loss: 0.0106\n",
      "Epoch 3/25\n",
      "26/26 [==============================] - 6s 218ms/step - loss: 0.0024\n",
      "Epoch 4/25\n",
      "26/26 [==============================] - 6s 216ms/step - loss: 0.0016\n",
      "Epoch 5/25\n",
      "26/26 [==============================] - 5s 209ms/step - loss: 0.0015\n",
      "Epoch 6/25\n",
      "26/26 [==============================] - 5s 211ms/step - loss: 0.0012\n",
      "Epoch 7/25\n",
      "26/26 [==============================] - 5s 210ms/step - loss: 0.0015\n",
      "Epoch 8/25\n",
      "26/26 [==============================] - 5s 211ms/step - loss: 0.0013\n",
      "Epoch 9/25\n",
      "26/26 [==============================] - 6s 212ms/step - loss: 0.0012\n",
      "Epoch 10/25\n",
      "26/26 [==============================] - 5s 210ms/step - loss: 0.0013\n",
      "Epoch 11/25\n",
      "26/26 [==============================] - 6s 211ms/step - loss: 0.0010\n",
      "Epoch 12/25\n",
      "26/26 [==============================] - 6s 212ms/step - loss: 0.0012\n",
      "Epoch 13/25\n",
      "26/26 [==============================] - 6s 215ms/step - loss: 0.0010\n",
      "Epoch 14/25\n",
      "26/26 [==============================] - 6s 215ms/step - loss: 0.0011\n",
      "Epoch 15/25\n",
      "26/26 [==============================] - 6s 214ms/step - loss: 8.2768e-04\n",
      "Epoch 16/25\n",
      "26/26 [==============================] - 6s 212ms/step - loss: 9.8610e-04\n",
      "Epoch 17/25\n",
      "26/26 [==============================] - 6s 213ms/step - loss: 9.3719e-04\n",
      "Epoch 18/25\n",
      "26/26 [==============================] - 6s 213ms/step - loss: 9.1707e-04\n",
      "Epoch 19/25\n",
      "26/26 [==============================] - 6s 214ms/step - loss: 8.4108e-04\n",
      "Epoch 20/25\n",
      "26/26 [==============================] - 6s 217ms/step - loss: 7.6410e-04\n",
      "Epoch 21/25\n",
      "26/26 [==============================] - 6s 213ms/step - loss: 7.5724e-04\n",
      "Epoch 22/25\n",
      "26/26 [==============================] - 6s 216ms/step - loss: 8.3973e-04\n",
      "Epoch 23/25\n",
      "26/26 [==============================] - 6s 212ms/step - loss: 5.9297e-04\n",
      "Epoch 24/25\n",
      "26/26 [==============================] - 6s 214ms/step - loss: 6.4326e-04\n",
      "Epoch 25/25\n",
      "26/26 [==============================] - 6s 214ms/step - loss: 6.0282e-04\n"
     ]
    },
    {
     "data": {
      "text/plain": [
       "<tensorflow.python.keras.callbacks.History at 0x7fd91bf80c50>"
      ]
     },
     "execution_count": 142,
     "metadata": {
      "tags": []
     },
     "output_type": "execute_result"
    }
   ],
   "source": [
    "model.fit(x_train, y_train, epochs=25, batch_size=64)"
   ]
  },
  {
   "cell_type": "code",
   "execution_count": 143,
   "metadata": {
    "colab": {
     "base_uri": "https://localhost:8080/"
    },
    "executionInfo": {
     "elapsed": 141936,
     "status": "ok",
     "timestamp": 1609936895851,
     "user": {
      "displayName": "5072 Medha Mathur",
      "photoUrl": "https://lh3.googleusercontent.com/a-/AOh14GhU5rpc98_bHp-wBsi8gjk3rfPBSk5rV-xSzpRV=s64",
      "userId": "09694216789696746072"
     },
     "user_tz": -330
    },
    "id": "cql5KasCkEbn",
    "outputId": "1b7608a4-c94c-4d42-b235-2ed018619f8f"
   },
   "outputs": [
    {
     "name": "stdout",
     "output_type": "stream",
     "text": [
      "Epoch 1/25\n",
      "26/26 [==============================] - 6s 213ms/step - loss: 6.8460e-04\n",
      "Epoch 2/25\n",
      "26/26 [==============================] - 6s 213ms/step - loss: 6.3805e-04\n",
      "Epoch 3/25\n",
      "26/26 [==============================] - 6s 215ms/step - loss: 8.6183e-04\n",
      "Epoch 4/25\n",
      "26/26 [==============================] - 6s 215ms/step - loss: 6.5623e-04\n",
      "Epoch 5/25\n",
      "26/26 [==============================] - 6s 216ms/step - loss: 5.6658e-04\n",
      "Epoch 6/25\n",
      "26/26 [==============================] - 6s 215ms/step - loss: 6.3574e-04\n",
      "Epoch 7/25\n",
      "26/26 [==============================] - 6s 215ms/step - loss: 5.1557e-04\n",
      "Epoch 8/25\n",
      "26/26 [==============================] - 6s 214ms/step - loss: 5.1617e-04\n",
      "Epoch 9/25\n",
      "26/26 [==============================] - 6s 216ms/step - loss: 5.2868e-04\n",
      "Epoch 10/25\n",
      "26/26 [==============================] - 6s 217ms/step - loss: 4.9507e-04\n",
      "Epoch 11/25\n",
      "26/26 [==============================] - 6s 218ms/step - loss: 6.0849e-04\n",
      "Epoch 12/25\n",
      "26/26 [==============================] - 6s 216ms/step - loss: 4.8440e-04\n",
      "Epoch 13/25\n",
      "26/26 [==============================] - 6s 215ms/step - loss: 4.9777e-04\n",
      "Epoch 14/25\n",
      "26/26 [==============================] - 6s 215ms/step - loss: 4.4781e-04\n",
      "Epoch 15/25\n",
      "26/26 [==============================] - 6s 216ms/step - loss: 4.8472e-04\n",
      "Epoch 16/25\n",
      "26/26 [==============================] - 6s 216ms/step - loss: 4.5053e-04\n",
      "Epoch 17/25\n",
      "26/26 [==============================] - 6s 218ms/step - loss: 5.3659e-04\n",
      "Epoch 18/25\n",
      "26/26 [==============================] - 6s 217ms/step - loss: 4.2749e-04\n",
      "Epoch 19/25\n",
      "26/26 [==============================] - 6s 216ms/step - loss: 4.1531e-04\n",
      "Epoch 20/25\n",
      "26/26 [==============================] - 6s 217ms/step - loss: 4.3009e-04\n",
      "Epoch 21/25\n",
      "26/26 [==============================] - 6s 218ms/step - loss: 5.0543e-04\n",
      "Epoch 22/25\n",
      "26/26 [==============================] - 6s 217ms/step - loss: 6.7500e-04\n",
      "Epoch 23/25\n",
      "26/26 [==============================] - 6s 219ms/step - loss: 5.6183e-04\n",
      "Epoch 24/25\n",
      "26/26 [==============================] - 6s 218ms/step - loss: 4.0851e-04\n",
      "Epoch 25/25\n",
      "26/26 [==============================] - 6s 218ms/step - loss: 4.1152e-04\n"
     ]
    },
    {
     "data": {
      "text/plain": [
       "<tensorflow.python.keras.callbacks.History at 0x7fd91b6cc240>"
      ]
     },
     "execution_count": 143,
     "metadata": {
      "tags": []
     },
     "output_type": "execute_result"
    }
   ],
   "source": [
    "model.fit(x_train, y_train, epochs=25, batch_size=64)"
   ]
  },
  {
   "cell_type": "code",
   "execution_count": 144,
   "metadata": {
    "colab": {
     "base_uri": "https://localhost:8080/"
    },
    "executionInfo": {
     "elapsed": 143300,
     "status": "ok",
     "timestamp": 1609937044551,
     "user": {
      "displayName": "5072 Medha Mathur",
      "photoUrl": "https://lh3.googleusercontent.com/a-/AOh14GhU5rpc98_bHp-wBsi8gjk3rfPBSk5rV-xSzpRV=s64",
      "userId": "09694216789696746072"
     },
     "user_tz": -330
    },
    "id": "ygZWsY_-qoxb",
    "outputId": "0082e390-7430-4a1a-a2aa-1cb5ef73e896"
   },
   "outputs": [
    {
     "name": "stdout",
     "output_type": "stream",
     "text": [
      "Epoch 1/25\n",
      "26/26 [==============================] - 6s 216ms/step - loss: 3.6948e-04\n",
      "Epoch 2/25\n",
      "26/26 [==============================] - 6s 220ms/step - loss: 3.5669e-04\n",
      "Epoch 3/25\n",
      "26/26 [==============================] - 6s 216ms/step - loss: 4.0801e-04\n",
      "Epoch 4/25\n",
      "26/26 [==============================] - 6s 216ms/step - loss: 3.5102e-04\n",
      "Epoch 5/25\n",
      "26/26 [==============================] - 6s 215ms/step - loss: 3.4299e-04\n",
      "Epoch 6/25\n",
      "26/26 [==============================] - 6s 216ms/step - loss: 3.2547e-04\n",
      "Epoch 7/25\n",
      "26/26 [==============================] - 6s 216ms/step - loss: 3.2570e-04\n",
      "Epoch 8/25\n",
      "26/26 [==============================] - 6s 216ms/step - loss: 3.3160e-04\n",
      "Epoch 9/25\n",
      "26/26 [==============================] - 6s 218ms/step - loss: 4.4370e-04\n",
      "Epoch 10/25\n",
      "26/26 [==============================] - 6s 218ms/step - loss: 3.9167e-04\n",
      "Epoch 11/25\n",
      "26/26 [==============================] - 6s 219ms/step - loss: 3.1422e-04\n",
      "Epoch 12/25\n",
      "26/26 [==============================] - 6s 223ms/step - loss: 3.4890e-04\n",
      "Epoch 13/25\n",
      "26/26 [==============================] - 6s 224ms/step - loss: 3.0015e-04\n",
      "Epoch 14/25\n",
      "26/26 [==============================] - 6s 218ms/step - loss: 4.0402e-04\n",
      "Epoch 15/25\n",
      "26/26 [==============================] - 6s 218ms/step - loss: 2.8391e-04\n",
      "Epoch 16/25\n",
      "26/26 [==============================] - 6s 219ms/step - loss: 3.1940e-04\n",
      "Epoch 17/25\n",
      "26/26 [==============================] - 6s 219ms/step - loss: 2.9268e-04\n",
      "Epoch 18/25\n",
      "26/26 [==============================] - 6s 219ms/step - loss: 3.0364e-04\n",
      "Epoch 19/25\n",
      "26/26 [==============================] - 6s 217ms/step - loss: 3.4226e-04\n",
      "Epoch 20/25\n",
      "26/26 [==============================] - 6s 218ms/step - loss: 3.2142e-04\n",
      "Epoch 21/25\n",
      "26/26 [==============================] - 6s 218ms/step - loss: 3.5500e-04\n",
      "Epoch 22/25\n",
      "26/26 [==============================] - 6s 220ms/step - loss: 4.3619e-04\n",
      "Epoch 23/25\n",
      "26/26 [==============================] - 6s 219ms/step - loss: 2.4863e-04\n",
      "Epoch 24/25\n",
      "26/26 [==============================] - 6s 219ms/step - loss: 2.6706e-04\n",
      "Epoch 25/25\n",
      "26/26 [==============================] - 6s 223ms/step - loss: 3.8311e-04\n"
     ]
    },
    {
     "data": {
      "text/plain": [
       "<tensorflow.python.keras.callbacks.History at 0x7fd91ae6c198>"
      ]
     },
     "execution_count": 144,
     "metadata": {
      "tags": []
     },
     "output_type": "execute_result"
    }
   ],
   "source": [
    "model.fit(x_train, y_train, epochs=25, batch_size=64)"
   ]
  },
  {
   "cell_type": "code",
   "execution_count": 155,
   "metadata": {
    "colab": {
     "base_uri": "https://localhost:8080/"
    },
    "executionInfo": {
     "elapsed": 156874,
     "status": "ok",
     "timestamp": 1609937344451,
     "user": {
      "displayName": "5072 Medha Mathur",
      "photoUrl": "https://lh3.googleusercontent.com/a-/AOh14GhU5rpc98_bHp-wBsi8gjk3rfPBSk5rV-xSzpRV=s64",
      "userId": "09694216789696746072"
     },
     "user_tz": -330
    },
    "id": "KPe5wMX5MlF7",
    "outputId": "7ad78672-04a7-42a6-acbf-d2991f302f0f"
   },
   "outputs": [
    {
     "name": "stdout",
     "output_type": "stream",
     "text": [
      "Epoch 1/25\n",
      "30/30 [==============================] - 6s 207ms/step - loss: 3.3363e-04\n",
      "Epoch 2/25\n",
      "30/30 [==============================] - 6s 206ms/step - loss: 2.8967e-04\n",
      "Epoch 3/25\n",
      "30/30 [==============================] - 6s 205ms/step - loss: 2.3163e-04\n",
      "Epoch 4/25\n",
      "30/30 [==============================] - 6s 210ms/step - loss: 2.2926e-04\n",
      "Epoch 5/25\n",
      "30/30 [==============================] - 6s 208ms/step - loss: 2.7336e-04\n",
      "Epoch 6/25\n",
      "30/30 [==============================] - 6s 210ms/step - loss: 2.8118e-04\n",
      "Epoch 7/25\n",
      "30/30 [==============================] - 6s 205ms/step - loss: 3.0113e-04\n",
      "Epoch 8/25\n",
      "30/30 [==============================] - 6s 205ms/step - loss: 2.7133e-04\n",
      "Epoch 9/25\n",
      "30/30 [==============================] - 6s 208ms/step - loss: 2.5184e-04\n",
      "Epoch 10/25\n",
      "30/30 [==============================] - 6s 205ms/step - loss: 2.4410e-04\n",
      "Epoch 11/25\n",
      "30/30 [==============================] - 6s 207ms/step - loss: 2.1568e-04\n",
      "Epoch 12/25\n",
      "30/30 [==============================] - 6s 206ms/step - loss: 2.3562e-04\n",
      "Epoch 13/25\n",
      "30/30 [==============================] - 6s 207ms/step - loss: 2.0909e-04\n",
      "Epoch 14/25\n",
      "30/30 [==============================] - 6s 207ms/step - loss: 2.1718e-04\n",
      "Epoch 15/25\n",
      "30/30 [==============================] - 7s 219ms/step - loss: 2.5413e-04\n",
      "Epoch 16/25\n",
      "30/30 [==============================] - 6s 207ms/step - loss: 2.3590e-04\n",
      "Epoch 17/25\n",
      "30/30 [==============================] - 6s 206ms/step - loss: 2.7668e-04\n",
      "Epoch 18/25\n",
      "30/30 [==============================] - 6s 207ms/step - loss: 2.6435e-04\n",
      "Epoch 19/25\n",
      "30/30 [==============================] - 6s 204ms/step - loss: 2.0311e-04\n",
      "Epoch 20/25\n",
      "30/30 [==============================] - 6s 205ms/step - loss: 1.7542e-04\n",
      "Epoch 21/25\n",
      "30/30 [==============================] - 6s 209ms/step - loss: 1.6914e-04\n",
      "Epoch 22/25\n",
      "30/30 [==============================] - 6s 211ms/step - loss: 2.0045e-04\n",
      "Epoch 23/25\n",
      "30/30 [==============================] - 6s 210ms/step - loss: 2.4290e-04\n",
      "Epoch 24/25\n",
      "30/30 [==============================] - 6s 209ms/step - loss: 2.6618e-04\n",
      "Epoch 25/25\n",
      "30/30 [==============================] - 6s 208ms/step - loss: 1.8398e-04\n"
     ]
    },
    {
     "data": {
      "text/plain": [
       "<tensorflow.python.keras.callbacks.History at 0x7fd922047ac8>"
      ]
     },
     "execution_count": 155,
     "metadata": {
      "tags": []
     },
     "output_type": "execute_result"
    }
   ],
   "source": [
    "model.fit(x_train, y_train, epochs=25, batch_size=55)"
   ]
  },
  {
   "cell_type": "code",
   "execution_count": 176,
   "metadata": {
    "executionInfo": {
     "elapsed": 1169,
     "status": "ok",
     "timestamp": 1609937564324,
     "user": {
      "displayName": "5072 Medha Mathur",
      "photoUrl": "https://lh3.googleusercontent.com/a-/AOh14GhU5rpc98_bHp-wBsi8gjk3rfPBSk5rV-xSzpRV=s64",
      "userId": "09694216789696746072"
     },
     "user_tz": -330
    },
    "id": "VxLgg4waie1C"
   },
   "outputs": [],
   "source": [
    "#predicting test data values, using past 90 from the train data\r\n",
    "inputs = dataset[len(dataset) - len(valid_ds)-90:].values\r\n",
    "inputs = inputs.reshape(-1,1)\r\n",
    "inputs  = scaler.transform(inputs)"
   ]
  },
  {
   "cell_type": "code",
   "execution_count": 146,
   "metadata": {
    "colab": {
     "base_uri": "https://localhost:8080/"
    },
    "executionInfo": {
     "elapsed": 992,
     "status": "ok",
     "timestamp": 1609937054296,
     "user": {
      "displayName": "5072 Medha Mathur",
      "photoUrl": "https://lh3.googleusercontent.com/a-/AOh14GhU5rpc98_bHp-wBsi8gjk3rfPBSk5rV-xSzpRV=s64",
      "userId": "09694216789696746072"
     },
     "user_tz": -330
    },
    "id": "qmKs9ouIioMe",
    "outputId": "4ff3ad81-4020-439f-ac0b-54a593c811bc"
   },
   "outputs": [
    {
     "data": {
      "text/plain": [
       "(1090, 1)"
      ]
     },
     "execution_count": 146,
     "metadata": {
      "tags": []
     },
     "output_type": "execute_result"
    }
   ],
   "source": [
    "inputs.shape"
   ]
  },
  {
   "cell_type": "code",
   "execution_count": 177,
   "metadata": {
    "executionInfo": {
     "elapsed": 1151,
     "status": "ok",
     "timestamp": 1609937568320,
     "user": {
      "displayName": "5072 Medha Mathur",
      "photoUrl": "https://lh3.googleusercontent.com/a-/AOh14GhU5rpc98_bHp-wBsi8gjk3rfPBSk5rV-xSzpRV=s64",
      "userId": "09694216789696746072"
     },
     "user_tz": -330
    },
    "id": "H-rxHL26iqrr"
   },
   "outputs": [],
   "source": [
    "X_test = []\r\n",
    "for i in range(90,inputs.shape[0]):\r\n",
    "    X_test.append(inputs[i-90:i,0])\r\n",
    "X_test = np.array(X_test)"
   ]
  },
  {
   "cell_type": "code",
   "execution_count": 158,
   "metadata": {
    "colab": {
     "base_uri": "https://localhost:8080/"
    },
    "executionInfo": {
     "elapsed": 979,
     "status": "ok",
     "timestamp": 1609937357209,
     "user": {
      "displayName": "5072 Medha Mathur",
      "photoUrl": "https://lh3.googleusercontent.com/a-/AOh14GhU5rpc98_bHp-wBsi8gjk3rfPBSk5rV-xSzpRV=s64",
      "userId": "09694216789696746072"
     },
     "user_tz": -330
    },
    "id": "sItIZZJfitsG",
    "outputId": "5c0f7138-ab21-4216-ffc7-b8709b79407b"
   },
   "outputs": [
    {
     "data": {
      "text/plain": [
       "array([[0.46238343, 0.46359688, 0.45650783, ..., 0.48856813, 0.48703535,\n",
       "        0.48448075],\n",
       "       [0.46359688, 0.45650783, 0.46263891, ..., 0.48703535, 0.48448075,\n",
       "        0.47234637],\n",
       "       [0.45650783, 0.46263891, 0.47355983, ..., 0.48448075, 0.47234637,\n",
       "        0.47458165],\n",
       "       ...,\n",
       "       [0.51896791, 0.51877632, 0.51654104, ..., 0.53257121, 0.53333756,\n",
       "        0.53812744],\n",
       "       [0.51877632, 0.51654104, 0.51679652, ..., 0.53333756, 0.53812744,\n",
       "        0.53110228],\n",
       "       [0.51654104, 0.51679652, 0.50542853, ..., 0.53812744, 0.53110228,\n",
       "        0.52976113]])"
      ]
     },
     "execution_count": 158,
     "metadata": {
      "tags": []
     },
     "output_type": "execute_result"
    }
   ],
   "source": [
    "X_test"
   ]
  },
  {
   "cell_type": "code",
   "execution_count": 149,
   "metadata": {
    "colab": {
     "base_uri": "https://localhost:8080/"
    },
    "executionInfo": {
     "elapsed": 958,
     "status": "ok",
     "timestamp": 1609937062251,
     "user": {
      "displayName": "5072 Medha Mathur",
      "photoUrl": "https://lh3.googleusercontent.com/a-/AOh14GhU5rpc98_bHp-wBsi8gjk3rfPBSk5rV-xSzpRV=s64",
      "userId": "09694216789696746072"
     },
     "user_tz": -330
    },
    "id": "huhZ0eCnizH1",
    "outputId": "046efecd-7f88-4106-b560-b293b8094802"
   },
   "outputs": [
    {
     "data": {
      "text/plain": [
       "(1000, 90)"
      ]
     },
     "execution_count": 149,
     "metadata": {
      "tags": []
     },
     "output_type": "execute_result"
    }
   ],
   "source": [
    "X_test.shape"
   ]
  },
  {
   "cell_type": "code",
   "execution_count": 178,
   "metadata": {
    "executionInfo": {
     "elapsed": 2281,
     "status": "ok",
     "timestamp": 1609937573161,
     "user": {
      "displayName": "5072 Medha Mathur",
      "photoUrl": "https://lh3.googleusercontent.com/a-/AOh14GhU5rpc98_bHp-wBsi8gjk3rfPBSk5rV-xSzpRV=s64",
      "userId": "09694216789696746072"
     },
     "user_tz": -330
    },
    "id": "kF0gYXOri10T"
   },
   "outputs": [],
   "source": [
    "X_test = np.reshape(X_test, (X_test.shape[0],X_test.shape[1],1))\r\n",
    "preds = model.predict(X_test)\r\n",
    "preds = scaler.inverse_transform(preds)"
   ]
  },
  {
   "cell_type": "code",
   "execution_count": 151,
   "metadata": {
    "colab": {
     "base_uri": "https://localhost:8080/"
    },
    "executionInfo": {
     "elapsed": 1192,
     "status": "ok",
     "timestamp": 1609937067593,
     "user": {
      "displayName": "5072 Medha Mathur",
      "photoUrl": "https://lh3.googleusercontent.com/a-/AOh14GhU5rpc98_bHp-wBsi8gjk3rfPBSk5rV-xSzpRV=s64",
      "userId": "09694216789696746072"
     },
     "user_tz": -330
    },
    "id": "jswNQ_RH-y2I",
    "outputId": "9040bdc1-08f6-4475-8fdf-03faf892870e"
   },
   "outputs": [
    {
     "data": {
      "text/plain": [
       "(1000, 90, 1)"
      ]
     },
     "execution_count": 151,
     "metadata": {
      "tags": []
     },
     "output_type": "execute_result"
    }
   ],
   "source": [
    "X_test.shape"
   ]
  },
  {
   "cell_type": "code",
   "execution_count": 179,
   "metadata": {
    "colab": {
     "base_uri": "https://localhost:8080/"
    },
    "executionInfo": {
     "elapsed": 1061,
     "status": "ok",
     "timestamp": 1609937575633,
     "user": {
      "displayName": "5072 Medha Mathur",
      "photoUrl": "https://lh3.googleusercontent.com/a-/AOh14GhU5rpc98_bHp-wBsi8gjk3rfPBSk5rV-xSzpRV=s64",
      "userId": "09694216789696746072"
     },
     "user_tz": -330
    },
    "id": "JjHvJ7YfjDtM",
    "outputId": "01d72c92-0d2b-403c-dd9f-665476e5dfaf"
   },
   "outputs": [
    {
     "data": {
      "text/plain": [
       "array([[457.34726],\n",
       "       [452.74503],\n",
       "       [449.12604],\n",
       "       [446.82718],\n",
       "       [448.57993],\n",
       "       [450.31003],\n",
       "       [450.49802],\n",
       "       [450.306  ],\n",
       "       [451.94977],\n",
       "       [455.24634],\n",
       "       [460.30402],\n",
       "       [465.48114],\n",
       "       [470.55246],\n",
       "       [477.49115],\n",
       "       [486.52917],\n",
       "       [500.75754],\n",
       "       [510.45996],\n",
       "       [510.70135],\n",
       "       [510.98788],\n",
       "       [512.4448 ],\n",
       "       [510.40747],\n",
       "       [507.40063],\n",
       "       [505.25754],\n",
       "       [501.7072 ],\n",
       "       [499.94876],\n",
       "       [499.01984],\n",
       "       [495.30643],\n",
       "       [493.25272],\n",
       "       [496.007  ],\n",
       "       [499.9108 ],\n",
       "       [504.1239 ],\n",
       "       [504.5674 ],\n",
       "       [503.83875],\n",
       "       [503.53183],\n",
       "       [503.54654],\n",
       "       [502.31778],\n",
       "       [503.79764],\n",
       "       [505.62155],\n",
       "       [505.17908],\n",
       "       [503.859  ],\n",
       "       [502.28738],\n",
       "       [503.33817],\n",
       "       [503.10098],\n",
       "       [502.0906 ],\n",
       "       [502.10678],\n",
       "       [502.8424 ],\n",
       "       [503.45352],\n",
       "       [504.28262],\n",
       "       [511.78915],\n",
       "       [517.08887],\n",
       "       [526.0274 ],\n",
       "       [533.28656],\n",
       "       [536.9752 ],\n",
       "       [539.06433],\n",
       "       [538.3555 ],\n",
       "       [538.7513 ],\n",
       "       [539.6575 ],\n",
       "       [539.92847],\n",
       "       [540.10156],\n",
       "       [542.6201 ],\n",
       "       [550.3225 ],\n",
       "       [560.3472 ],\n",
       "       [566.65485],\n",
       "       [568.71277],\n",
       "       [568.35   ],\n",
       "       [567.6169 ],\n",
       "       [567.2601 ],\n",
       "       [566.7133 ],\n",
       "       [566.4503 ],\n",
       "       [570.11847],\n",
       "       [581.6723 ],\n",
       "       [590.47614],\n",
       "       [603.03503],\n",
       "       [612.69086],\n",
       "       [611.62866],\n",
       "       [612.221  ],\n",
       "       [614.30896],\n",
       "       [613.4226 ],\n",
       "       [609.4397 ],\n",
       "       [609.1307 ],\n",
       "       [606.94244],\n",
       "       [599.65125],\n",
       "       [604.50336],\n",
       "       [610.28613],\n",
       "       [611.7209 ],\n",
       "       [611.88794],\n",
       "       [612.303  ],\n",
       "       [613.04596],\n",
       "       [613.74554],\n",
       "       [614.6108 ],\n",
       "       [615.4191 ],\n",
       "       [620.24554],\n",
       "       [625.0668 ],\n",
       "       [627.04407],\n",
       "       [627.6039 ],\n",
       "       [627.2739 ],\n",
       "       [630.5834 ],\n",
       "       [633.9717 ],\n",
       "       [635.7932 ],\n",
       "       [639.1613 ],\n",
       "       [641.28564],\n",
       "       [648.98224],\n",
       "       [653.69   ],\n",
       "       [654.4742 ],\n",
       "       [651.31903],\n",
       "       [647.0436 ],\n",
       "       [652.5728 ],\n",
       "       [658.0464 ],\n",
       "       [660.3688 ],\n",
       "       [659.84076],\n",
       "       [662.01495],\n",
       "       [661.86145],\n",
       "       [661.6729 ],\n",
       "       [661.573  ],\n",
       "       [662.14276],\n",
       "       [663.00165],\n",
       "       [660.206  ],\n",
       "       [658.38947],\n",
       "       [654.52686],\n",
       "       [650.1921 ],\n",
       "       [648.91907],\n",
       "       [650.5363 ],\n",
       "       [654.38916],\n",
       "       [664.46936],\n",
       "       [674.5493 ],\n",
       "       [693.19305],\n",
       "       [704.8132 ],\n",
       "       [702.6601 ],\n",
       "       [702.5087 ],\n",
       "       [702.9645 ],\n",
       "       [704.4588 ],\n",
       "       [706.11426],\n",
       "       [698.19226],\n",
       "       [688.4223 ],\n",
       "       [697.09827],\n",
       "       [693.6765 ],\n",
       "       [687.3395 ],\n",
       "       [687.96814],\n",
       "       [679.4304 ],\n",
       "       [670.1493 ],\n",
       "       [669.31085],\n",
       "       [666.47833],\n",
       "       [667.40216],\n",
       "       [667.1486 ],\n",
       "       [665.2172 ],\n",
       "       [674.1319 ],\n",
       "       [683.98737],\n",
       "       [687.72375],\n",
       "       [687.9544 ],\n",
       "       [687.3787 ],\n",
       "       [703.1644 ],\n",
       "       [713.22107],\n",
       "       [722.48425],\n",
       "       [721.2233 ],\n",
       "       [713.693  ],\n",
       "       [717.7876 ],\n",
       "       [727.8012 ],\n",
       "       [736.5516 ],\n",
       "       [739.208  ],\n",
       "       [746.0476 ],\n",
       "       [748.7817 ],\n",
       "       [748.53204],\n",
       "       [735.7258 ],\n",
       "       [728.14087],\n",
       "       [724.58997],\n",
       "       [724.3739 ],\n",
       "       [730.6194 ],\n",
       "       [733.0879 ],\n",
       "       [731.73865],\n",
       "       [730.62555],\n",
       "       [728.94006],\n",
       "       [727.88855],\n",
       "       [727.65393],\n",
       "       [742.6866 ],\n",
       "       [740.7711 ],\n",
       "       [741.9615 ],\n",
       "       [746.67365],\n",
       "       [747.02625],\n",
       "       [745.8679 ],\n",
       "       [758.1283 ],\n",
       "       [760.5364 ],\n",
       "       [763.82635],\n",
       "       [758.1323 ],\n",
       "       [755.2651 ],\n",
       "       [757.6615 ],\n",
       "       [759.3264 ],\n",
       "       [761.6381 ],\n",
       "       [763.21533],\n",
       "       [761.96387],\n",
       "       [761.94635],\n",
       "       [761.99884],\n",
       "       [748.6344 ],\n",
       "       [753.70123],\n",
       "       [764.4709 ],\n",
       "       [784.5408 ],\n",
       "       [793.12823],\n",
       "       [809.9433 ],\n",
       "       [818.95825],\n",
       "       [821.5636 ],\n",
       "       [811.07416],\n",
       "       [804.28186],\n",
       "       [815.57654],\n",
       "       [824.1264 ],\n",
       "       [833.7272 ],\n",
       "       [829.9576 ],\n",
       "       [830.3343 ],\n",
       "       [828.72046],\n",
       "       [833.2134 ],\n",
       "       [831.4195 ],\n",
       "       [825.32446],\n",
       "       [825.4583 ],\n",
       "       [829.1105 ],\n",
       "       [815.21576],\n",
       "       [812.4715 ],\n",
       "       [799.8909 ],\n",
       "       [795.4203 ],\n",
       "       [792.8444 ],\n",
       "       [785.25555],\n",
       "       [773.6597 ],\n",
       "       [773.1587 ],\n",
       "       [774.90784],\n",
       "       [775.7144 ],\n",
       "       [775.9692 ],\n",
       "       [769.5209 ],\n",
       "       [775.5935 ],\n",
       "       [776.71716],\n",
       "       [770.5152 ],\n",
       "       [769.27014],\n",
       "       [756.9274 ],\n",
       "       [749.0444 ],\n",
       "       [752.09357],\n",
       "       [756.4449 ],\n",
       "       [755.6287 ],\n",
       "       [751.1941 ],\n",
       "       [754.5353 ],\n",
       "       [759.2085 ],\n",
       "       [755.5686 ],\n",
       "       [762.9551 ],\n",
       "       [766.61725],\n",
       "       [761.0023 ],\n",
       "       [754.8868 ],\n",
       "       [761.7546 ],\n",
       "       [764.809  ],\n",
       "       [764.6132 ],\n",
       "       [790.20276],\n",
       "       [807.70416],\n",
       "       [803.61365],\n",
       "       [802.7121 ],\n",
       "       [807.40924],\n",
       "       [809.948  ],\n",
       "       [810.4386 ],\n",
       "       [808.42   ],\n",
       "       [819.60693],\n",
       "       [811.55554],\n",
       "       [812.3893 ],\n",
       "       [815.4827 ],\n",
       "       [811.6463 ],\n",
       "       [811.9379 ],\n",
       "       [807.91907],\n",
       "       [807.0321 ],\n",
       "       [807.5925 ],\n",
       "       [815.93085],\n",
       "       [813.012  ],\n",
       "       [839.0433 ],\n",
       "       [827.21606],\n",
       "       [817.3307 ],\n",
       "       [823.6101 ],\n",
       "       [826.7902 ],\n",
       "       [819.2467 ],\n",
       "       [816.4461 ],\n",
       "       [837.9583 ],\n",
       "       [850.7551 ],\n",
       "       [846.3752 ],\n",
       "       [829.4915 ],\n",
       "       [818.7454 ],\n",
       "       [818.5358 ],\n",
       "       [820.00256],\n",
       "       [819.1151 ],\n",
       "       [817.252  ],\n",
       "       [815.08795],\n",
       "       [814.19147],\n",
       "       [815.1674 ],\n",
       "       [814.06586],\n",
       "       [812.3447 ],\n",
       "       [809.37836],\n",
       "       [794.7121 ],\n",
       "       [802.89905],\n",
       "       [803.97   ],\n",
       "       [802.65027],\n",
       "       [804.2354 ],\n",
       "       [807.83105],\n",
       "       [794.00494],\n",
       "       [790.64056],\n",
       "       [779.2085 ],\n",
       "       [783.3191 ],\n",
       "       [789.4883 ],\n",
       "       [788.4292 ],\n",
       "       [789.74347],\n",
       "       [790.52246],\n",
       "       [784.42957],\n",
       "       [815.9806 ],\n",
       "       [796.68506],\n",
       "       [780.78955],\n",
       "       [782.92633],\n",
       "       [793.5063 ],\n",
       "       [804.19403],\n",
       "       [799.272  ],\n",
       "       [796.28955],\n",
       "       [790.97375],\n",
       "       [775.14954],\n",
       "       [758.6931 ],\n",
       "       [762.47784],\n",
       "       [751.8199 ],\n",
       "       [741.9403 ],\n",
       "       [729.7405 ],\n",
       "       [726.30896],\n",
       "       [719.0779 ],\n",
       "       [713.60974],\n",
       "       [716.17596],\n",
       "       [727.703  ],\n",
       "       [730.79974],\n",
       "       [723.7626 ],\n",
       "       [704.4008 ],\n",
       "       [697.42786],\n",
       "       [693.91205],\n",
       "       [695.23364],\n",
       "       [691.1476 ],\n",
       "       [693.1829 ],\n",
       "       [695.6031 ],\n",
       "       [692.915  ],\n",
       "       [692.4316 ],\n",
       "       [695.2885 ],\n",
       "       [695.0915 ],\n",
       "       [695.6605 ],\n",
       "       [691.67145],\n",
       "       [695.24274],\n",
       "       [691.94934],\n",
       "       [689.86884],\n",
       "       [696.9712 ],\n",
       "       [701.7349 ],\n",
       "       [688.3629 ],\n",
       "       [684.396  ],\n",
       "       [687.8894 ],\n",
       "       [697.0646 ],\n",
       "       [675.53723],\n",
       "       [651.74835],\n",
       "       [640.97107],\n",
       "       [638.34076],\n",
       "       [643.932  ],\n",
       "       [641.5928 ],\n",
       "       [632.6394 ],\n",
       "       [624.30304],\n",
       "       [628.7526 ],\n",
       "       [633.2751 ],\n",
       "       [633.7384 ],\n",
       "       [627.14075],\n",
       "       [635.62976],\n",
       "       [634.3182 ],\n",
       "       [618.10376],\n",
       "       [615.06305],\n",
       "       [623.40106],\n",
       "       [621.70465],\n",
       "       [611.67175],\n",
       "       [606.8543 ],\n",
       "       [595.8817 ],\n",
       "       [591.215  ],\n",
       "       [593.16394],\n",
       "       [596.81696],\n",
       "       [599.5104 ],\n",
       "       [601.7915 ],\n",
       "       [603.3151 ],\n",
       "       [604.236  ],\n",
       "       [605.13354],\n",
       "       [606.3396 ],\n",
       "       [607.389  ],\n",
       "       [608.1919 ],\n",
       "       [608.8713 ],\n",
       "       [609.6574 ],\n",
       "       [610.27814],\n",
       "       [609.1589 ],\n",
       "       [608.1437 ],\n",
       "       [607.4529 ],\n",
       "       [608.25543],\n",
       "       [609.0307 ],\n",
       "       [605.97626],\n",
       "       [598.0073 ],\n",
       "       [590.04407],\n",
       "       [583.06757],\n",
       "       [578.9014 ],\n",
       "       [577.9132 ],\n",
       "       [577.9126 ],\n",
       "       [578.33954],\n",
       "       [575.9738 ],\n",
       "       [572.9372 ],\n",
       "       [571.374  ],\n",
       "       [569.54443],\n",
       "       [569.81226],\n",
       "       [569.7623 ],\n",
       "       [570.0957 ],\n",
       "       [571.0638 ],\n",
       "       [570.4177 ],\n",
       "       [572.5336 ],\n",
       "       [572.6748 ],\n",
       "       [574.72406],\n",
       "       [579.4549 ],\n",
       "       [577.96857],\n",
       "       [582.2287 ],\n",
       "       [582.51074],\n",
       "       [598.61206],\n",
       "       [626.7782 ],\n",
       "       [650.3773 ],\n",
       "       [669.72595],\n",
       "       [667.2242 ],\n",
       "       [658.86615],\n",
       "       [664.2837 ],\n",
       "       [679.46906],\n",
       "       [668.8743 ],\n",
       "       [646.6628 ],\n",
       "       [641.05927],\n",
       "       [642.5905 ],\n",
       "       [649.1087 ],\n",
       "       [658.3388 ],\n",
       "       [673.976  ],\n",
       "       [682.21936],\n",
       "       [680.8813 ],\n",
       "       [682.9855 ],\n",
       "       [678.6069 ],\n",
       "       [674.88696],\n",
       "       [679.10864],\n",
       "       [684.7853 ],\n",
       "       [687.403  ],\n",
       "       [689.6783 ],\n",
       "       [690.5985 ],\n",
       "       [696.39166],\n",
       "       [709.61194],\n",
       "       [718.9851 ],\n",
       "       [728.4261 ],\n",
       "       [733.8125 ],\n",
       "       [736.86487],\n",
       "       [756.5535 ],\n",
       "       [766.07385],\n",
       "       [775.54065],\n",
       "       [767.1991 ],\n",
       "       [744.5674 ],\n",
       "       [709.9333 ],\n",
       "       [684.0784 ],\n",
       "       [681.48914],\n",
       "       [688.6215 ],\n",
       "       [698.43494],\n",
       "       [704.2462 ],\n",
       "       [681.35913],\n",
       "       [671.23   ],\n",
       "       [649.5262 ],\n",
       "       [617.7174 ],\n",
       "       [581.4248 ],\n",
       "       [559.997  ],\n",
       "       [554.10864],\n",
       "       [554.48047],\n",
       "       [555.2113 ],\n",
       "       [556.70514],\n",
       "       [558.5445 ],\n",
       "       [560.83795],\n",
       "       [563.2648 ],\n",
       "       [565.6322 ],\n",
       "       [567.4317 ],\n",
       "       [568.9619 ],\n",
       "       [570.3226 ],\n",
       "       [571.4761 ],\n",
       "       [572.8677 ],\n",
       "       [573.89667],\n",
       "       [575.4108 ],\n",
       "       [577.44214],\n",
       "       [573.4711 ],\n",
       "       [570.3712 ],\n",
       "       [567.6223 ],\n",
       "       [565.92896],\n",
       "       [569.34375],\n",
       "       [573.87695],\n",
       "       [576.4146 ],\n",
       "       [577.61755],\n",
       "       [578.02246],\n",
       "       [578.056  ],\n",
       "       [578.0001 ],\n",
       "       [578.0193 ],\n",
       "       [578.1433 ],\n",
       "       [577.9979 ],\n",
       "       [577.84033],\n",
       "       [577.72815],\n",
       "       [577.6132 ],\n",
       "       [577.3453 ],\n",
       "       [577.2929 ],\n",
       "       [577.09106],\n",
       "       [576.89935],\n",
       "       [576.60657],\n",
       "       [577.3801 ],\n",
       "       [577.6225 ],\n",
       "       [577.4483 ],\n",
       "       [576.5592 ],\n",
       "       [576.15796],\n",
       "       [576.3259 ],\n",
       "       [574.7017 ],\n",
       "       [575.33636],\n",
       "       [577.2978 ],\n",
       "       [578.8608 ],\n",
       "       [578.1887 ],\n",
       "       [577.68054],\n",
       "       [578.17444],\n",
       "       [578.82355],\n",
       "       [580.3105 ],\n",
       "       [581.2117 ],\n",
       "       [582.49677],\n",
       "       [580.46185],\n",
       "       [578.38617],\n",
       "       [576.6363 ],\n",
       "       [576.13605],\n",
       "       [578.0497 ],\n",
       "       [582.17676],\n",
       "       [591.6564 ],\n",
       "       [599.37976],\n",
       "       [594.9232 ],\n",
       "       [589.7229 ],\n",
       "       [589.67633],\n",
       "       [589.8033 ],\n",
       "       [585.0177 ],\n",
       "       [587.4569 ],\n",
       "       [590.8414 ],\n",
       "       [600.1933 ],\n",
       "       [616.47815],\n",
       "       [620.3056 ],\n",
       "       [625.5342 ],\n",
       "       [616.3025 ],\n",
       "       [595.0976 ],\n",
       "       [582.3263 ],\n",
       "       [579.521  ],\n",
       "       [577.1704 ],\n",
       "       [575.51135],\n",
       "       [575.07074],\n",
       "       [569.97314],\n",
       "       [570.12744],\n",
       "       [567.2067 ],\n",
       "       [563.91125],\n",
       "       [566.5355 ],\n",
       "       [566.4181 ],\n",
       "       [568.0588 ],\n",
       "       [565.25775],\n",
       "       [567.45825],\n",
       "       [570.8744 ],\n",
       "       [579.94434],\n",
       "       [579.7415 ],\n",
       "       [579.5765 ],\n",
       "       [578.169  ],\n",
       "       [578.09064],\n",
       "       [583.93195],\n",
       "       [594.9228 ],\n",
       "       [606.9921 ],\n",
       "       [619.1617 ],\n",
       "       [626.50366],\n",
       "       [636.53784],\n",
       "       [642.9556 ],\n",
       "       [647.65485],\n",
       "       [655.93146],\n",
       "       [664.78186],\n",
       "       [668.7016 ],\n",
       "       [670.31696],\n",
       "       [678.62445],\n",
       "       [686.0788 ],\n",
       "       [686.997  ],\n",
       "       [693.9032 ],\n",
       "       [701.1501 ],\n",
       "       [694.2623 ],\n",
       "       [693.95917],\n",
       "       [688.3179 ],\n",
       "       [684.2045 ],\n",
       "       [675.39844],\n",
       "       [678.78625],\n",
       "       [679.53625],\n",
       "       [683.1546 ],\n",
       "       [678.78076],\n",
       "       [674.987  ],\n",
       "       [699.092  ],\n",
       "       [725.20465],\n",
       "       [729.04706],\n",
       "       [725.4914 ],\n",
       "       [698.3348 ],\n",
       "       [684.5976 ],\n",
       "       [685.3288 ],\n",
       "       [685.56494],\n",
       "       [686.0054 ],\n",
       "       [697.4557 ],\n",
       "       [702.1518 ],\n",
       "       [685.67596],\n",
       "       [676.91516],\n",
       "       [674.5141 ],\n",
       "       [679.61926],\n",
       "       [683.8497 ],\n",
       "       [680.25714],\n",
       "       [677.4094 ],\n",
       "       [674.8157 ],\n",
       "       [665.56   ],\n",
       "       [662.5261 ],\n",
       "       [661.7097 ],\n",
       "       [664.17584],\n",
       "       [665.916  ],\n",
       "       [658.85205],\n",
       "       [661.12115],\n",
       "       [664.17316],\n",
       "       [663.74506],\n",
       "       [663.8913 ],\n",
       "       [662.71906],\n",
       "       [662.3778 ],\n",
       "       [662.6126 ],\n",
       "       [664.3103 ],\n",
       "       [663.95105],\n",
       "       [663.91614],\n",
       "       [672.90314],\n",
       "       [686.7975 ],\n",
       "       [694.69745],\n",
       "       [699.01117],\n",
       "       [706.9879 ],\n",
       "       [725.35706],\n",
       "       [733.5367 ],\n",
       "       [735.0041 ],\n",
       "       [726.0075 ],\n",
       "       [726.18555],\n",
       "       [728.88916],\n",
       "       [733.6207 ],\n",
       "       [729.2131 ],\n",
       "       [729.9584 ],\n",
       "       [731.3371 ],\n",
       "       [731.8669 ],\n",
       "       [737.2946 ],\n",
       "       [718.42944],\n",
       "       [706.71185],\n",
       "       [706.62244],\n",
       "       [708.0863 ],\n",
       "       [705.73785],\n",
       "       [696.9932 ],\n",
       "       [692.3407 ],\n",
       "       [691.2309 ],\n",
       "       [691.4844 ],\n",
       "       [690.81085],\n",
       "       [689.6968 ],\n",
       "       [692.6423 ],\n",
       "       [691.3487 ],\n",
       "       [708.25104],\n",
       "       [718.2153 ],\n",
       "       [720.6235 ],\n",
       "       [707.8542 ],\n",
       "       [696.0844 ],\n",
       "       [691.01166],\n",
       "       [690.7824 ],\n",
       "       [691.9348 ],\n",
       "       [692.79407],\n",
       "       [701.8922 ],\n",
       "       [697.43585],\n",
       "       [693.11975],\n",
       "       [701.81555],\n",
       "       [693.4189 ],\n",
       "       [668.991  ],\n",
       "       [689.301  ],\n",
       "       [722.1841 ],\n",
       "       [731.37726],\n",
       "       [731.9632 ],\n",
       "       [731.345  ],\n",
       "       [724.7941 ],\n",
       "       [708.363  ],\n",
       "       [704.55396],\n",
       "       [710.863  ],\n",
       "       [716.5602 ],\n",
       "       [703.99347],\n",
       "       [688.42444],\n",
       "       [684.898  ],\n",
       "       [682.2047 ],\n",
       "       [680.37823],\n",
       "       [678.30457],\n",
       "       [672.2434 ],\n",
       "       [674.5745 ],\n",
       "       [678.10596],\n",
       "       [678.1266 ],\n",
       "       [678.67004],\n",
       "       [678.417  ],\n",
       "       [668.2959 ],\n",
       "       [671.26697],\n",
       "       [674.5582 ],\n",
       "       [671.5324 ],\n",
       "       [674.94995],\n",
       "       [678.7203 ],\n",
       "       [674.58856],\n",
       "       [677.06256],\n",
       "       [675.2793 ],\n",
       "       [674.46497],\n",
       "       [676.28467],\n",
       "       [679.18115],\n",
       "       [680.69116],\n",
       "       [681.78125],\n",
       "       [680.9155 ],\n",
       "       [681.7336 ],\n",
       "       [679.9776 ],\n",
       "       [679.8376 ],\n",
       "       [681.0909 ],\n",
       "       [680.98895],\n",
       "       [679.52124],\n",
       "       [681.00354],\n",
       "       [680.3675 ],\n",
       "       [682.95953],\n",
       "       [683.2419 ],\n",
       "       [685.933  ],\n",
       "       [687.5663 ],\n",
       "       [685.02924],\n",
       "       [683.0062 ],\n",
       "       [678.4787 ],\n",
       "       [681.3701 ],\n",
       "       [683.38544],\n",
       "       [685.34656],\n",
       "       [690.3793 ],\n",
       "       [691.86633],\n",
       "       [704.9576 ],\n",
       "       [720.0198 ],\n",
       "       [719.408  ],\n",
       "       [711.89417],\n",
       "       [714.5738 ],\n",
       "       [714.4267 ],\n",
       "       [707.01715],\n",
       "       [681.3734 ],\n",
       "       [669.052  ],\n",
       "       [669.1421 ],\n",
       "       [679.2715 ],\n",
       "       [680.3145 ],\n",
       "       [681.0178 ],\n",
       "       [681.25073],\n",
       "       [681.30304],\n",
       "       [680.7453 ],\n",
       "       [681.3813 ],\n",
       "       [682.1491 ],\n",
       "       [683.1128 ],\n",
       "       [677.199  ],\n",
       "       [685.557  ],\n",
       "       [691.11523],\n",
       "       [697.66626],\n",
       "       [701.9862 ],\n",
       "       [705.085  ],\n",
       "       [696.5732 ],\n",
       "       [694.94324],\n",
       "       [688.46686],\n",
       "       [686.9939 ],\n",
       "       [685.5163 ],\n",
       "       [685.40424],\n",
       "       [679.3362 ],\n",
       "       [682.8608 ],\n",
       "       [692.51324],\n",
       "       [701.0294 ],\n",
       "       [699.9766 ],\n",
       "       [689.22064],\n",
       "       [685.233  ],\n",
       "       [689.04504],\n",
       "       [703.87427],\n",
       "       [716.01904],\n",
       "       [713.8297 ],\n",
       "       [713.97565],\n",
       "       [712.1334 ],\n",
       "       [717.55945],\n",
       "       [719.04846],\n",
       "       [721.33093],\n",
       "       [722.781  ],\n",
       "       [723.59705],\n",
       "       [724.20764],\n",
       "       [724.7358 ],\n",
       "       [725.15625],\n",
       "       [730.22565],\n",
       "       [733.3759 ],\n",
       "       [730.8556 ],\n",
       "       [731.04956],\n",
       "       [728.5012 ],\n",
       "       [728.83295],\n",
       "       [722.5568 ],\n",
       "       [715.12195],\n",
       "       [720.7803 ],\n",
       "       [749.5572 ],\n",
       "       [739.77606],\n",
       "       [724.57745],\n",
       "       [714.8833 ],\n",
       "       [719.992  ],\n",
       "       [721.00946],\n",
       "       [714.8768 ],\n",
       "       [682.6182 ],\n",
       "       [661.7314 ],\n",
       "       [656.8846 ],\n",
       "       [645.88226],\n",
       "       [654.3963 ],\n",
       "       [660.4604 ],\n",
       "       [667.2842 ],\n",
       "       [676.21564],\n",
       "       [682.31854],\n",
       "       [683.0306 ],\n",
       "       [683.27966],\n",
       "       [676.9598 ],\n",
       "       [684.0537 ],\n",
       "       [674.58563],\n",
       "       [628.41174],\n",
       "       [607.75366],\n",
       "       [598.49493],\n",
       "       [603.0146 ],\n",
       "       [592.40796],\n",
       "       [584.9171 ],\n",
       "       [562.0833 ],\n",
       "       [543.7572 ],\n",
       "       [567.31464],\n",
       "       [586.4793 ],\n",
       "       [585.658  ],\n",
       "       [559.43365],\n",
       "       [546.5091 ],\n",
       "       [552.5671 ],\n",
       "       [598.69366],\n",
       "       [626.8673 ],\n",
       "       [635.291  ],\n",
       "       [629.89185],\n",
       "       [612.4484 ],\n",
       "       [583.7301 ],\n",
       "       [558.24603],\n",
       "       [548.864  ],\n",
       "       [551.26587],\n",
       "       [545.8507 ],\n",
       "       [539.3481 ],\n",
       "       [536.0782 ],\n",
       "       [534.2174 ],\n",
       "       [529.8545 ],\n",
       "       [564.2035 ],\n",
       "       [604.04816],\n",
       "       [626.98883],\n",
       "       [597.5961 ],\n",
       "       [570.04895],\n",
       "       [556.4858 ],\n",
       "       [548.60565],\n",
       "       [538.4793 ],\n",
       "       [538.7134 ],\n",
       "       [536.8394 ],\n",
       "       [538.27997],\n",
       "       [532.87537],\n",
       "       [528.8728 ],\n",
       "       [518.7828 ],\n",
       "       [515.5551 ],\n",
       "       [513.6314 ],\n",
       "       [512.6842 ],\n",
       "       [512.23615],\n",
       "       [512.36346],\n",
       "       [512.0279 ],\n",
       "       [511.6617 ],\n",
       "       [503.12955],\n",
       "       [496.3841 ],\n",
       "       [491.07373],\n",
       "       [488.53848],\n",
       "       [486.24338],\n",
       "       [487.88095],\n",
       "       [490.98468],\n",
       "       [489.6869 ],\n",
       "       [489.04074],\n",
       "       [487.2583 ],\n",
       "       [486.70575],\n",
       "       [485.80133],\n",
       "       [481.5096 ],\n",
       "       [479.12408],\n",
       "       [478.32974],\n",
       "       [476.79443],\n",
       "       [478.57208],\n",
       "       [485.22867],\n",
       "       [490.96844],\n",
       "       [491.05246],\n",
       "       [488.14432],\n",
       "       [488.3911 ],\n",
       "       [482.48013],\n",
       "       [476.8721 ],\n",
       "       [474.65988],\n",
       "       [480.28867],\n",
       "       [485.4031 ],\n",
       "       [489.5373 ],\n",
       "       [491.41498],\n",
       "       [489.8762 ],\n",
       "       [485.46344],\n",
       "       [481.10242],\n",
       "       [476.6378 ],\n",
       "       [473.96967],\n",
       "       [474.1746 ],\n",
       "       [474.1558 ],\n",
       "       [473.36517],\n",
       "       [471.2032 ],\n",
       "       [473.38162],\n",
       "       [476.3263 ],\n",
       "       [477.00177],\n",
       "       [476.89206],\n",
       "       [474.03537],\n",
       "       [471.2246 ],\n",
       "       [468.0953 ],\n",
       "       [465.06015],\n",
       "       [457.63382],\n",
       "       [465.33508],\n",
       "       [473.3426 ],\n",
       "       [478.29498],\n",
       "       [475.06824],\n",
       "       [471.74503],\n",
       "       [469.69147],\n",
       "       [469.10666],\n",
       "       [469.8977 ],\n",
       "       [469.3201 ],\n",
       "       [468.9747 ],\n",
       "       [469.7545 ],\n",
       "       [470.3394 ],\n",
       "       [471.87344],\n",
       "       [474.4272 ],\n",
       "       [478.40604],\n",
       "       [481.318  ],\n",
       "       [481.9216 ],\n",
       "       [481.4821 ],\n",
       "       [477.3756 ],\n",
       "       [466.23413],\n",
       "       [457.52145],\n",
       "       [454.40744],\n",
       "       [454.25073],\n",
       "       [452.8464 ],\n",
       "       [454.47183],\n",
       "       [456.12054],\n",
       "       [456.2171 ],\n",
       "       [456.85117],\n",
       "       [457.9539 ],\n",
       "       [459.2403 ],\n",
       "       [462.99506],\n",
       "       [464.80054],\n",
       "       [466.4174 ],\n",
       "       [486.1103 ],\n",
       "       [496.25266],\n",
       "       [493.0122 ],\n",
       "       [488.17062],\n",
       "       [472.76562],\n",
       "       [461.73422],\n",
       "       [460.69614],\n",
       "       [459.8791 ],\n",
       "       [456.7992 ],\n",
       "       [457.82245],\n",
       "       [469.77866],\n",
       "       [477.6912 ],\n",
       "       [473.81137],\n",
       "       [467.1893 ],\n",
       "       [461.3169 ],\n",
       "       [457.33945],\n",
       "       [454.72803],\n",
       "       [452.88943],\n",
       "       [451.69022],\n",
       "       [451.68546],\n",
       "       [452.24832],\n",
       "       [454.18588],\n",
       "       [456.28848],\n",
       "       [461.0197 ],\n",
       "       [464.0731 ],\n",
       "       [462.96478],\n",
       "       [462.10065],\n",
       "       [461.96704],\n",
       "       [462.22256],\n",
       "       [464.86615],\n",
       "       [460.38818],\n",
       "       [455.94724],\n",
       "       [452.27194],\n",
       "       [453.33704],\n",
       "       [456.37695],\n",
       "       [459.48093],\n",
       "       [459.60074],\n",
       "       [459.19427],\n",
       "       [461.11316],\n",
       "       [462.8305 ],\n",
       "       [467.08167],\n",
       "       [468.76123],\n",
       "       [467.33377],\n",
       "       [463.28445],\n",
       "       [460.37274],\n",
       "       [458.80286],\n",
       "       [456.79703],\n",
       "       [455.7314 ],\n",
       "       [455.81302],\n",
       "       [457.44922],\n",
       "       [460.55978],\n",
       "       [468.8656 ],\n",
       "       [479.93152],\n",
       "       [491.62442],\n",
       "       [494.84924],\n",
       "       [493.7803 ],\n",
       "       [487.41766],\n",
       "       [483.21338],\n",
       "       [483.49573],\n",
       "       [482.07224],\n",
       "       [481.2214 ],\n",
       "       [484.7995 ],\n",
       "       [490.6341 ],\n",
       "       [488.08417],\n",
       "       [484.49152],\n",
       "       [486.5524 ],\n",
       "       [489.83   ],\n",
       "       [492.14163],\n",
       "       [492.59088],\n",
       "       [492.46582],\n",
       "       [493.78595],\n",
       "       [492.85742],\n",
       "       [490.9685 ]], dtype=float32)"
      ]
     },
     "execution_count": 179,
     "metadata": {
      "tags": []
     },
     "output_type": "execute_result"
    }
   ],
   "source": [
    "preds"
   ]
  },
  {
   "cell_type": "code",
   "execution_count": 180,
   "metadata": {
    "colab": {
     "base_uri": "https://localhost:8080/"
    },
    "executionInfo": {
     "elapsed": 979,
     "status": "ok",
     "timestamp": 1609937580419,
     "user": {
      "displayName": "5072 Medha Mathur",
      "photoUrl": "https://lh3.googleusercontent.com/a-/AOh14GhU5rpc98_bHp-wBsi8gjk3rfPBSk5rV-xSzpRV=s64",
      "userId": "09694216789696746072"
     },
     "user_tz": -330
    },
    "id": "RxSF4ocujJ_z",
    "outputId": "65b402ee-f213-4f7b-9b52-0913020fee7a"
   },
   "outputs": [
    {
     "data": {
      "text/plain": [
       "13.917788795554515"
      ]
     },
     "execution_count": 180,
     "metadata": {
      "tags": []
     },
     "output_type": "execute_result"
    }
   ],
   "source": [
    "rms=np.sqrt(np.mean(np.power((valid_ds-preds),2)))\r\n",
    "rms"
   ]
  },
  {
   "cell_type": "code",
   "execution_count": 162,
   "metadata": {
    "colab": {
     "base_uri": "https://localhost:8080/",
     "height": 600
    },
    "executionInfo": {
     "elapsed": 76506,
     "status": "ok",
     "timestamp": 1609937453124,
     "user": {
      "displayName": "5072 Medha Mathur",
      "photoUrl": "https://lh3.googleusercontent.com/a-/AOh14GhU5rpc98_bHp-wBsi8gjk3rfPBSk5rV-xSzpRV=s64",
      "userId": "09694216789696746072"
     },
     "user_tz": -330
    },
    "id": "pHIdcM4tjObh",
    "outputId": "eb2ee11f-37f6-4a91-b211-b855cbaa3559"
   },
   "outputs": [
    {
     "name": "stderr",
     "output_type": "stream",
     "text": [
      "/usr/local/lib/python3.6/dist-packages/ipykernel_launcher.py:4: SettingWithCopyWarning: \n",
      "A value is trying to be set on a copy of a slice from a DataFrame.\n",
      "Try using .loc[row_indexer,col_indexer] = value instead\n",
      "\n",
      "See the caveats in the documentation: https://pandas.pydata.org/pandas-docs/stable/user_guide/indexing.html#returning-a-view-versus-a-copy\n",
      "  after removing the cwd from sys.path.\n"
     ]
    },
    {
     "data": {
      "image/png": "[encoded data removed]",
      "text/plain": [
       "<Figure size 1440x576 with 1 Axes>"
      ]
     },
     "metadata": {
      "needs_background": "light",
      "tags": []
     },
     "output_type": "display_data"
    }
   ],
   "source": [
    "#for plotting\r\n",
    "train = dataset[0:1714]\r\n",
    "valid = dataset[1714:]\r\n",
    "valid['Predictions'] = preds\r\n",
    "plt.figure(figsize=(20,8))\r\n",
    "plt.plot(train['Close'])\r\n",
    "plt.plot(valid['Close'], color = 'blue', label = 'Real Price')\r\n",
    "plt.plot(valid['Predictions'], color = 'red', label = 'Predicted Price')\r\n",
    "plt.title('RAJESHEXPO price prediction')\r\n",
    "plt.legend()\r\n",
    "plt.show()"
   ]
  },
  {
   "cell_type": "markdown",
   "metadata": {
    "id": "Jo2jPsWS4poF"
   },
   "source": [
    "#Predicting future value of stock"
   ]
  },
  {
   "cell_type": "code",
   "execution_count": 212,
   "metadata": {
    "executionInfo": {
     "elapsed": 1199,
     "status": "ok",
     "timestamp": 1609937950139,
     "user": {
      "displayName": "5072 Medha Mathur",
      "photoUrl": "https://lh3.googleusercontent.com/a-/AOh14GhU5rpc98_bHp-wBsi8gjk3rfPBSk5rV-xSzpRV=s64",
      "userId": "09694216789696746072"
     },
     "user_tz": -330
    },
    "id": "Mlg9wImKlNko"
   },
   "outputs": [],
   "source": [
    "look_back=30\r\n",
    "inputs = dataset[-look_back:].values\r\n",
    "inputs = inputs.reshape(-1,1)\r\n",
    "inputs  = scaler.transform(inputs)"
   ]
  },
  {
   "cell_type": "code",
   "execution_count": 213,
   "metadata": {
    "executionInfo": {
     "elapsed": 2389,
     "status": "ok",
     "timestamp": 1609937953691,
     "user": {
      "displayName": "5072 Medha Mathur",
      "photoUrl": "https://lh3.googleusercontent.com/a-/AOh14GhU5rpc98_bHp-wBsi8gjk3rfPBSk5rV-xSzpRV=s64",
      "userId": "09694216789696746072"
     },
     "user_tz": -330
    },
    "id": "C7ozIr1l3HYm"
   },
   "outputs": [],
   "source": [
    "forecast_list=[]\r\n",
    "for _ in range(30):\r\n",
    "  x = inputs[-look_back:]\r\n",
    "  x = np.reshape(x, (x.shape[1],x.shape[0],1))\r\n",
    "  forecast = model.predict(x)\r\n",
    "  forecast = scaler.inverse_transform(forecast)\r\n",
    "  inputs = scaler.inverse_transform(inputs)\r\n",
    "  inputs = np.append(inputs,forecast[0][0])\r\n",
    "  inputs = inputs.reshape(-1,1)\r\n",
    "  inputs  = scaler.transform(inputs)\r\n",
    "  forecast_list.append(forecast[0][0])"
   ]
  },
  {
   "cell_type": "code",
   "execution_count": 209,
   "metadata": {
    "colab": {
     "base_uri": "https://localhost:8080/"
    },
    "executionInfo": {
     "elapsed": 1048,
     "status": "ok",
     "timestamp": 1609937925447,
     "user": {
      "displayName": "5072 Medha Mathur",
      "photoUrl": "https://lh3.googleusercontent.com/a-/AOh14GhU5rpc98_bHp-wBsi8gjk3rfPBSk5rV-xSzpRV=s64",
      "userId": "09694216789696746072"
     },
     "user_tz": -330
    },
    "id": "SwWXqfIeiUCS",
    "outputId": "19d305c7-e2af-4f63-8da6-4e92918545c4"
   },
   "outputs": [
    {
     "data": {
      "text/plain": [
       "[Timestamp('2021-01-06 00:00:00', freq='D'),\n",
       " Timestamp('2021-01-07 00:00:00', freq='D'),\n",
       " Timestamp('2021-01-08 00:00:00', freq='D'),\n",
       " Timestamp('2021-01-09 00:00:00', freq='D'),\n",
       " Timestamp('2021-01-10 00:00:00', freq='D'),\n",
       " Timestamp('2021-01-11 00:00:00', freq='D'),\n",
       " Timestamp('2021-01-12 00:00:00', freq='D'),\n",
       " Timestamp('2021-01-13 00:00:00', freq='D'),\n",
       " Timestamp('2021-01-14 00:00:00', freq='D'),\n",
       " Timestamp('2021-01-15 00:00:00', freq='D'),\n",
       " Timestamp('2021-01-16 00:00:00', freq='D'),\n",
       " Timestamp('2021-01-17 00:00:00', freq='D'),\n",
       " Timestamp('2021-01-18 00:00:00', freq='D'),\n",
       " Timestamp('2021-01-19 00:00:00', freq='D'),\n",
       " Timestamp('2021-01-20 00:00:00', freq='D'),\n",
       " Timestamp('2021-01-21 00:00:00', freq='D'),\n",
       " Timestamp('2021-01-22 00:00:00', freq='D'),\n",
       " Timestamp('2021-01-23 00:00:00', freq='D'),\n",
       " Timestamp('2021-01-24 00:00:00', freq='D'),\n",
       " Timestamp('2021-01-25 00:00:00', freq='D'),\n",
       " Timestamp('2021-01-26 00:00:00', freq='D'),\n",
       " Timestamp('2021-01-27 00:00:00', freq='D'),\n",
       " Timestamp('2021-01-28 00:00:00', freq='D'),\n",
       " Timestamp('2021-01-29 00:00:00', freq='D'),\n",
       " Timestamp('2021-01-30 00:00:00', freq='D'),\n",
       " Timestamp('2021-01-31 00:00:00', freq='D'),\n",
       " Timestamp('2021-02-01 00:00:00', freq='D'),\n",
       " Timestamp('2021-02-02 00:00:00', freq='D'),\n",
       " Timestamp('2021-02-03 00:00:00', freq='D'),\n",
       " Timestamp('2021-02-04 00:00:00', freq='D')]"
      ]
     },
     "execution_count": 209,
     "metadata": {
      "tags": []
     },
     "output_type": "execute_result"
    }
   ],
   "source": [
    "last_date = dataset_raw['Date'].values[-1]\r\n",
    "prediction_dates = pd.date_range(last_date, periods=31).tolist()\r\n",
    "prediction_dates = prediction_dates[1:]\r\n",
    "prediction_dates"
   ]
  },
  {
   "cell_type": "code",
   "execution_count": 214,
   "metadata": {
    "colab": {
     "base_uri": "https://localhost:8080/",
     "height": 935
    },
    "executionInfo": {
     "elapsed": 1040,
     "status": "ok",
     "timestamp": 1609937957055,
     "user": {
      "displayName": "5072 Medha Mathur",
      "photoUrl": "https://lh3.googleusercontent.com/a-/AOh14GhU5rpc98_bHp-wBsi8gjk3rfPBSk5rV-xSzpRV=s64",
      "userId": "09694216789696746072"
     },
     "user_tz": -330
    },
    "id": "QjQzGwSkjP3a",
    "outputId": "d6f25810-7377-4ea3-d19f-4245a945072d"
   },
   "outputs": [
    {
     "data": {
      "text/html": [
       "<div>\n",
       "<style scoped>\n",
       "    .dataframe tbody tr th:only-of-type {\n",
       "        vertical-align: middle;\n",
       "    }\n",
       "\n",
       "    .dataframe tbody tr th {\n",
       "        vertical-align: top;\n",
       "    }\n",
       "\n",
       "    .dataframe thead th {\n",
       "        text-align: right;\n",
       "    }\n",
       "</style>\n",
       "<table border=\"1\" class=\"dataframe\">\n",
       "  <thead>\n",
       "    <tr style=\"text-align: right;\">\n",
       "      <th></th>\n",
       "      <th>Date</th>\n",
       "      <th>Predicted Close</th>\n",
       "    </tr>\n",
       "  </thead>\n",
       "  <tbody>\n",
       "    <tr>\n",
       "      <th>0</th>\n",
       "      <td>2021-01-06</td>\n",
       "      <td>487.185303</td>\n",
       "    </tr>\n",
       "    <tr>\n",
       "      <th>1</th>\n",
       "      <td>2021-01-07</td>\n",
       "      <td>487.496674</td>\n",
       "    </tr>\n",
       "    <tr>\n",
       "      <th>2</th>\n",
       "      <td>2021-01-08</td>\n",
       "      <td>488.313049</td>\n",
       "    </tr>\n",
       "    <tr>\n",
       "      <th>3</th>\n",
       "      <td>2021-01-09</td>\n",
       "      <td>488.993744</td>\n",
       "    </tr>\n",
       "    <tr>\n",
       "      <th>4</th>\n",
       "      <td>2021-01-10</td>\n",
       "      <td>489.385956</td>\n",
       "    </tr>\n",
       "    <tr>\n",
       "      <th>5</th>\n",
       "      <td>2021-01-11</td>\n",
       "      <td>489.479706</td>\n",
       "    </tr>\n",
       "    <tr>\n",
       "      <th>6</th>\n",
       "      <td>2021-01-12</td>\n",
       "      <td>489.295197</td>\n",
       "    </tr>\n",
       "    <tr>\n",
       "      <th>7</th>\n",
       "      <td>2021-01-13</td>\n",
       "      <td>488.859497</td>\n",
       "    </tr>\n",
       "    <tr>\n",
       "      <th>8</th>\n",
       "      <td>2021-01-14</td>\n",
       "      <td>488.352661</td>\n",
       "    </tr>\n",
       "    <tr>\n",
       "      <th>9</th>\n",
       "      <td>2021-01-15</td>\n",
       "      <td>487.794098</td>\n",
       "    </tr>\n",
       "    <tr>\n",
       "      <th>10</th>\n",
       "      <td>2021-01-16</td>\n",
       "      <td>487.245544</td>\n",
       "    </tr>\n",
       "    <tr>\n",
       "      <th>11</th>\n",
       "      <td>2021-01-17</td>\n",
       "      <td>486.566315</td>\n",
       "    </tr>\n",
       "    <tr>\n",
       "      <th>12</th>\n",
       "      <td>2021-01-18</td>\n",
       "      <td>485.830414</td>\n",
       "    </tr>\n",
       "    <tr>\n",
       "      <th>13</th>\n",
       "      <td>2021-01-19</td>\n",
       "      <td>484.901459</td>\n",
       "    </tr>\n",
       "    <tr>\n",
       "      <th>14</th>\n",
       "      <td>2021-01-20</td>\n",
       "      <td>483.897064</td>\n",
       "    </tr>\n",
       "    <tr>\n",
       "      <th>15</th>\n",
       "      <td>2021-01-21</td>\n",
       "      <td>482.865479</td>\n",
       "    </tr>\n",
       "    <tr>\n",
       "      <th>16</th>\n",
       "      <td>2021-01-22</td>\n",
       "      <td>481.678253</td>\n",
       "    </tr>\n",
       "    <tr>\n",
       "      <th>17</th>\n",
       "      <td>2021-01-23</td>\n",
       "      <td>480.433197</td>\n",
       "    </tr>\n",
       "    <tr>\n",
       "      <th>18</th>\n",
       "      <td>2021-01-24</td>\n",
       "      <td>479.193085</td>\n",
       "    </tr>\n",
       "    <tr>\n",
       "      <th>19</th>\n",
       "      <td>2021-01-25</td>\n",
       "      <td>477.942810</td>\n",
       "    </tr>\n",
       "    <tr>\n",
       "      <th>20</th>\n",
       "      <td>2021-01-26</td>\n",
       "      <td>476.534973</td>\n",
       "    </tr>\n",
       "    <tr>\n",
       "      <th>21</th>\n",
       "      <td>2021-01-27</td>\n",
       "      <td>475.087097</td>\n",
       "    </tr>\n",
       "    <tr>\n",
       "      <th>22</th>\n",
       "      <td>2021-01-28</td>\n",
       "      <td>473.657745</td>\n",
       "    </tr>\n",
       "    <tr>\n",
       "      <th>23</th>\n",
       "      <td>2021-01-29</td>\n",
       "      <td>472.195190</td>\n",
       "    </tr>\n",
       "    <tr>\n",
       "      <th>24</th>\n",
       "      <td>2021-01-30</td>\n",
       "      <td>470.722778</td>\n",
       "    </tr>\n",
       "    <tr>\n",
       "      <th>25</th>\n",
       "      <td>2021-01-31</td>\n",
       "      <td>469.237732</td>\n",
       "    </tr>\n",
       "    <tr>\n",
       "      <th>26</th>\n",
       "      <td>2021-02-01</td>\n",
       "      <td>467.766632</td>\n",
       "    </tr>\n",
       "    <tr>\n",
       "      <th>27</th>\n",
       "      <td>2021-02-02</td>\n",
       "      <td>466.351776</td>\n",
       "    </tr>\n",
       "    <tr>\n",
       "      <th>28</th>\n",
       "      <td>2021-02-03</td>\n",
       "      <td>464.938904</td>\n",
       "    </tr>\n",
       "    <tr>\n",
       "      <th>29</th>\n",
       "      <td>2021-02-04</td>\n",
       "      <td>463.572388</td>\n",
       "    </tr>\n",
       "  </tbody>\n",
       "</table>\n",
       "</div>"
      ],
      "text/plain": [
       "         Date  Predicted Close\n",
       "0  2021-01-06       487.185303\n",
       "1  2021-01-07       487.496674\n",
       "2  2021-01-08       488.313049\n",
       "3  2021-01-09       488.993744\n",
       "4  2021-01-10       489.385956\n",
       "5  2021-01-11       489.479706\n",
       "6  2021-01-12       489.295197\n",
       "7  2021-01-13       488.859497\n",
       "8  2021-01-14       488.352661\n",
       "9  2021-01-15       487.794098\n",
       "10 2021-01-16       487.245544\n",
       "11 2021-01-17       486.566315\n",
       "12 2021-01-18       485.830414\n",
       "13 2021-01-19       484.901459\n",
       "14 2021-01-20       483.897064\n",
       "15 2021-01-21       482.865479\n",
       "16 2021-01-22       481.678253\n",
       "17 2021-01-23       480.433197\n",
       "18 2021-01-24       479.193085\n",
       "19 2021-01-25       477.942810\n",
       "20 2021-01-26       476.534973\n",
       "21 2021-01-27       475.087097\n",
       "22 2021-01-28       473.657745\n",
       "23 2021-01-29       472.195190\n",
       "24 2021-01-30       470.722778\n",
       "25 2021-01-31       469.237732\n",
       "26 2021-02-01       467.766632\n",
       "27 2021-02-02       466.351776\n",
       "28 2021-02-03       464.938904\n",
       "29 2021-02-04       463.572388"
      ]
     },
     "execution_count": 214,
     "metadata": {
      "tags": []
     },
     "output_type": "execute_result"
    }
   ],
   "source": [
    "fpred=pd.DataFrame(list(zip(prediction_dates, forecast_list)), \r\n",
    "               columns =['Date', 'Predicted Close']) \r\n",
    "fpred"
   ]
  },
  {
   "cell_type": "code",
   "execution_count": 215,
   "metadata": {
    "colab": {
     "base_uri": "https://localhost:8080/",
     "height": 402
    },
    "executionInfo": {
     "elapsed": 1400,
     "status": "ok",
     "timestamp": 1609937961397,
     "user": {
      "displayName": "5072 Medha Mathur",
      "photoUrl": "https://lh3.googleusercontent.com/a-/AOh14GhU5rpc98_bHp-wBsi8gjk3rfPBSk5rV-xSzpRV=s64",
      "userId": "09694216789696746072"
     },
     "user_tz": -330
    },
    "id": "o0hb10Pq4oeQ",
    "outputId": "f3483c7f-3555-408d-b91f-6afc431a7f41"
   },
   "outputs": [
    {
     "data": {
      "text/plain": [
       "<Figure size 648x360 with 0 Axes>"
      ]
     },
     "metadata": {
      "tags": []
     },
     "output_type": "display_data"
    },
    {
     "data": {
      "image/png": "[encoded data removed]",
      "text/plain": [
       "<Figure size 648x360 with 1 Axes>"
      ]
     },
     "metadata": {
      "needs_background": "light",
      "tags": []
     },
     "output_type": "display_data"
    }
   ],
   "source": [
    "plt.figure(figsize=(9,5))\r\n",
    "fpred.plot(x='Date',label = 'Predicted Price')\r\n",
    "plt.title('RAJESHEXPO price prediction')\r\n",
    "plt.legend()\r\n",
    "plt.show()"
   ]
  },
  {
   "cell_type": "code",
   "execution_count": 191,
   "metadata": {
    "colab": {
     "base_uri": "https://localhost:8080/",
     "height": 86
    },
    "executionInfo": {
     "elapsed": 3908,
     "status": "ok",
     "timestamp": 1609937653815,
     "user": {
      "displayName": "5072 Medha Mathur",
      "photoUrl": "https://lh3.googleusercontent.com/a-/AOh14GhU5rpc98_bHp-wBsi8gjk3rfPBSk5rV-xSzpRV=s64",
      "userId": "09694216789696746072"
     },
     "user_tz": -330
    },
    "id": "4LX_dEdUnZAC",
    "outputId": "e07d29f5-2f8b-43d9-9958-9233bef49f4d"
   },
   "outputs": [
    {
     "name": "stdout",
     "output_type": "stream",
     "text": [
      "[jovian] Detected Colab notebook...\u001b[0m\n",
      "[jovian] Uploading colab notebook to Jovian...\u001b[0m\n",
      "[jovian] Committed successfully! https://jovian.ai/medhamathur27/nifty-50-stock-price-prediction-rajeshexpo\u001b[0m\n"
     ]
    },
    {
     "data": {
      "application/vnd.google.colaboratory.intrinsic+json": {
       "type": "string"
      },
      "text/plain": [
       "'https://jovian.ai/medhamathur27/nifty-50-stock-price-prediction-rajeshexpo'"
      ]
     },
     "execution_count": 191,
     "metadata": {
      "tags": []
     },
     "output_type": "execute_result"
    }
   ],
   "source": [
    "jovian.commit(project=project_name, environment=None)"
   ]
  }
 ],
 "metadata": {
  "colab": {
   "collapsed_sections": [],
   "name": "rajeshexpo.ipynb",
   "provenance": []
  },
  "language_info": {
   "codemirror_mode": {
    "name": "ipython",
    "version": 3
   },
   "file_extension": ".py",
   "mimetype": "text/x-python",
   "name": "python",
   "nbconvert_exporter": "python",
   "pygments_lexer": "ipython3",
   "version": "3.7.6"
  }
 },
 "nbformat": 4,
 "nbformat_minor": 0
}